{
 "cells": [
  {
   "cell_type": "markdown",
   "id": "1ff1020a",
   "metadata": {
    "cellId": "pbwq209p45adtxfy5ofecd",
    "deletable": false,
    "editable": false,
    "execution_id": "7cb94123-6481-41de-973a-91abe63db303",
    "id": "1ff1020a",
    "tags": [
     "270beaa0-19d4-4537-bff1-11e2aaed886c"
    ]
   },
   "source": [
    "# Прекод\n",
    "\n",
    "# Сборный проект-4\n",
    "\n",
    "Вам поручено разработать демонстрационную версию поиска изображений по запросу.\n",
    "\n",
    "Для демонстрационной версии нужно обучить модель, которая получит векторное представление изображения, векторное представление текста, а на выходе выдаст число от 0 до 1 — покажет, насколько текст и картинка подходят друг другу.\n",
    "\n",
    "### Описание данных\n",
    "\n",
    "Данные лежат в папке `/datasets/image_search/` или доступны по [ссылке](https://code.s3.yandex.net/datasets/dsplus_integrated_project_4.zip).\n",
    "\n",
    "В файле `train_dataset.csv` находится информация, необходимая для обучения: имя файла изображения, идентификатор описания и текст описания. Для одной картинки может быть доступно до 5 описаний. Идентификатор описания имеет формат `<имя файла изображения>#<порядковый номер описания>`.\n",
    "\n",
    "В папке `train_images` содержатся изображения для тренировки модели.\n",
    "\n",
    "В файле `CrowdAnnotations.tsv` — данные по соответствию изображения и описания, полученные с помощью краудсорсинга. Номера колонок и соответствующий тип данных:\n",
    "\n",
    "1. Имя файла изображения.\n",
    "2. Идентификатор описания.\n",
    "3. Доля людей, подтвердивших, что описание соответствует изображению.\n",
    "4. Количество человек, подтвердивших, что описание соответствует изображению.\n",
    "5. Количество человек, подтвердивших, что описание не соответствует изображению.\n",
    "\n",
    "В файле `ExpertAnnotations.tsv` содержатся данные по соответствию изображения и описания, полученные в результате опроса экспертов. Номера колонок и соответствующий тип данных:\n",
    "\n",
    "1. Имя файла изображения.\n",
    "2. Идентификатор описания.\n",
    "\n",
    "3, 4, 5 — оценки трёх экспертов.\n",
    "\n",
    "Эксперты ставят оценки по шкале от 1 до 4, где 1 — изображение и запрос совершенно не соответствуют друг другу, 2 — запрос содержит элементы описания изображения, но в целом запрос тексту не соответствует, 3 — запрос и текст соответствуют с точностью до некоторых деталей, 4 — запрос и текст соответствуют полностью.\n",
    "\n",
    "В файле `test_queries.csv` находится информация, необходимая для тестирования: идентификатор запроса, текст запроса и релевантное изображение. Для одной картинки может быть доступно до 5 описаний. Идентификатор описания имеет формат `<имя файла изображения>#<порядковый номер описания>`.\n",
    "\n",
    "В папке `test_images` содержатся изображения для тестирования модели."
   ]
  },
  {
   "cell_type": "markdown",
   "id": "99489b26",
   "metadata": {
    "cellId": "n6vkjcacwu39w29bfocxt",
    "execution_id": "1b731a18-3394-4b62-b3f7-018692c2d6de",
    "id": "99489b26"
   },
   "source": [
    "## 1. Исследовательский анализ данных\n",
    "\n",
    "Наш датасет содержит экспертные и краудсорсинговые оценки соответствия текста и изображения.\n",
    "\n",
    "В файле с экспертными мнениями для каждой пары изображение-текст имеются оценки от трёх специалистов. Для решения задачи вы должны эти оценки агрегировать — превратить в одну. Существует несколько способов агрегации оценок, самый простой — голосование большинства: за какую оценку проголосовала большая часть экспертов (в нашем случае 2 или 3), та оценка и ставится как итоговая. Поскольку число экспертов меньше числа классов, может случиться, что каждый эксперт поставит разные оценки, например: 1, 4, 2. В таком случае данную пару изображение-текст можно исключить из датасета.\n",
    "\n",
    "Вы можете воспользоваться другим методом агрегации оценок или придумать свой.\n",
    "\n",
    "В файле с краудсорсинговыми оценками информация расположена в таком порядке:\n",
    "\n",
    "1. Доля исполнителей, подтвердивших, что текст **соответствует** картинке.\n",
    "2. Количество исполнителей, подтвердивших, что текст **соответствует** картинке.\n",
    "3. Количество исполнителей, подтвердивших, что текст **не соответствует** картинке.\n",
    "\n",
    "После анализа экспертных и краудсорсинговых оценок выберите либо одну из них, либо объедините их в одну по какому-то критерию: например, оценка эксперта принимается с коэффициентом 0.6, а крауда — с коэффициентом 0.4.\n",
    "\n",
    "Ваша модель должна возвращать на выходе вероятность соответствия изображения тексту, поэтому целевая переменная должна иметь значения от 0 до 1.\n"
   ]
  },
  {
   "cell_type": "code",
   "execution_count": null,
   "id": "dff6a9aa",
   "metadata": {},
   "outputs": [],
   "source": [
    "# # Install spaCy (run in terminal/prompt)\n",
    "# import sys\n",
    "# !{sys.executable} -m pip install spacy\n",
    "# # Download spaCy's  'en' Model\n",
    "# !{sys.executable} -m spacy download en"
   ]
  },
  {
   "cell_type": "code",
   "execution_count": 24,
   "id": "8abec21f",
   "metadata": {},
   "outputs": [
    {
     "name": "stdout",
     "output_type": "stream",
     "text": [
      "Requirement already satisfied: spacy in c:\\programdata\\anaconda3\\lib\\site-packages (3.7.3)\n",
      "Requirement already satisfied: spacy-legacy<3.1.0,>=3.0.11 in c:\\programdata\\anaconda3\\lib\\site-packages (from spacy) (3.0.12)\n",
      "Requirement already satisfied: spacy-loggers<2.0.0,>=1.0.0 in c:\\programdata\\anaconda3\\lib\\site-packages (from spacy) (1.0.5)\n",
      "Requirement already satisfied: murmurhash<1.1.0,>=0.28.0 in c:\\programdata\\anaconda3\\lib\\site-packages (from spacy) (1.0.10)\n",
      "Requirement already satisfied: cymem<2.1.0,>=2.0.2 in c:\\programdata\\anaconda3\\lib\\site-packages (from spacy) (2.0.8)\n",
      "Requirement already satisfied: preshed<3.1.0,>=3.0.2 in c:\\programdata\\anaconda3\\lib\\site-packages (from spacy) (3.0.9)\n",
      "Requirement already satisfied: thinc<8.3.0,>=8.2.2 in c:\\programdata\\anaconda3\\lib\\site-packages (from spacy) (8.2.2)\n",
      "Requirement already satisfied: wasabi<1.2.0,>=0.9.1 in c:\\programdata\\anaconda3\\lib\\site-packages (from spacy) (1.1.2)\n",
      "Requirement already satisfied: srsly<3.0.0,>=2.4.3 in c:\\programdata\\anaconda3\\lib\\site-packages (from spacy) (2.4.8)\n",
      "Requirement already satisfied: catalogue<2.1.0,>=2.0.6 in c:\\programdata\\anaconda3\\lib\\site-packages (from spacy) (2.0.10)\n",
      "Requirement already satisfied: weasel<0.4.0,>=0.1.0 in c:\\programdata\\anaconda3\\lib\\site-packages (from spacy) (0.3.4)\n",
      "Requirement already satisfied: typer<0.10.0,>=0.3.0 in c:\\programdata\\anaconda3\\lib\\site-packages (from spacy) (0.9.0)\n",
      "Requirement already satisfied: smart-open<7.0.0,>=5.2.1 in c:\\programdata\\anaconda3\\lib\\site-packages (from spacy) (5.2.1)\n",
      "Requirement already satisfied: tqdm<5.0.0,>=4.38.0 in c:\\programdata\\anaconda3\\lib\\site-packages (from spacy) (4.65.0)\n",
      "Requirement already satisfied: requests<3.0.0,>=2.13.0 in c:\\programdata\\anaconda3\\lib\\site-packages (from spacy) (2.29.0)\n",
      "Requirement already satisfied: pydantic!=1.8,!=1.8.1,<3.0.0,>=1.7.4 in c:\\programdata\\anaconda3\\lib\\site-packages (from spacy) (1.10.12)\n",
      "Requirement already satisfied: jinja2 in c:\\programdata\\anaconda3\\lib\\site-packages (from spacy) (3.1.2)\n",
      "Requirement already satisfied: setuptools in c:\\programdata\\anaconda3\\lib\\site-packages (from spacy) (67.8.0)\n",
      "Requirement already satisfied: packaging>=20.0 in c:\\programdata\\anaconda3\\lib\\site-packages (from spacy) (23.0)\n",
      "Requirement already satisfied: langcodes<4.0.0,>=3.2.0 in c:\\programdata\\anaconda3\\lib\\site-packages (from spacy) (3.3.0)\n",
      "Requirement already satisfied: numpy>=1.19.0 in c:\\programdata\\anaconda3\\lib\\site-packages (from spacy) (1.24.3)\n",
      "Requirement already satisfied: typing-extensions>=4.2.0 in c:\\programdata\\anaconda3\\lib\\site-packages (from pydantic!=1.8,!=1.8.1,<3.0.0,>=1.7.4->spacy) (4.6.3)\n",
      "Requirement already satisfied: charset-normalizer<4,>=2 in c:\\programdata\\anaconda3\\lib\\site-packages (from requests<3.0.0,>=2.13.0->spacy) (2.0.4)\n",
      "Requirement already satisfied: idna<4,>=2.5 in c:\\programdata\\anaconda3\\lib\\site-packages (from requests<3.0.0,>=2.13.0->spacy) (3.4)\n",
      "Requirement already satisfied: urllib3<1.27,>=1.21.1 in c:\\programdata\\anaconda3\\lib\\site-packages (from requests<3.0.0,>=2.13.0->spacy) (1.26.16)\n",
      "Requirement already satisfied: certifi>=2017.4.17 in c:\\programdata\\anaconda3\\lib\\site-packages (from requests<3.0.0,>=2.13.0->spacy) (2023.7.22)\n",
      "Requirement already satisfied: blis<0.8.0,>=0.7.8 in c:\\programdata\\anaconda3\\lib\\site-packages (from thinc<8.3.0,>=8.2.2->spacy) (0.7.11)\n",
      "Requirement already satisfied: confection<1.0.0,>=0.0.1 in c:\\programdata\\anaconda3\\lib\\site-packages (from thinc<8.3.0,>=8.2.2->spacy) (0.1.4)\n",
      "Requirement already satisfied: colorama in c:\\programdata\\anaconda3\\lib\\site-packages (from tqdm<5.0.0,>=4.38.0->spacy) (0.4.6)\n",
      "Requirement already satisfied: click<9.0.0,>=7.1.1 in c:\\programdata\\anaconda3\\lib\\site-packages (from typer<0.10.0,>=0.3.0->spacy) (8.0.4)\n",
      "Requirement already satisfied: cloudpathlib<0.17.0,>=0.7.0 in c:\\programdata\\anaconda3\\lib\\site-packages (from weasel<0.4.0,>=0.1.0->spacy) (0.16.0)\n",
      "Requirement already satisfied: MarkupSafe>=2.0 in c:\\programdata\\anaconda3\\lib\\site-packages (from jinja2->spacy) (2.1.1)\n",
      "Collecting en-core-web-sm==3.7.1\n",
      "  Downloading https://github.com/explosion/spacy-models/releases/download/en_core_web_sm-3.7.1/en_core_web_sm-3.7.1-py3-none-any.whl (12.8 MB)\n",
      "                                              0.0/12.8 MB ? eta -:--:--\n",
      "                                              0.1/12.8 MB 1.7 MB/s eta 0:00:08\n",
      "                                              0.2/12.8 MB 2.9 MB/s eta 0:00:05\n",
      "     -                                        0.6/12.8 MB 4.3 MB/s eta 0:00:03\n",
      "     --                                       0.9/12.8 MB 4.5 MB/s eta 0:00:03\n",
      "     -----                                    1.7/12.8 MB 7.8 MB/s eta 0:00:02\n",
      "     ---------                                3.2/12.8 MB 11.3 MB/s eta 0:00:01\n",
      "     ------------------                       5.9/12.8 MB 18.0 MB/s eta 0:00:01\n",
      "     -----------------------------            9.5/12.8 MB 26.5 MB/s eta 0:00:01\n",
      "     -----------------------------------     11.7/12.8 MB 54.4 MB/s eta 0:00:01\n",
      "     --------------------------------------- 12.8/12.8 MB 54.4 MB/s eta 0:00:00\n",
      "Requirement already satisfied: spacy<3.8.0,>=3.7.2 in c:\\programdata\\anaconda3\\lib\\site-packages (from en-core-web-sm==3.7.1) (3.7.3)\n",
      "Requirement already satisfied: spacy-legacy<3.1.0,>=3.0.11 in c:\\programdata\\anaconda3\\lib\\site-packages (from spacy<3.8.0,>=3.7.2->en-core-web-sm==3.7.1) (3.0.12)\n",
      "Requirement already satisfied: spacy-loggers<2.0.0,>=1.0.0 in c:\\programdata\\anaconda3\\lib\\site-packages (from spacy<3.8.0,>=3.7.2->en-core-web-sm==3.7.1) (1.0.5)\n",
      "Requirement already satisfied: murmurhash<1.1.0,>=0.28.0 in c:\\programdata\\anaconda3\\lib\\site-packages (from spacy<3.8.0,>=3.7.2->en-core-web-sm==3.7.1) (1.0.10)\n",
      "Requirement already satisfied: cymem<2.1.0,>=2.0.2 in c:\\programdata\\anaconda3\\lib\\site-packages (from spacy<3.8.0,>=3.7.2->en-core-web-sm==3.7.1) (2.0.8)\n",
      "Requirement already satisfied: preshed<3.1.0,>=3.0.2 in c:\\programdata\\anaconda3\\lib\\site-packages (from spacy<3.8.0,>=3.7.2->en-core-web-sm==3.7.1) (3.0.9)\n",
      "Requirement already satisfied: thinc<8.3.0,>=8.2.2 in c:\\programdata\\anaconda3\\lib\\site-packages (from spacy<3.8.0,>=3.7.2->en-core-web-sm==3.7.1) (8.2.2)\n",
      "Requirement already satisfied: wasabi<1.2.0,>=0.9.1 in c:\\programdata\\anaconda3\\lib\\site-packages (from spacy<3.8.0,>=3.7.2->en-core-web-sm==3.7.1) (1.1.2)\n",
      "Requirement already satisfied: srsly<3.0.0,>=2.4.3 in c:\\programdata\\anaconda3\\lib\\site-packages (from spacy<3.8.0,>=3.7.2->en-core-web-sm==3.7.1) (2.4.8)\n",
      "Requirement already satisfied: catalogue<2.1.0,>=2.0.6 in c:\\programdata\\anaconda3\\lib\\site-packages (from spacy<3.8.0,>=3.7.2->en-core-web-sm==3.7.1) (2.0.10)\n",
      "Requirement already satisfied: weasel<0.4.0,>=0.1.0 in c:\\programdata\\anaconda3\\lib\\site-packages (from spacy<3.8.0,>=3.7.2->en-core-web-sm==3.7.1) (0.3.4)\n",
      "Requirement already satisfied: typer<0.10.0,>=0.3.0 in c:\\programdata\\anaconda3\\lib\\site-packages (from spacy<3.8.0,>=3.7.2->en-core-web-sm==3.7.1) (0.9.0)\n",
      "Requirement already satisfied: smart-open<7.0.0,>=5.2.1 in c:\\programdata\\anaconda3\\lib\\site-packages (from spacy<3.8.0,>=3.7.2->en-core-web-sm==3.7.1) (5.2.1)\n",
      "Requirement already satisfied: tqdm<5.0.0,>=4.38.0 in c:\\programdata\\anaconda3\\lib\\site-packages (from spacy<3.8.0,>=3.7.2->en-core-web-sm==3.7.1) (4.65.0)\n",
      "Requirement already satisfied: requests<3.0.0,>=2.13.0 in c:\\programdata\\anaconda3\\lib\\site-packages (from spacy<3.8.0,>=3.7.2->en-core-web-sm==3.7.1) (2.29.0)\n",
      "Requirement already satisfied: pydantic!=1.8,!=1.8.1,<3.0.0,>=1.7.4 in c:\\programdata\\anaconda3\\lib\\site-packages (from spacy<3.8.0,>=3.7.2->en-core-web-sm==3.7.1) (1.10.12)\n",
      "Requirement already satisfied: jinja2 in c:\\programdata\\anaconda3\\lib\\site-packages (from spacy<3.8.0,>=3.7.2->en-core-web-sm==3.7.1) (3.1.2)\n",
      "Requirement already satisfied: setuptools in c:\\programdata\\anaconda3\\lib\\site-packages (from spacy<3.8.0,>=3.7.2->en-core-web-sm==3.7.1) (67.8.0)\n",
      "Requirement already satisfied: packaging>=20.0 in c:\\programdata\\anaconda3\\lib\\site-packages (from spacy<3.8.0,>=3.7.2->en-core-web-sm==3.7.1) (23.0)\n",
      "Requirement already satisfied: langcodes<4.0.0,>=3.2.0 in c:\\programdata\\anaconda3\\lib\\site-packages (from spacy<3.8.0,>=3.7.2->en-core-web-sm==3.7.1) (3.3.0)\n",
      "Requirement already satisfied: numpy>=1.19.0 in c:\\programdata\\anaconda3\\lib\\site-packages (from spacy<3.8.0,>=3.7.2->en-core-web-sm==3.7.1) (1.24.3)\n",
      "Requirement already satisfied: typing-extensions>=4.2.0 in c:\\programdata\\anaconda3\\lib\\site-packages (from pydantic!=1.8,!=1.8.1,<3.0.0,>=1.7.4->spacy<3.8.0,>=3.7.2->en-core-web-sm==3.7.1) (4.6.3)\n",
      "Requirement already satisfied: charset-normalizer<4,>=2 in c:\\programdata\\anaconda3\\lib\\site-packages (from requests<3.0.0,>=2.13.0->spacy<3.8.0,>=3.7.2->en-core-web-sm==3.7.1) (2.0.4)\n",
      "Requirement already satisfied: idna<4,>=2.5 in c:\\programdata\\anaconda3\\lib\\site-packages (from requests<3.0.0,>=2.13.0->spacy<3.8.0,>=3.7.2->en-core-web-sm==3.7.1) (3.4)\n",
      "Requirement already satisfied: urllib3<1.27,>=1.21.1 in c:\\programdata\\anaconda3\\lib\\site-packages (from requests<3.0.0,>=2.13.0->spacy<3.8.0,>=3.7.2->en-core-web-sm==3.7.1) (1.26.16)\n",
      "Requirement already satisfied: certifi>=2017.4.17 in c:\\programdata\\anaconda3\\lib\\site-packages (from requests<3.0.0,>=2.13.0->spacy<3.8.0,>=3.7.2->en-core-web-sm==3.7.1) (2023.7.22)\n",
      "Requirement already satisfied: blis<0.8.0,>=0.7.8 in c:\\programdata\\anaconda3\\lib\\site-packages (from thinc<8.3.0,>=8.2.2->spacy<3.8.0,>=3.7.2->en-core-web-sm==3.7.1) (0.7.11)\n",
      "Requirement already satisfied: confection<1.0.0,>=0.0.1 in c:\\programdata\\anaconda3\\lib\\site-packages (from thinc<8.3.0,>=8.2.2->spacy<3.8.0,>=3.7.2->en-core-web-sm==3.7.1) (0.1.4)\n",
      "Requirement already satisfied: colorama in c:\\programdata\\anaconda3\\lib\\site-packages (from tqdm<5.0.0,>=4.38.0->spacy<3.8.0,>=3.7.2->en-core-web-sm==3.7.1) (0.4.6)\n",
      "Requirement already satisfied: click<9.0.0,>=7.1.1 in c:\\programdata\\anaconda3\\lib\\site-packages (from typer<0.10.0,>=0.3.0->spacy<3.8.0,>=3.7.2->en-core-web-sm==3.7.1) (8.0.4)\n",
      "Requirement already satisfied: cloudpathlib<0.17.0,>=0.7.0 in c:\\programdata\\anaconda3\\lib\\site-packages (from weasel<0.4.0,>=0.1.0->spacy<3.8.0,>=3.7.2->en-core-web-sm==3.7.1) (0.16.0)\n",
      "Requirement already satisfied: MarkupSafe>=2.0 in c:\\programdata\\anaconda3\\lib\\site-packages (from jinja2->spacy<3.8.0,>=3.7.2->en-core-web-sm==3.7.1) (2.1.1)\n",
      "\u001b[38;5;2m[+] Download and installation successful\u001b[0m\n",
      "You can now load the package via spacy.load('en_core_web_sm')\n",
      "Requirement already satisfied: spacy[transformers] in c:\\programdata\\anaconda3\\lib\\site-packages (3.7.3)\n",
      "Requirement already satisfied: spacy-legacy<3.1.0,>=3.0.11 in c:\\programdata\\anaconda3\\lib\\site-packages (from spacy[transformers]) (3.0.12)\n",
      "Requirement already satisfied: spacy-loggers<2.0.0,>=1.0.0 in c:\\programdata\\anaconda3\\lib\\site-packages (from spacy[transformers]) (1.0.5)\n",
      "Requirement already satisfied: murmurhash<1.1.0,>=0.28.0 in c:\\programdata\\anaconda3\\lib\\site-packages (from spacy[transformers]) (1.0.10)\n",
      "Requirement already satisfied: cymem<2.1.0,>=2.0.2 in c:\\programdata\\anaconda3\\lib\\site-packages (from spacy[transformers]) (2.0.8)\n",
      "Requirement already satisfied: preshed<3.1.0,>=3.0.2 in c:\\programdata\\anaconda3\\lib\\site-packages (from spacy[transformers]) (3.0.9)\n",
      "Requirement already satisfied: thinc<8.3.0,>=8.2.2 in c:\\programdata\\anaconda3\\lib\\site-packages (from spacy[transformers]) (8.2.2)\n",
      "Requirement already satisfied: wasabi<1.2.0,>=0.9.1 in c:\\programdata\\anaconda3\\lib\\site-packages (from spacy[transformers]) (1.1.2)\n",
      "Requirement already satisfied: srsly<3.0.0,>=2.4.3 in c:\\programdata\\anaconda3\\lib\\site-packages (from spacy[transformers]) (2.4.8)\n",
      "Requirement already satisfied: catalogue<2.1.0,>=2.0.6 in c:\\programdata\\anaconda3\\lib\\site-packages (from spacy[transformers]) (2.0.10)\n",
      "Requirement already satisfied: weasel<0.4.0,>=0.1.0 in c:\\programdata\\anaconda3\\lib\\site-packages (from spacy[transformers]) (0.3.4)\n",
      "Requirement already satisfied: typer<0.10.0,>=0.3.0 in c:\\programdata\\anaconda3\\lib\\site-packages (from spacy[transformers]) (0.9.0)\n",
      "Requirement already satisfied: smart-open<7.0.0,>=5.2.1 in c:\\programdata\\anaconda3\\lib\\site-packages (from spacy[transformers]) (5.2.1)\n",
      "Requirement already satisfied: tqdm<5.0.0,>=4.38.0 in c:\\programdata\\anaconda3\\lib\\site-packages (from spacy[transformers]) (4.65.0)\n",
      "Requirement already satisfied: requests<3.0.0,>=2.13.0 in c:\\programdata\\anaconda3\\lib\\site-packages (from spacy[transformers]) (2.29.0)\n",
      "Requirement already satisfied: pydantic!=1.8,!=1.8.1,<3.0.0,>=1.7.4 in c:\\programdata\\anaconda3\\lib\\site-packages (from spacy[transformers]) (1.10.12)\n",
      "Requirement already satisfied: jinja2 in c:\\programdata\\anaconda3\\lib\\site-packages (from spacy[transformers]) (3.1.2)\n",
      "Requirement already satisfied: setuptools in c:\\programdata\\anaconda3\\lib\\site-packages (from spacy[transformers]) (67.8.0)\n",
      "Requirement already satisfied: packaging>=20.0 in c:\\programdata\\anaconda3\\lib\\site-packages (from spacy[transformers]) (23.0)\n",
      "Requirement already satisfied: langcodes<4.0.0,>=3.2.0 in c:\\programdata\\anaconda3\\lib\\site-packages (from spacy[transformers]) (3.3.0)\n",
      "Requirement already satisfied: numpy>=1.19.0 in c:\\programdata\\anaconda3\\lib\\site-packages (from spacy[transformers]) (1.24.3)\n",
      "Collecting spacy-transformers<1.4.0,>=1.1.2 (from spacy[transformers])\n",
      "  Downloading spacy_transformers-1.3.4-cp311-cp311-win_amd64.whl (343 kB)\n",
      "                                              0.0/343.7 kB ? eta -:--:--\n",
      "     ------                                  61.4/343.7 kB 1.1 MB/s eta 0:00:01\n",
      "     ------------------------               225.3/343.7 kB 2.3 MB/s eta 0:00:01\n",
      "     -------------------------------------- 343.7/343.7 kB 2.7 MB/s eta 0:00:00\n",
      "Requirement already satisfied: typing-extensions>=4.2.0 in c:\\programdata\\anaconda3\\lib\\site-packages (from pydantic!=1.8,!=1.8.1,<3.0.0,>=1.7.4->spacy[transformers]) (4.6.3)\n",
      "Requirement already satisfied: charset-normalizer<4,>=2 in c:\\programdata\\anaconda3\\lib\\site-packages (from requests<3.0.0,>=2.13.0->spacy[transformers]) (2.0.4)\n",
      "Requirement already satisfied: idna<4,>=2.5 in c:\\programdata\\anaconda3\\lib\\site-packages (from requests<3.0.0,>=2.13.0->spacy[transformers]) (3.4)\n",
      "Requirement already satisfied: urllib3<1.27,>=1.21.1 in c:\\programdata\\anaconda3\\lib\\site-packages (from requests<3.0.0,>=2.13.0->spacy[transformers]) (1.26.16)\n",
      "Requirement already satisfied: certifi>=2017.4.17 in c:\\programdata\\anaconda3\\lib\\site-packages (from requests<3.0.0,>=2.13.0->spacy[transformers]) (2023.7.22)\n",
      "Collecting transformers<4.37.0,>=3.4.0 (from spacy-transformers<1.4.0,>=1.1.2->spacy[transformers])\n",
      "  Downloading transformers-4.36.2-py3-none-any.whl (8.2 MB)\n",
      "                                              0.0/8.2 MB ? eta -:--:--\n",
      "     --                                       0.5/8.2 MB 10.7 MB/s eta 0:00:01\n",
      "     -----                                    1.0/8.2 MB 10.9 MB/s eta 0:00:01\n",
      "     ----------                               2.2/8.2 MB 15.3 MB/s eta 0:00:01\n",
      "     ---------------------                    4.5/8.2 MB 24.1 MB/s eta 0:00:01\n",
      "     -----------------------------------      7.2/8.2 MB 30.9 MB/s eta 0:00:01\n",
      "     ---------------------------------------- 8.2/8.2 MB 30.9 MB/s eta 0:00:00\n",
      "Requirement already satisfied: torch>=1.8.0 in c:\\programdata\\anaconda3\\lib\\site-packages (from spacy-transformers<1.4.0,>=1.1.2->spacy[transformers]) (2.1.2)\n",
      "Collecting spacy-alignments<1.0.0,>=0.7.2 (from spacy-transformers<1.4.0,>=1.1.2->spacy[transformers])\n",
      "  Downloading spacy_alignments-0.9.1-cp311-cp311-win_amd64.whl (187 kB)\n",
      "                                              0.0/187.7 kB ? eta -:--:--\n",
      "     ---------------------------------------- 187.7/187.7 kB ? eta 0:00:00\n",
      "Requirement already satisfied: blis<0.8.0,>=0.7.8 in c:\\programdata\\anaconda3\\lib\\site-packages (from thinc<8.3.0,>=8.2.2->spacy[transformers]) (0.7.11)\n",
      "Requirement already satisfied: confection<1.0.0,>=0.0.1 in c:\\programdata\\anaconda3\\lib\\site-packages (from thinc<8.3.0,>=8.2.2->spacy[transformers]) (0.1.4)\n",
      "Requirement already satisfied: colorama in c:\\programdata\\anaconda3\\lib\\site-packages (from tqdm<5.0.0,>=4.38.0->spacy[transformers]) (0.4.6)\n",
      "Requirement already satisfied: click<9.0.0,>=7.1.1 in c:\\programdata\\anaconda3\\lib\\site-packages (from typer<0.10.0,>=0.3.0->spacy[transformers]) (8.0.4)\n",
      "Requirement already satisfied: cloudpathlib<0.17.0,>=0.7.0 in c:\\programdata\\anaconda3\\lib\\site-packages (from weasel<0.4.0,>=0.1.0->spacy[transformers]) (0.16.0)\n",
      "Requirement already satisfied: MarkupSafe>=2.0 in c:\\programdata\\anaconda3\\lib\\site-packages (from jinja2->spacy[transformers]) (2.1.1)\n",
      "Requirement already satisfied: filelock in c:\\programdata\\anaconda3\\lib\\site-packages (from torch>=1.8.0->spacy-transformers<1.4.0,>=1.1.2->spacy[transformers]) (3.12.2)\n",
      "Requirement already satisfied: sympy in c:\\programdata\\anaconda3\\lib\\site-packages (from torch>=1.8.0->spacy-transformers<1.4.0,>=1.1.2->spacy[transformers]) (1.11.1)\n",
      "Requirement already satisfied: networkx in c:\\programdata\\anaconda3\\lib\\site-packages (from torch>=1.8.0->spacy-transformers<1.4.0,>=1.1.2->spacy[transformers]) (2.8.4)\n",
      "Requirement already satisfied: fsspec in c:\\programdata\\anaconda3\\lib\\site-packages (from torch>=1.8.0->spacy-transformers<1.4.0,>=1.1.2->spacy[transformers]) (2023.12.2)\n",
      "Requirement already satisfied: huggingface-hub<1.0,>=0.19.3 in c:\\programdata\\anaconda3\\lib\\site-packages (from transformers<4.37.0,>=3.4.0->spacy-transformers<1.4.0,>=1.1.2->spacy[transformers]) (0.20.3)\n",
      "Requirement already satisfied: pyyaml>=5.1 in c:\\programdata\\anaconda3\\lib\\site-packages (from transformers<4.37.0,>=3.4.0->spacy-transformers<1.4.0,>=1.1.2->spacy[transformers]) (6.0)\n",
      "Requirement already satisfied: regex!=2019.12.17 in c:\\programdata\\anaconda3\\lib\\site-packages (from transformers<4.37.0,>=3.4.0->spacy-transformers<1.4.0,>=1.1.2->spacy[transformers]) (2022.7.9)\n",
      "Requirement already satisfied: tokenizers<0.19,>=0.14 in c:\\programdata\\anaconda3\\lib\\site-packages (from transformers<4.37.0,>=3.4.0->spacy-transformers<1.4.0,>=1.1.2->spacy[transformers]) (0.15.1)\n",
      "Requirement already satisfied: safetensors>=0.3.1 in c:\\programdata\\anaconda3\\lib\\site-packages (from transformers<4.37.0,>=3.4.0->spacy-transformers<1.4.0,>=1.1.2->spacy[transformers]) (0.4.2)\n",
      "Requirement already satisfied: mpmath>=0.19 in c:\\programdata\\anaconda3\\lib\\site-packages (from sympy->torch>=1.8.0->spacy-transformers<1.4.0,>=1.1.2->spacy[transformers]) (1.2.1)\n",
      "Installing collected packages: spacy-alignments, transformers, spacy-transformers\n",
      "  Attempting uninstall: transformers\n",
      "    Found existing installation: transformers 4.38.0.dev0\n",
      "    Uninstalling transformers-4.38.0.dev0:\n",
      "      Successfully uninstalled transformers-4.38.0.dev0\n",
      "Successfully installed spacy-alignments-0.9.1 spacy-transformers-1.3.4 transformers-4.36.2\n",
      "Collecting torchvision\n",
      "  Downloading torchvision-0.17.1-cp311-cp311-win_amd64.whl (1.2 MB)\n",
      "                                              0.0/1.2 MB ? eta -:--:--\n",
      "     -                                        0.0/1.2 MB 667.8 kB/s eta 0:00:02\n",
      "     -----                                    0.2/1.2 MB 1.8 MB/s eta 0:00:01\n",
      "     ----------------                         0.5/1.2 MB 3.4 MB/s eta 0:00:01\n",
      "     ---------------------------              0.8/1.2 MB 4.2 MB/s eta 0:00:01\n",
      "     ---------------------------------------- 1.2/1.2 MB 4.9 MB/s eta 0:00:00\n",
      "Requirement already satisfied: numpy in c:\\programdata\\anaconda3\\lib\\site-packages (from torchvision) (1.24.3)\n",
      "Collecting torch==2.2.1 (from torchvision)\n",
      "  Downloading torch-2.2.1-cp311-cp311-win_amd64.whl (198.6 MB)\n",
      "                                              0.0/198.6 MB ? eta -:--:--\n",
      "                                             1.3/198.6 MB 27.9 MB/s eta 0:00:08\n",
      "                                             3.3/198.6 MB 42.5 MB/s eta 0:00:05\n",
      "     -                                       6.6/198.6 MB 52.9 MB/s eta 0:00:04\n",
      "     -                                       8.2/198.6 MB 52.4 MB/s eta 0:00:04\n",
      "     -                                      10.2/198.6 MB 46.7 MB/s eta 0:00:05\n",
      "     --                                     14.0/198.6 MB 59.5 MB/s eta 0:00:04\n",
      "     --                                     14.0/198.6 MB 59.5 MB/s eta 0:00:04\n",
      "     --                                     14.5/198.6 MB 38.5 MB/s eta 0:00:05\n",
      "     ---                                    16.8/198.6 MB 36.4 MB/s eta 0:00:05\n",
      "     ----                                   23.0/198.6 MB 50.4 MB/s eta 0:00:04\n",
      "     ----                                   24.6/198.6 MB 73.1 MB/s eta 0:00:03\n",
      "     ----                                   25.7/198.6 MB 72.6 MB/s eta 0:00:03\n",
      "     -----                                  28.9/198.6 MB 59.5 MB/s eta 0:00:03\n",
      "     ------                                 31.8/198.6 MB 50.4 MB/s eta 0:00:04\n",
      "     ------                                 35.2/198.6 MB 59.5 MB/s eta 0:00:03\n",
      "     -------                                39.2/198.6 MB 72.6 MB/s eta 0:00:03\n",
      "     -------                                41.4/198.6 MB 65.6 MB/s eta 0:00:03\n",
      "     --------                               45.1/198.6 MB 73.1 MB/s eta 0:00:03\n",
      "     ---------                              48.5/198.6 MB 65.6 MB/s eta 0:00:03\n",
      "     ---------                              51.6/198.6 MB 72.6 MB/s eta 0:00:03\n",
      "     ----------                             55.6/198.6 MB 72.6 MB/s eta 0:00:02\n",
      "     -----------                            58.8/198.6 MB 81.8 MB/s eta 0:00:02\n",
      "     -----------                            62.6/198.6 MB 81.8 MB/s eta 0:00:02\n",
      "     ------------                           65.9/198.6 MB 81.8 MB/s eta 0:00:02\n",
      "     ------------                           67.7/198.6 MB 65.6 MB/s eta 0:00:02\n",
      "     -------------                          71.2/198.6 MB 65.2 MB/s eta 0:00:02\n",
      "     --------------                         74.5/198.6 MB 65.2 MB/s eta 0:00:02\n",
      "     ---------------                        78.6/198.6 MB 81.8 MB/s eta 0:00:02\n",
      "     ---------------                        82.0/198.6 MB 81.8 MB/s eta 0:00:02\n",
      "     ----------------                       85.4/198.6 MB 81.8 MB/s eta 0:00:02\n",
      "     -----------------                      89.0/198.6 MB 81.8 MB/s eta 0:00:02\n",
      "     -----------------                      92.6/198.6 MB 72.6 MB/s eta 0:00:02\n",
      "     ------------------                     96.1/198.6 MB 72.6 MB/s eta 0:00:02\n",
      "     -------------------                    99.6/198.6 MB 72.6 MB/s eta 0:00:02\n",
      "     ------------------                    101.6/198.6 MB 65.2 MB/s eta 0:00:02\n",
      "     -------------------                   104.9/198.6 MB 65.6 MB/s eta 0:00:02\n",
      "     -------------------                   105.6/198.6 MB 65.6 MB/s eta 0:00:02\n",
      "     --------------------                  109.6/198.6 MB 54.7 MB/s eta 0:00:02\n",
      "     --------------------                  111.5/198.6 MB 54.7 MB/s eta 0:00:02\n",
      "     ---------------------                 114.6/198.6 MB 50.4 MB/s eta 0:00:02\n",
      "     ----------------------                118.2/198.6 MB 65.6 MB/s eta 0:00:02\n",
      "     ----------------------                121.2/198.6 MB 65.2 MB/s eta 0:00:02\n",
      "     -----------------------               124.5/198.6 MB 72.6 MB/s eta 0:00:02\n",
      "     -----------------------               127.8/198.6 MB 65.6 MB/s eta 0:00:02\n",
      "     ------------------------              131.2/198.6 MB 73.1 MB/s eta 0:00:01\n",
      "     -------------------------             134.2/198.6 MB 65.6 MB/s eta 0:00:01\n",
      "     -------------------------             137.1/198.6 MB 73.1 MB/s eta 0:00:01\n",
      "     --------------------------            139.7/198.6 MB 65.6 MB/s eta 0:00:01\n",
      "     --------------------------            141.8/198.6 MB 54.4 MB/s eta 0:00:02\n",
      "     ---------------------------           145.2/198.6 MB 59.5 MB/s eta 0:00:01\n",
      "     ---------------------------           148.0/198.6 MB 59.5 MB/s eta 0:00:01\n",
      "     ----------------------------          151.1/198.6 MB 72.6 MB/s eta 0:00:01\n",
      "     ----------------------------          153.9/198.6 MB 65.2 MB/s eta 0:00:01\n",
      "     -----------------------------         157.2/198.6 MB 72.6 MB/s eta 0:00:01\n",
      "     -----------------------------         160.7/198.6 MB 73.1 MB/s eta 0:00:01\n",
      "     ------------------------------        163.5/198.6 MB 73.1 MB/s eta 0:00:01\n",
      "     -------------------------------       167.2/198.6 MB 73.1 MB/s eta 0:00:01\n",
      "     -------------------------------       169.4/198.6 MB 65.6 MB/s eta 0:00:01\n",
      "     --------------------------------      173.1/198.6 MB 72.6 MB/s eta 0:00:01\n",
      "     --------------------------------      176.6/198.6 MB 65.6 MB/s eta 0:00:01\n",
      "     ---------------------------------     178.8/198.6 MB 65.2 MB/s eta 0:00:01\n",
      "     ----------------------------------    182.6/198.6 MB 65.2 MB/s eta 0:00:01\n",
      "     ----------------------------------    185.6/198.6 MB 65.6 MB/s eta 0:00:01\n",
      "     -----------------------------------   188.5/198.6 MB 73.1 MB/s eta 0:00:01\n",
      "     -----------------------------------   192.1/198.6 MB 73.1 MB/s eta 0:00:01\n",
      "     ------------------------------------  194.7/198.6 MB 65.6 MB/s eta 0:00:01\n",
      "     ------------------------------------  195.7/198.6 MB 65.2 MB/s eta 0:00:01\n",
      "     ------------------------------------  198.6/198.6 MB 59.5 MB/s eta 0:00:01\n",
      "     ------------------------------------  198.6/198.6 MB 59.5 MB/s eta 0:00:01\n",
      "     ------------------------------------  198.6/198.6 MB 59.5 MB/s eta 0:00:01\n",
      "     ------------------------------------  198.6/198.6 MB 59.5 MB/s eta 0:00:01\n",
      "     ------------------------------------  198.6/198.6 MB 59.5 MB/s eta 0:00:01\n",
      "     ------------------------------------  198.6/198.6 MB 59.5 MB/s eta 0:00:01\n",
      "     ------------------------------------- 198.6/198.6 MB 19.2 MB/s eta 0:00:00\n",
      "Requirement already satisfied: pillow!=8.3.*,>=5.3.0 in c:\\programdata\\anaconda3\\lib\\site-packages (from torchvision) (9.4.0)\n",
      "Requirement already satisfied: filelock in c:\\programdata\\anaconda3\\lib\\site-packages (from torch==2.2.1->torchvision) (3.12.2)\n",
      "Collecting typing-extensions>=4.8.0 (from torch==2.2.1->torchvision)\n",
      "  Downloading typing_extensions-4.10.0-py3-none-any.whl (33 kB)\n",
      "Requirement already satisfied: sympy in c:\\programdata\\anaconda3\\lib\\site-packages (from torch==2.2.1->torchvision) (1.11.1)\n",
      "Requirement already satisfied: networkx in c:\\programdata\\anaconda3\\lib\\site-packages (from torch==2.2.1->torchvision) (2.8.4)\n",
      "Requirement already satisfied: jinja2 in c:\\programdata\\anaconda3\\lib\\site-packages (from torch==2.2.1->torchvision) (3.1.2)\n",
      "Requirement already satisfied: fsspec in c:\\programdata\\anaconda3\\lib\\site-packages (from torch==2.2.1->torchvision) (2023.12.2)\n",
      "Requirement already satisfied: MarkupSafe>=2.0 in c:\\programdata\\anaconda3\\lib\\site-packages (from jinja2->torch==2.2.1->torchvision) (2.1.1)\n",
      "Requirement already satisfied: mpmath>=0.19 in c:\\programdata\\anaconda3\\lib\\site-packages (from sympy->torch==2.2.1->torchvision) (1.2.1)\n",
      "Installing collected packages: typing-extensions, torch, torchvision\n",
      "  Attempting uninstall: typing-extensions\n",
      "    Found existing installation: typing_extensions 4.6.3\n",
      "    Uninstalling typing_extensions-4.6.3:\n",
      "      Successfully uninstalled typing_extensions-4.6.3\n",
      "  Attempting uninstall: torch\n",
      "    Found existing installation: torch 2.1.2\n",
      "    Uninstalling torch-2.1.2:\n",
      "      Successfully uninstalled torch-2.1.2\n",
      "Successfully installed torch-2.2.1 torchvision-0.17.1 typing-extensions-4.10.0\n"
     ]
    }
   ],
   "source": [
    "# !pip install spacy\n",
    "# !python -m spacy download en_core_web_sm\n",
    "# !pip install spacy[transformers]\n",
    "# !pip install torchvision"
   ]
  },
  {
   "cell_type": "code",
   "execution_count": null,
   "id": "d8b1c9c2",
   "metadata": {},
   "outputs": [],
   "source": [
    "!pip install -U skorch"
   ]
  },
  {
   "cell_type": "code",
   "execution_count": null,
   "id": "f964f764",
   "metadata": {},
   "outputs": [],
   "source": [
    "import pandas as pd\n",
    "import numpy as np\n",
    "import matplotlib.pyplot as plt\n",
    "from pathlib import Path\n",
    "import pickle\n",
    "\n",
    "import nltk\n",
    "import re\n",
    "from nltk.corpus import stopwords\n",
    "nltk.download('stopwords') # поддерживает удаление стоп-слов\n",
    "nltk.download('punkt') # делит текст на список предложений\n",
    "nltk.download('wordnet') # проводит лемматизацию\n",
    "nltk.download('omw-1.4')\n",
    "\n",
    "from PIL import Image\n",
    "\n",
    "from tensorflow.keras.layers import (Dense, GlobalAveragePooling2D, Flatten, Dropout, BatchNormalization)\n",
    "from tensorflow.keras.models import Sequential\n",
    "from tensorflow.keras.optimizers import Adam\n",
    "from tensorflow.keras.preprocessing.image import ImageDataGenerator\n",
    "from tensorflow.keras.applications.resnet import ResNet50\n",
    "from tensorflow import keras\n",
    "import tensorflow as tf\n",
    "import keras_nlp\n",
    "\n",
    "from tqdm import notebook\n",
    "\n",
    "from sklearn.model_selection import GroupShuffleSplit, GridSearchCV, cross_val_score\n",
    "from sklearn.linear_model import LinearRegression\n",
    "from sklearn.pipeline import make_pipeline\n",
    "from sklearn.svm import LinearSVR\n",
    "from sklearn.metrics import mean_absolute_error, mean_squared_error\n",
    "from sklearn.preprocessing import StandardScaler\n",
    "\n",
    "import sentence_transformers\n",
    "from sentence_transformers import SentenceTransformer, util\n",
    "import glob"
   ]
  },
  {
   "cell_type": "code",
   "execution_count": 1,
   "id": "40533ed9",
   "metadata": {},
   "outputs": [
    {
     "name": "stderr",
     "output_type": "stream",
     "text": [
      "C:\\ProgramData\\anaconda3\\Lib\\site-packages\\transformers\\utils\\generic.py:441: UserWarning: torch.utils._pytree._register_pytree_node is deprecated. Please use torch.utils._pytree.register_pytree_node instead.\n",
      "  _torch_pytree._register_pytree_node(\n",
      "C:\\ProgramData\\anaconda3\\Lib\\site-packages\\transformers\\utils\\generic.py:309: UserWarning: torch.utils._pytree._register_pytree_node is deprecated. Please use torch.utils._pytree.register_pytree_node instead.\n",
      "  _torch_pytree._register_pytree_node(\n",
      "[nltk_data] Downloading package punkt to\n",
      "[nltk_data]     C:\\Users\\Katya\\AppData\\Roaming\\nltk_data...\n",
      "[nltk_data]   Package punkt is already up-to-date!\n",
      "[nltk_data] Downloading package stopwords to\n",
      "[nltk_data]     C:\\Users\\Katya\\AppData\\Roaming\\nltk_data...\n",
      "[nltk_data]   Package stopwords is already up-to-date!\n",
      "[nltk_data] Downloading package wordnet to\n",
      "[nltk_data]     C:\\Users\\Katya\\AppData\\Roaming\\nltk_data...\n",
      "[nltk_data]   Package wordnet is already up-to-date!\n",
      "[nltk_data] Downloading package omw-1.4 to\n",
      "[nltk_data]     C:\\Users\\Katya\\AppData\\Roaming\\nltk_data...\n",
      "[nltk_data]   Package omw-1.4 is already up-to-date!\n",
      "[nltk_data] Downloading package averaged_perceptron_tagger to\n",
      "[nltk_data]     C:\\Users\\Katya\\AppData\\Roaming\\nltk_data...\n",
      "[nltk_data]   Package averaged_perceptron_tagger is already up-to-\n",
      "[nltk_data]       date!\n"
     ]
    },
    {
     "name": "stdout",
     "output_type": "stream",
     "text": [
      "WARNING:tensorflow:From C:\\ProgramData\\anaconda3\\Lib\\site-packages\\keras\\src\\losses.py:2976: The name tf.losses.sparse_softmax_cross_entropy is deprecated. Please use tf.compat.v1.losses.sparse_softmax_cross_entropy instead.\n",
      "\n"
     ]
    }
   ],
   "source": [
    "import pandas as pd\n",
    "import numpy as np\n",
    "# from pymystem3 import Mystem\n",
    "import re\n",
    "import time\n",
    "import swifter\n",
    "\n",
    "from tqdm import notebook\n",
    "import torch\n",
    "\n",
    "import transformers\n",
    "from transformers import BertTokenizer, BertModel, BertConfig\n",
    "\n",
    "import warnings\n",
    "warnings.filterwarnings(\"ignore\")\n",
    "\n",
    "\n",
    "import lightgbm as lgb\n",
    "from lightgbm import LGBMClassifier\n",
    "\n",
    "import sklearn\n",
    "from sklearn.linear_model import LogisticRegression\n",
    "from sklearn.model_selection import train_test_split, GridSearchCV #, cross_val_score\n",
    "from sklearn.metrics import f1_score\n",
    "from sklearn import svm\n",
    "from sklearn.pipeline import Pipeline\n",
    "\n",
    "import nltk\n",
    "from nltk.tokenize import TweetTokenizer, word_tokenize\n",
    "from nltk.stem import WordNetLemmatizer\n",
    "from nltk.corpus import stopwords, wordnet\n",
    "\n",
    "nltk.download('punkt')\n",
    "nltk.download('stopwords')\n",
    "nltk.download('wordnet')\n",
    "nltk.download('omw-1.4')\n",
    "nltk.download('averaged_perceptron_tagger')\n",
    "\n",
    "from sklearn.feature_extraction.text import TfidfVectorizer #, CountVectorizer\n",
    "\n",
    "import spacy\n",
    "\n",
    "from sklearn.linear_model import ElasticNet\n",
    "import catboost\n",
    "from catboost import CatBoostRegressor\n",
    "from sklearn.metrics import mean_absolute_error, mean_squared_error\n",
    "from catboost import Pool, CatBoostRegressor\n",
    "\n",
    "import lightgbm as lgb\n",
    "from lightgbm import LGBMRegressor\n",
    "\n",
    "from sklearn.linear_model import ElasticNet\n",
    "from sklearn.model_selection import GridSearchCV\n",
    "\n",
    "from torchvision import transforms\n",
    "\n",
    "\n",
    "from tqdm import tqdm\n",
    "from PIL import Image\n",
    "import os\n",
    "\n",
    "from sklearn.model_selection import GroupShuffleSplit\n",
    "\n",
    "import torchvision.models as models\n",
    "import torch\n",
    "import torch.nn as nn\n",
    "import numpy as np\n",
    "import tensorflow as tf\n",
    "\n",
    "import pandas as pd\n",
    "import random as rd\n",
    "\n",
    "from PIL import Image\n",
    "import os\n",
    "\n",
    "import spacy\n",
    "import re\n",
    "import nltk\n",
    "from nltk.corpus import stopwords as nltk_stopwords\n",
    "from sklearn.feature_extraction.text import TfidfVectorizer \n",
    "from sklearn.model_selection import GroupShuffleSplit\n",
    "\n",
    "from sklearn.linear_model import LinearRegression\n",
    "from sklearn.model_selection import cross_val_score\n",
    "from sklearn.model_selection import GridSearchCV\n",
    "from sklearn.metrics import make_scorer\n",
    "from sklearn.metrics import mean_squared_error\n",
    "from sklearn.preprocessing import MinMaxScaler\n",
    "\n",
    "from skorch.callbacks import EpochScoring, EarlyStopping\n",
    "from skorch import NeuralNetRegressor\n",
    "from sklearn.pipeline import Pipeline\n",
    "\n",
    "import torch\n",
    "import torch.nn as nn\n",
    "from math import ceil\n",
    "import statistics as st\n",
    "\n",
    "import tensorflow as tf\n",
    "from tensorflow import keras\n",
    "\n",
    "import pandas as pd\n",
    "import numpy as np\n",
    "import matplotlib.pyplot as plt\n",
    "\n",
    "from tensorflow.keras.preprocessing.image import ImageDataGenerator\n",
    "from tensorflow.keras import Sequential\n",
    "from tensorflow.keras.layers import Conv2D, Flatten, Dense,AvgPool2D,GlobalAveragePooling2D\n",
    "from tensorflow.keras.optimizers import Adam\n",
    "from tensorflow.keras.applications.resnet import ResNet50\n",
    "from torchvision.models import resnet50, ResNet50_Weights\n",
    "from sklearn.linear_model import SGDRegressor"
   ]
  },
  {
   "cell_type": "markdown",
   "id": "fcb13991",
   "metadata": {},
   "source": [
    "Импортируем данные и напишем функцию для просмотра информации о датафреймах."
   ]
  },
  {
   "cell_type": "code",
   "execution_count": 2,
   "id": "4a45cee3",
   "metadata": {},
   "outputs": [],
   "source": [
    "try:\n",
    "    train_dataset = pd.read_csv('/datasets/image_search/train_dataset.csv')\n",
    "    CrowdAnnotations = pd.read_csv('/datasets/image_search/CrowdAnnotations.tsv', sep='\\t', header=None)\n",
    "    ExpertAnnotations = pd.read_csv('/datasets/image_search/ExpertAnnotations.tsv', sep='\\t', header=None)\n",
    "    test_queries = pd.read_csv('/datasets/image_search/test_queries.csv', sep='|', index_col=0)\n",
    "    test_images = pd.read_csv('/datasets/image_search/test_images.csv', sep='|')\n",
    "except FileNotFoundError:\n",
    "    train_dataset = pd.read_csv('dsplus_integrated_project_4/to_upload/train_dataset.csv')\n",
    "    CrowdAnnotations = pd.read_csv('dsplus_integrated_project_4/to_upload/CrowdAnnotations.tsv',\n",
    "                                   sep='\\t', header=None, names=['image', 'query_id', 'pos_share', 'pos_num_confirmed', 'neg_num_confirmed'])\n",
    "    ExpertAnnotations = pd.read_csv('dsplus_integrated_project_4/to_upload/ExpertAnnotations.tsv',\n",
    "                                    sep='\\t', header=None, names=['image', 'query_id', 'ex_1', 'ex_2', 'ex_3'])\n",
    "    test_queries = pd.read_csv('dsplus_integrated_project_4/to_upload/test_queries.csv', sep='|', index_col=0)\n",
    "    test_images = pd.read_csv('dsplus_integrated_project_4/to_upload/test_images.csv', sep='|')"
   ]
  },
  {
   "cell_type": "code",
   "execution_count": 112,
   "id": "15b32690",
   "metadata": {},
   "outputs": [],
   "source": [
    "def describe_dataframe(df_title):\n",
    "    print(df_title)\n",
    "    df = globals()[df_title]\n",
    "    display(df.head())\n",
    "    df.info()\n",
    "    df.describe()\n",
    "    print('\\n')"
   ]
  },
  {
   "cell_type": "code",
   "execution_count": 113,
   "id": "e0c37be9",
   "metadata": {},
   "outputs": [
    {
     "name": "stdout",
     "output_type": "stream",
     "text": [
      "train_dataset\n"
     ]
    },
    {
     "data": {
      "text/html": [
       "<div>\n",
       "<style scoped>\n",
       "    .dataframe tbody tr th:only-of-type {\n",
       "        vertical-align: middle;\n",
       "    }\n",
       "\n",
       "    .dataframe tbody tr th {\n",
       "        vertical-align: top;\n",
       "    }\n",
       "\n",
       "    .dataframe thead th {\n",
       "        text-align: right;\n",
       "    }\n",
       "</style>\n",
       "<table border=\"1\" class=\"dataframe\">\n",
       "  <thead>\n",
       "    <tr style=\"text-align: right;\">\n",
       "      <th></th>\n",
       "      <th>image</th>\n",
       "      <th>query_id</th>\n",
       "      <th>query_text</th>\n",
       "      <th>lemmatized</th>\n",
       "      <th>is_available</th>\n",
       "    </tr>\n",
       "  </thead>\n",
       "  <tbody>\n",
       "    <tr>\n",
       "      <th>0</th>\n",
       "      <td>1056338697_4f7d7ce270.jpg</td>\n",
       "      <td>2549968784_39bfbe44f9.jpg#2</td>\n",
       "      <td>A young child is wearing blue goggles and sitt...</td>\n",
       "      <td>a young child be wear blue goggle and sit in a...</td>\n",
       "      <td>False</td>\n",
       "    </tr>\n",
       "    <tr>\n",
       "      <th>1</th>\n",
       "      <td>1262583859_653f1469a9.jpg</td>\n",
       "      <td>2549968784_39bfbe44f9.jpg#2</td>\n",
       "      <td>A young child is wearing blue goggles and sitt...</td>\n",
       "      <td>a young child be wear blue goggle and sit in a...</td>\n",
       "      <td>False</td>\n",
       "    </tr>\n",
       "    <tr>\n",
       "      <th>2</th>\n",
       "      <td>2447284966_d6bbdb4b6e.jpg</td>\n",
       "      <td>2549968784_39bfbe44f9.jpg#2</td>\n",
       "      <td>A young child is wearing blue goggles and sitt...</td>\n",
       "      <td>a young child be wear blue goggle and sit in a...</td>\n",
       "      <td>False</td>\n",
       "    </tr>\n",
       "    <tr>\n",
       "      <th>3</th>\n",
       "      <td>2549968784_39bfbe44f9.jpg</td>\n",
       "      <td>2549968784_39bfbe44f9.jpg#2</td>\n",
       "      <td>A young child is wearing blue goggles and sitt...</td>\n",
       "      <td>a young child be wear blue goggle and sit in a...</td>\n",
       "      <td>False</td>\n",
       "    </tr>\n",
       "    <tr>\n",
       "      <th>4</th>\n",
       "      <td>2621415349_ef1a7e73be.jpg</td>\n",
       "      <td>2549968784_39bfbe44f9.jpg#2</td>\n",
       "      <td>A young child is wearing blue goggles and sitt...</td>\n",
       "      <td>a young child be wear blue goggle and sit in a...</td>\n",
       "      <td>False</td>\n",
       "    </tr>\n",
       "  </tbody>\n",
       "</table>\n",
       "</div>"
      ],
      "text/plain": [
       "                       image                     query_id  \\\n",
       "0  1056338697_4f7d7ce270.jpg  2549968784_39bfbe44f9.jpg#2   \n",
       "1  1262583859_653f1469a9.jpg  2549968784_39bfbe44f9.jpg#2   \n",
       "2  2447284966_d6bbdb4b6e.jpg  2549968784_39bfbe44f9.jpg#2   \n",
       "3  2549968784_39bfbe44f9.jpg  2549968784_39bfbe44f9.jpg#2   \n",
       "4  2621415349_ef1a7e73be.jpg  2549968784_39bfbe44f9.jpg#2   \n",
       "\n",
       "                                          query_text  \\\n",
       "0  A young child is wearing blue goggles and sitt...   \n",
       "1  A young child is wearing blue goggles and sitt...   \n",
       "2  A young child is wearing blue goggles and sitt...   \n",
       "3  A young child is wearing blue goggles and sitt...   \n",
       "4  A young child is wearing blue goggles and sitt...   \n",
       "\n",
       "                                          lemmatized  is_available  \n",
       "0  a young child be wear blue goggle and sit in a...         False  \n",
       "1  a young child be wear blue goggle and sit in a...         False  \n",
       "2  a young child be wear blue goggle and sit in a...         False  \n",
       "3  a young child be wear blue goggle and sit in a...         False  \n",
       "4  a young child be wear blue goggle and sit in a...         False  "
      ]
     },
     "metadata": {},
     "output_type": "display_data"
    },
    {
     "name": "stdout",
     "output_type": "stream",
     "text": [
      "<class 'pandas.core.frame.DataFrame'>\n",
      "RangeIndex: 5822 entries, 0 to 5821\n",
      "Data columns (total 5 columns):\n",
      " #   Column        Non-Null Count  Dtype \n",
      "---  ------        --------------  ----- \n",
      " 0   image         5822 non-null   object\n",
      " 1   query_id      5822 non-null   object\n",
      " 2   query_text    5822 non-null   object\n",
      " 3   lemmatized    5822 non-null   object\n",
      " 4   is_available  5822 non-null   bool  \n",
      "dtypes: bool(1), object(4)\n",
      "memory usage: 187.8+ KB\n",
      "\n",
      "\n",
      "CrowdAnnotations\n"
     ]
    },
    {
     "data": {
      "text/html": [
       "<div>\n",
       "<style scoped>\n",
       "    .dataframe tbody tr th:only-of-type {\n",
       "        vertical-align: middle;\n",
       "    }\n",
       "\n",
       "    .dataframe tbody tr th {\n",
       "        vertical-align: top;\n",
       "    }\n",
       "\n",
       "    .dataframe thead th {\n",
       "        text-align: right;\n",
       "    }\n",
       "</style>\n",
       "<table border=\"1\" class=\"dataframe\">\n",
       "  <thead>\n",
       "    <tr style=\"text-align: right;\">\n",
       "      <th></th>\n",
       "      <th>image</th>\n",
       "      <th>query_id</th>\n",
       "      <th>pos_share</th>\n",
       "      <th>pos_num_confirmed</th>\n",
       "      <th>neg_num_confirmed</th>\n",
       "    </tr>\n",
       "  </thead>\n",
       "  <tbody>\n",
       "    <tr>\n",
       "      <th>0</th>\n",
       "      <td>1056338697_4f7d7ce270.jpg</td>\n",
       "      <td>1056338697_4f7d7ce270.jpg#2</td>\n",
       "      <td>1.0</td>\n",
       "      <td>3</td>\n",
       "      <td>0</td>\n",
       "    </tr>\n",
       "    <tr>\n",
       "      <th>1</th>\n",
       "      <td>1056338697_4f7d7ce270.jpg</td>\n",
       "      <td>114051287_dd85625a04.jpg#2</td>\n",
       "      <td>0.0</td>\n",
       "      <td>0</td>\n",
       "      <td>3</td>\n",
       "    </tr>\n",
       "    <tr>\n",
       "      <th>2</th>\n",
       "      <td>1056338697_4f7d7ce270.jpg</td>\n",
       "      <td>1427391496_ea512cbe7f.jpg#2</td>\n",
       "      <td>0.0</td>\n",
       "      <td>0</td>\n",
       "      <td>3</td>\n",
       "    </tr>\n",
       "    <tr>\n",
       "      <th>3</th>\n",
       "      <td>1056338697_4f7d7ce270.jpg</td>\n",
       "      <td>2073964624_52da3a0fc4.jpg#2</td>\n",
       "      <td>0.0</td>\n",
       "      <td>0</td>\n",
       "      <td>3</td>\n",
       "    </tr>\n",
       "    <tr>\n",
       "      <th>4</th>\n",
       "      <td>1056338697_4f7d7ce270.jpg</td>\n",
       "      <td>2083434441_a93bc6306b.jpg#2</td>\n",
       "      <td>0.0</td>\n",
       "      <td>0</td>\n",
       "      <td>3</td>\n",
       "    </tr>\n",
       "  </tbody>\n",
       "</table>\n",
       "</div>"
      ],
      "text/plain": [
       "                       image                     query_id  pos_share  \\\n",
       "0  1056338697_4f7d7ce270.jpg  1056338697_4f7d7ce270.jpg#2        1.0   \n",
       "1  1056338697_4f7d7ce270.jpg   114051287_dd85625a04.jpg#2        0.0   \n",
       "2  1056338697_4f7d7ce270.jpg  1427391496_ea512cbe7f.jpg#2        0.0   \n",
       "3  1056338697_4f7d7ce270.jpg  2073964624_52da3a0fc4.jpg#2        0.0   \n",
       "4  1056338697_4f7d7ce270.jpg  2083434441_a93bc6306b.jpg#2        0.0   \n",
       "\n",
       "   pos_num_confirmed  neg_num_confirmed  \n",
       "0                  3                  0  \n",
       "1                  0                  3  \n",
       "2                  0                  3  \n",
       "3                  0                  3  \n",
       "4                  0                  3  "
      ]
     },
     "metadata": {},
     "output_type": "display_data"
    },
    {
     "name": "stdout",
     "output_type": "stream",
     "text": [
      "<class 'pandas.core.frame.DataFrame'>\n",
      "RangeIndex: 47830 entries, 0 to 47829\n",
      "Data columns (total 5 columns):\n",
      " #   Column             Non-Null Count  Dtype  \n",
      "---  ------             --------------  -----  \n",
      " 0   image              47830 non-null  object \n",
      " 1   query_id           47830 non-null  object \n",
      " 2   pos_share          47830 non-null  float64\n",
      " 3   pos_num_confirmed  47830 non-null  int64  \n",
      " 4   neg_num_confirmed  47830 non-null  int64  \n",
      "dtypes: float64(1), int64(2), object(2)\n",
      "memory usage: 1.8+ MB\n",
      "\n",
      "\n",
      "ExpertAnnotations\n"
     ]
    },
    {
     "data": {
      "text/html": [
       "<div>\n",
       "<style scoped>\n",
       "    .dataframe tbody tr th:only-of-type {\n",
       "        vertical-align: middle;\n",
       "    }\n",
       "\n",
       "    .dataframe tbody tr th {\n",
       "        vertical-align: top;\n",
       "    }\n",
       "\n",
       "    .dataframe thead th {\n",
       "        text-align: right;\n",
       "    }\n",
       "</style>\n",
       "<table border=\"1\" class=\"dataframe\">\n",
       "  <thead>\n",
       "    <tr style=\"text-align: right;\">\n",
       "      <th></th>\n",
       "      <th>image</th>\n",
       "      <th>query_id</th>\n",
       "      <th>ex_1</th>\n",
       "      <th>ex_2</th>\n",
       "      <th>ex_3</th>\n",
       "      <th>res</th>\n",
       "    </tr>\n",
       "  </thead>\n",
       "  <tbody>\n",
       "    <tr>\n",
       "      <th>0</th>\n",
       "      <td>1056338697_4f7d7ce270.jpg</td>\n",
       "      <td>2549968784_39bfbe44f9.jpg#2</td>\n",
       "      <td>1</td>\n",
       "      <td>1</td>\n",
       "      <td>1</td>\n",
       "      <td>1.0</td>\n",
       "    </tr>\n",
       "    <tr>\n",
       "      <th>1</th>\n",
       "      <td>1056338697_4f7d7ce270.jpg</td>\n",
       "      <td>2718495608_d8533e3ac5.jpg#2</td>\n",
       "      <td>1</td>\n",
       "      <td>1</td>\n",
       "      <td>2</td>\n",
       "      <td>1.0</td>\n",
       "    </tr>\n",
       "    <tr>\n",
       "      <th>2</th>\n",
       "      <td>1056338697_4f7d7ce270.jpg</td>\n",
       "      <td>3181701312_70a379ab6e.jpg#2</td>\n",
       "      <td>1</td>\n",
       "      <td>1</td>\n",
       "      <td>2</td>\n",
       "      <td>1.0</td>\n",
       "    </tr>\n",
       "    <tr>\n",
       "      <th>3</th>\n",
       "      <td>1056338697_4f7d7ce270.jpg</td>\n",
       "      <td>3207358897_bfa61fa3c6.jpg#2</td>\n",
       "      <td>1</td>\n",
       "      <td>2</td>\n",
       "      <td>2</td>\n",
       "      <td>2.0</td>\n",
       "    </tr>\n",
       "    <tr>\n",
       "      <th>4</th>\n",
       "      <td>1056338697_4f7d7ce270.jpg</td>\n",
       "      <td>3286822339_5535af6b93.jpg#2</td>\n",
       "      <td>1</td>\n",
       "      <td>1</td>\n",
       "      <td>2</td>\n",
       "      <td>1.0</td>\n",
       "    </tr>\n",
       "  </tbody>\n",
       "</table>\n",
       "</div>"
      ],
      "text/plain": [
       "                       image                     query_id  ex_1  ex_2  ex_3  \\\n",
       "0  1056338697_4f7d7ce270.jpg  2549968784_39bfbe44f9.jpg#2     1     1     1   \n",
       "1  1056338697_4f7d7ce270.jpg  2718495608_d8533e3ac5.jpg#2     1     1     2   \n",
       "2  1056338697_4f7d7ce270.jpg  3181701312_70a379ab6e.jpg#2     1     1     2   \n",
       "3  1056338697_4f7d7ce270.jpg  3207358897_bfa61fa3c6.jpg#2     1     2     2   \n",
       "4  1056338697_4f7d7ce270.jpg  3286822339_5535af6b93.jpg#2     1     1     2   \n",
       "\n",
       "   res  \n",
       "0  1.0  \n",
       "1  1.0  \n",
       "2  1.0  \n",
       "3  2.0  \n",
       "4  1.0  "
      ]
     },
     "metadata": {},
     "output_type": "display_data"
    },
    {
     "name": "stdout",
     "output_type": "stream",
     "text": [
      "<class 'pandas.core.frame.DataFrame'>\n",
      "Int64Index: 5696 entries, 0 to 5821\n",
      "Data columns (total 6 columns):\n",
      " #   Column    Non-Null Count  Dtype  \n",
      "---  ------    --------------  -----  \n",
      " 0   image     5696 non-null   object \n",
      " 1   query_id  5696 non-null   object \n",
      " 2   ex_1      5696 non-null   int64  \n",
      " 3   ex_2      5696 non-null   int64  \n",
      " 4   ex_3      5696 non-null   int64  \n",
      " 5   res       5696 non-null   float64\n",
      "dtypes: float64(1), int64(3), object(2)\n",
      "memory usage: 311.5+ KB\n",
      "\n",
      "\n",
      "test_queries\n"
     ]
    },
    {
     "data": {
      "text/html": [
       "<div>\n",
       "<style scoped>\n",
       "    .dataframe tbody tr th:only-of-type {\n",
       "        vertical-align: middle;\n",
       "    }\n",
       "\n",
       "    .dataframe tbody tr th {\n",
       "        vertical-align: top;\n",
       "    }\n",
       "\n",
       "    .dataframe thead th {\n",
       "        text-align: right;\n",
       "    }\n",
       "</style>\n",
       "<table border=\"1\" class=\"dataframe\">\n",
       "  <thead>\n",
       "    <tr style=\"text-align: right;\">\n",
       "      <th></th>\n",
       "      <th>query_id</th>\n",
       "      <th>query_text</th>\n",
       "      <th>image</th>\n",
       "      <th>lemmatized</th>\n",
       "    </tr>\n",
       "  </thead>\n",
       "  <tbody>\n",
       "    <tr>\n",
       "      <th>0</th>\n",
       "      <td>1177994172_10d143cb8d.jpg#0</td>\n",
       "      <td>Two blonde boys , one in a camouflage shirt an...</td>\n",
       "      <td>1177994172_10d143cb8d.jpg</td>\n",
       "      <td>two blonde boy    one in a camouflage shirt an...</td>\n",
       "    </tr>\n",
       "    <tr>\n",
       "      <th>1</th>\n",
       "      <td>1177994172_10d143cb8d.jpg#1</td>\n",
       "      <td>Two boys are squirting water guns at each other .</td>\n",
       "      <td>1177994172_10d143cb8d.jpg</td>\n",
       "      <td>two boy be squirt water gun at each other</td>\n",
       "    </tr>\n",
       "    <tr>\n",
       "      <th>2</th>\n",
       "      <td>1177994172_10d143cb8d.jpg#2</td>\n",
       "      <td>Two boys spraying each other with water</td>\n",
       "      <td>1177994172_10d143cb8d.jpg</td>\n",
       "      <td>two boy spray each other with water</td>\n",
       "    </tr>\n",
       "    <tr>\n",
       "      <th>3</th>\n",
       "      <td>1177994172_10d143cb8d.jpg#3</td>\n",
       "      <td>Two children wearing jeans squirt water at eac...</td>\n",
       "      <td>1177994172_10d143cb8d.jpg</td>\n",
       "      <td>two child wear jean squirt water at each other</td>\n",
       "    </tr>\n",
       "    <tr>\n",
       "      <th>4</th>\n",
       "      <td>1177994172_10d143cb8d.jpg#4</td>\n",
       "      <td>Two young boys are squirting water at each oth...</td>\n",
       "      <td>1177994172_10d143cb8d.jpg</td>\n",
       "      <td>two young boy be squirt water at each other</td>\n",
       "    </tr>\n",
       "  </tbody>\n",
       "</table>\n",
       "</div>"
      ],
      "text/plain": [
       "                      query_id  \\\n",
       "0  1177994172_10d143cb8d.jpg#0   \n",
       "1  1177994172_10d143cb8d.jpg#1   \n",
       "2  1177994172_10d143cb8d.jpg#2   \n",
       "3  1177994172_10d143cb8d.jpg#3   \n",
       "4  1177994172_10d143cb8d.jpg#4   \n",
       "\n",
       "                                          query_text  \\\n",
       "0  Two blonde boys , one in a camouflage shirt an...   \n",
       "1  Two boys are squirting water guns at each other .   \n",
       "2            Two boys spraying each other with water   \n",
       "3  Two children wearing jeans squirt water at eac...   \n",
       "4  Two young boys are squirting water at each oth...   \n",
       "\n",
       "                       image  \\\n",
       "0  1177994172_10d143cb8d.jpg   \n",
       "1  1177994172_10d143cb8d.jpg   \n",
       "2  1177994172_10d143cb8d.jpg   \n",
       "3  1177994172_10d143cb8d.jpg   \n",
       "4  1177994172_10d143cb8d.jpg   \n",
       "\n",
       "                                          lemmatized  \n",
       "0  two blonde boy    one in a camouflage shirt an...  \n",
       "1        two boy be squirt water gun at each other    \n",
       "2                two boy spray each other with water  \n",
       "3   two child wear jean squirt water at each other    \n",
       "4      two young boy be squirt water at each other    "
      ]
     },
     "metadata": {},
     "output_type": "display_data"
    },
    {
     "name": "stdout",
     "output_type": "stream",
     "text": [
      "<class 'pandas.core.frame.DataFrame'>\n",
      "Int64Index: 500 entries, 0 to 499\n",
      "Data columns (total 4 columns):\n",
      " #   Column      Non-Null Count  Dtype \n",
      "---  ------      --------------  ----- \n",
      " 0   query_id    500 non-null    object\n",
      " 1   query_text  500 non-null    object\n",
      " 2   image       500 non-null    object\n",
      " 3   lemmatized  500 non-null    object\n",
      "dtypes: object(4)\n",
      "memory usage: 19.5+ KB\n",
      "\n",
      "\n",
      "test_images\n"
     ]
    },
    {
     "data": {
      "text/html": [
       "<div>\n",
       "<style scoped>\n",
       "    .dataframe tbody tr th:only-of-type {\n",
       "        vertical-align: middle;\n",
       "    }\n",
       "\n",
       "    .dataframe tbody tr th {\n",
       "        vertical-align: top;\n",
       "    }\n",
       "\n",
       "    .dataframe thead th {\n",
       "        text-align: right;\n",
       "    }\n",
       "</style>\n",
       "<table border=\"1\" class=\"dataframe\">\n",
       "  <thead>\n",
       "    <tr style=\"text-align: right;\">\n",
       "      <th></th>\n",
       "      <th>image</th>\n",
       "    </tr>\n",
       "  </thead>\n",
       "  <tbody>\n",
       "    <tr>\n",
       "      <th>0</th>\n",
       "      <td>3356748019_2251399314.jpg</td>\n",
       "    </tr>\n",
       "    <tr>\n",
       "      <th>1</th>\n",
       "      <td>2887171449_f54a2b9f39.jpg</td>\n",
       "    </tr>\n",
       "    <tr>\n",
       "      <th>2</th>\n",
       "      <td>3089107423_81a24eaf18.jpg</td>\n",
       "    </tr>\n",
       "    <tr>\n",
       "      <th>3</th>\n",
       "      <td>1429546659_44cb09cbe2.jpg</td>\n",
       "    </tr>\n",
       "    <tr>\n",
       "      <th>4</th>\n",
       "      <td>1177994172_10d143cb8d.jpg</td>\n",
       "    </tr>\n",
       "  </tbody>\n",
       "</table>\n",
       "</div>"
      ],
      "text/plain": [
       "                       image\n",
       "0  3356748019_2251399314.jpg\n",
       "1  2887171449_f54a2b9f39.jpg\n",
       "2  3089107423_81a24eaf18.jpg\n",
       "3  1429546659_44cb09cbe2.jpg\n",
       "4  1177994172_10d143cb8d.jpg"
      ]
     },
     "metadata": {},
     "output_type": "display_data"
    },
    {
     "name": "stdout",
     "output_type": "stream",
     "text": [
      "<class 'pandas.core.frame.DataFrame'>\n",
      "RangeIndex: 100 entries, 0 to 99\n",
      "Data columns (total 1 columns):\n",
      " #   Column  Non-Null Count  Dtype \n",
      "---  ------  --------------  ----- \n",
      " 0   image   100 non-null    object\n",
      "dtypes: object(1)\n",
      "memory usage: 932.0+ bytes\n",
      "\n",
      "\n"
     ]
    }
   ],
   "source": [
    "for df_title in ['train_dataset', 'CrowdAnnotations', 'ExpertAnnotations', 'test_queries', 'test_images']:\n",
    "    describe_dataframe(df_title)"
   ]
  },
  {
   "cell_type": "markdown",
   "id": "b77e50d1",
   "metadata": {},
   "source": [
    "Посмотрим подробнее информацию о train_dataset. В признаке \"query_id\" содержится идентификатор описания в формате <имя файла изображения>#<порядковый номер описания>. К каждой картинке может быть до 5 описаний. Но кажется, что все записи в датасете содержат только порядковый номер 2. Проверим."
   ]
  },
  {
   "cell_type": "code",
   "execution_count": 5,
   "id": "cbb963dd",
   "metadata": {},
   "outputs": [
    {
     "data": {
      "text/plain": [
       "array(['#2'], dtype=object)"
      ]
     },
     "execution_count": 5,
     "metadata": {},
     "output_type": "execute_result"
    }
   ],
   "source": [
    "train_dataset['query_id'].apply(lambda x: x[x.find('#'):]).unique()"
   ]
  },
  {
   "cell_type": "code",
   "execution_count": 6,
   "id": "eea38b0d",
   "metadata": {},
   "outputs": [
    {
     "data": {
      "text/plain": [
       "array([1], dtype=int64)"
      ]
     },
     "execution_count": 6,
     "metadata": {},
     "output_type": "execute_result"
    }
   ],
   "source": [
    "train_dataset.groupby('query_id')['query_text'].nunique().unique()"
   ]
  },
  {
   "cell_type": "code",
   "execution_count": 114,
   "id": "27d6d858",
   "metadata": {},
   "outputs": [
    {
     "data": {
      "text/plain": [
       "977"
      ]
     },
     "execution_count": 114,
     "metadata": {},
     "output_type": "execute_result"
    }
   ],
   "source": [
    "len(train_dataset['query_id'].unique())"
   ]
  },
  {
   "cell_type": "markdown",
   "id": "ade39144",
   "metadata": {},
   "source": [
    "Действительно так. Казалось бы стоит удалить порядковый номер, но мы не будем этого делать, так как вероятнее всего в датасете представлена только часть данных.\n",
    "\n",
    "При этом каждому query_id соответсвует только один query_text."
   ]
  },
  {
   "cell_type": "code",
   "execution_count": 8,
   "id": "49964f54",
   "metadata": {},
   "outputs": [],
   "source": [
    "# train_dataset.pivot_table(index='query_id', values='image', aggfunc='count')\n",
    "# pd.pivot_table(df, values='col1', index='col2', columns='col3', aggfunc='count')"
   ]
  },
  {
   "cell_type": "markdown",
   "id": "7cbaa861",
   "metadata": {
    "cellId": "9h91oxwx86d7i8rqt5miv4",
    "execution_id": "4401a0e8-fd2b-479b-9e84-6ffafbcead47",
    "id": "7cbaa861"
   },
   "source": [
    "## 2. Проверка данных\n",
    "\n",
    "В некоторых странах, где работает ваша компания, действуют ограничения по обработке изображений: поисковым сервисам и сервисам, предоставляющим возможность поиска, запрещено без разрешения родителей или законных представителей предоставлять любую информацию, в том числе, но не исключительно тексты, изображения, видео и аудио, содержащие описание, изображение или запись голоса детей. Ребёнком считается любой человек, не достигший 16 лет.\n",
    "\n",
    "В вашем сервисе строго следуют законам стран, в которых работают. Поэтому при попытке посмотреть изображения, запрещённые законодательством, вместо картинок показывается дисклеймер:\n",
    "\n",
    "> This image is unavailable in your country in compliance with local laws\n",
    ">\n",
    "\n",
    "Однако у вас в PoC нет возможности воспользоваться данным функционалом. Поэтому все изображения, которые нарушают данный закон, нужно удалить из обучающей выборки."
   ]
  },
  {
   "cell_type": "markdown",
   "id": "17ab055a",
   "metadata": {},
   "source": [
    "Перейдём к датасету с экспертной оценкой. Поскольку в таблице есть оценки от трёх экспертов, напишем функцию, которая обобщает оценку: выбирает наиболее частую оценку (моду), а если такой нет нет, то возвращает None."
   ]
  },
  {
   "cell_type": "markdown",
   "id": "bc6a3f1c",
   "metadata": {},
   "source": [
    "### Оценка экспертов"
   ]
  },
  {
   "cell_type": "code",
   "execution_count": 9,
   "id": "e787d1f7",
   "metadata": {},
   "outputs": [],
   "source": [
    "def expert_opinion(x):\n",
    "    m = int(st.mode(x))\n",
    "    res = 0\n",
    "    for i in x:\n",
    "        if m == i:\n",
    "            res+=1\n",
    "    if res == 1:\n",
    "        m = None\n",
    "    return m"
   ]
  },
  {
   "cell_type": "code",
   "execution_count": 10,
   "id": "f81ace91",
   "metadata": {},
   "outputs": [
    {
     "data": {
      "text/html": [
       "<div>\n",
       "<style scoped>\n",
       "    .dataframe tbody tr th:only-of-type {\n",
       "        vertical-align: middle;\n",
       "    }\n",
       "\n",
       "    .dataframe tbody tr th {\n",
       "        vertical-align: top;\n",
       "    }\n",
       "\n",
       "    .dataframe thead th {\n",
       "        text-align: right;\n",
       "    }\n",
       "</style>\n",
       "<table border=\"1\" class=\"dataframe\">\n",
       "  <thead>\n",
       "    <tr style=\"text-align: right;\">\n",
       "      <th></th>\n",
       "      <th>image</th>\n",
       "      <th>query_id</th>\n",
       "      <th>ex_1</th>\n",
       "      <th>ex_2</th>\n",
       "      <th>ex_3</th>\n",
       "      <th>res</th>\n",
       "    </tr>\n",
       "  </thead>\n",
       "  <tbody>\n",
       "    <tr>\n",
       "      <th>15</th>\n",
       "      <td>106490881_5a2dd9b7bd.jpg</td>\n",
       "      <td>493621130_152bdd4e91.jpg#2</td>\n",
       "      <td>1</td>\n",
       "      <td>1</td>\n",
       "      <td>1</td>\n",
       "      <td>1.0</td>\n",
       "    </tr>\n",
       "    <tr>\n",
       "      <th>16</th>\n",
       "      <td>1082379191_ec1e53f996.jpg</td>\n",
       "      <td>1287475186_2dee85f1a5.jpg#2</td>\n",
       "      <td>1</td>\n",
       "      <td>1</td>\n",
       "      <td>1</td>\n",
       "      <td>1.0</td>\n",
       "    </tr>\n",
       "    <tr>\n",
       "      <th>17</th>\n",
       "      <td>1082379191_ec1e53f996.jpg</td>\n",
       "      <td>1536774449_e16b1b6382.jpg#2</td>\n",
       "      <td>1</td>\n",
       "      <td>2</td>\n",
       "      <td>3</td>\n",
       "      <td>NaN</td>\n",
       "    </tr>\n",
       "    <tr>\n",
       "      <th>18</th>\n",
       "      <td>1082379191_ec1e53f996.jpg</td>\n",
       "      <td>2472980433_210ec62874.jpg#2</td>\n",
       "      <td>1</td>\n",
       "      <td>1</td>\n",
       "      <td>2</td>\n",
       "      <td>1.0</td>\n",
       "    </tr>\n",
       "    <tr>\n",
       "      <th>19</th>\n",
       "      <td>1082379191_ec1e53f996.jpg</td>\n",
       "      <td>2893374123_087f98d58a.jpg#2</td>\n",
       "      <td>1</td>\n",
       "      <td>1</td>\n",
       "      <td>2</td>\n",
       "      <td>1.0</td>\n",
       "    </tr>\n",
       "  </tbody>\n",
       "</table>\n",
       "</div>"
      ],
      "text/plain": [
       "                        image                     query_id  ex_1  ex_2  ex_3  \\\n",
       "15   106490881_5a2dd9b7bd.jpg   493621130_152bdd4e91.jpg#2     1     1     1   \n",
       "16  1082379191_ec1e53f996.jpg  1287475186_2dee85f1a5.jpg#2     1     1     1   \n",
       "17  1082379191_ec1e53f996.jpg  1536774449_e16b1b6382.jpg#2     1     2     3   \n",
       "18  1082379191_ec1e53f996.jpg  2472980433_210ec62874.jpg#2     1     1     2   \n",
       "19  1082379191_ec1e53f996.jpg  2893374123_087f98d58a.jpg#2     1     1     2   \n",
       "\n",
       "    res  \n",
       "15  1.0  \n",
       "16  1.0  \n",
       "17  NaN  \n",
       "18  1.0  \n",
       "19  1.0  "
      ]
     },
     "execution_count": 10,
     "metadata": {},
     "output_type": "execute_result"
    }
   ],
   "source": [
    "ExpertAnnotations['res'] = ExpertAnnotations[['ex_1', 'ex_2', 'ex_3']].apply(lambda x: expert_opinion(x), axis=1)\n",
    "ExpertAnnotations.head(20)\n",
    "ExpertAnnotations[15:20]"
   ]
  },
  {
   "cell_type": "markdown",
   "id": "dab03743",
   "metadata": {},
   "source": [
    "Удалим строки, для которых неясна экспертная оценка."
   ]
  },
  {
   "cell_type": "code",
   "execution_count": 11,
   "id": "1c3e250c",
   "metadata": {},
   "outputs": [
    {
     "name": "stdout",
     "output_type": "stream",
     "text": [
      "Количество строк до: 5822 \n",
      " Количество строк после: 5696 \n",
      " Процент потерь: 2.16 %\n"
     ]
    },
    {
     "data": {
      "text/html": [
       "<div>\n",
       "<style scoped>\n",
       "    .dataframe tbody tr th:only-of-type {\n",
       "        vertical-align: middle;\n",
       "    }\n",
       "\n",
       "    .dataframe tbody tr th {\n",
       "        vertical-align: top;\n",
       "    }\n",
       "\n",
       "    .dataframe thead th {\n",
       "        text-align: right;\n",
       "    }\n",
       "</style>\n",
       "<table border=\"1\" class=\"dataframe\">\n",
       "  <thead>\n",
       "    <tr style=\"text-align: right;\">\n",
       "      <th></th>\n",
       "      <th>image</th>\n",
       "      <th>query_id</th>\n",
       "      <th>ex_1</th>\n",
       "      <th>ex_2</th>\n",
       "      <th>ex_3</th>\n",
       "      <th>res</th>\n",
       "    </tr>\n",
       "  </thead>\n",
       "  <tbody>\n",
       "    <tr>\n",
       "      <th>0</th>\n",
       "      <td>1056338697_4f7d7ce270.jpg</td>\n",
       "      <td>2549968784_39bfbe44f9.jpg#2</td>\n",
       "      <td>1</td>\n",
       "      <td>1</td>\n",
       "      <td>1</td>\n",
       "      <td>1.0</td>\n",
       "    </tr>\n",
       "    <tr>\n",
       "      <th>1</th>\n",
       "      <td>1056338697_4f7d7ce270.jpg</td>\n",
       "      <td>2718495608_d8533e3ac5.jpg#2</td>\n",
       "      <td>1</td>\n",
       "      <td>1</td>\n",
       "      <td>2</td>\n",
       "      <td>1.0</td>\n",
       "    </tr>\n",
       "    <tr>\n",
       "      <th>2</th>\n",
       "      <td>1056338697_4f7d7ce270.jpg</td>\n",
       "      <td>3181701312_70a379ab6e.jpg#2</td>\n",
       "      <td>1</td>\n",
       "      <td>1</td>\n",
       "      <td>2</td>\n",
       "      <td>1.0</td>\n",
       "    </tr>\n",
       "    <tr>\n",
       "      <th>3</th>\n",
       "      <td>1056338697_4f7d7ce270.jpg</td>\n",
       "      <td>3207358897_bfa61fa3c6.jpg#2</td>\n",
       "      <td>1</td>\n",
       "      <td>2</td>\n",
       "      <td>2</td>\n",
       "      <td>2.0</td>\n",
       "    </tr>\n",
       "    <tr>\n",
       "      <th>4</th>\n",
       "      <td>1056338697_4f7d7ce270.jpg</td>\n",
       "      <td>3286822339_5535af6b93.jpg#2</td>\n",
       "      <td>1</td>\n",
       "      <td>1</td>\n",
       "      <td>2</td>\n",
       "      <td>1.0</td>\n",
       "    </tr>\n",
       "    <tr>\n",
       "      <th>5</th>\n",
       "      <td>1056338697_4f7d7ce270.jpg</td>\n",
       "      <td>3360930596_1e75164ce6.jpg#2</td>\n",
       "      <td>1</td>\n",
       "      <td>1</td>\n",
       "      <td>1</td>\n",
       "      <td>1.0</td>\n",
       "    </tr>\n",
       "    <tr>\n",
       "      <th>6</th>\n",
       "      <td>1056338697_4f7d7ce270.jpg</td>\n",
       "      <td>3545652636_0746537307.jpg#2</td>\n",
       "      <td>1</td>\n",
       "      <td>1</td>\n",
       "      <td>1</td>\n",
       "      <td>1.0</td>\n",
       "    </tr>\n",
       "    <tr>\n",
       "      <th>7</th>\n",
       "      <td>1056338697_4f7d7ce270.jpg</td>\n",
       "      <td>434792818_56375e203f.jpg#2</td>\n",
       "      <td>1</td>\n",
       "      <td>1</td>\n",
       "      <td>2</td>\n",
       "      <td>1.0</td>\n",
       "    </tr>\n",
       "    <tr>\n",
       "      <th>8</th>\n",
       "      <td>106490881_5a2dd9b7bd.jpg</td>\n",
       "      <td>1425069308_488e5fcf9d.jpg#2</td>\n",
       "      <td>1</td>\n",
       "      <td>1</td>\n",
       "      <td>1</td>\n",
       "      <td>1.0</td>\n",
       "    </tr>\n",
       "    <tr>\n",
       "      <th>9</th>\n",
       "      <td>106490881_5a2dd9b7bd.jpg</td>\n",
       "      <td>1714316707_8bbaa2a2ba.jpg#2</td>\n",
       "      <td>2</td>\n",
       "      <td>2</td>\n",
       "      <td>2</td>\n",
       "      <td>2.0</td>\n",
       "    </tr>\n",
       "    <tr>\n",
       "      <th>10</th>\n",
       "      <td>106490881_5a2dd9b7bd.jpg</td>\n",
       "      <td>2140182410_8e2a06fbda.jpg#2</td>\n",
       "      <td>2</td>\n",
       "      <td>2</td>\n",
       "      <td>2</td>\n",
       "      <td>2.0</td>\n",
       "    </tr>\n",
       "    <tr>\n",
       "      <th>11</th>\n",
       "      <td>106490881_5a2dd9b7bd.jpg</td>\n",
       "      <td>2398605966_1d0c9e6a20.jpg#2</td>\n",
       "      <td>1</td>\n",
       "      <td>1</td>\n",
       "      <td>1</td>\n",
       "      <td>1.0</td>\n",
       "    </tr>\n",
       "    <tr>\n",
       "      <th>12</th>\n",
       "      <td>106490881_5a2dd9b7bd.jpg</td>\n",
       "      <td>2479652566_8f9fac8af5.jpg#2</td>\n",
       "      <td>1</td>\n",
       "      <td>1</td>\n",
       "      <td>1</td>\n",
       "      <td>1.0</td>\n",
       "    </tr>\n",
       "    <tr>\n",
       "      <th>13</th>\n",
       "      <td>106490881_5a2dd9b7bd.jpg</td>\n",
       "      <td>3119076670_64b5340530.jpg#2</td>\n",
       "      <td>1</td>\n",
       "      <td>1</td>\n",
       "      <td>1</td>\n",
       "      <td>1.0</td>\n",
       "    </tr>\n",
       "    <tr>\n",
       "      <th>14</th>\n",
       "      <td>106490881_5a2dd9b7bd.jpg</td>\n",
       "      <td>317488612_70ac35493b.jpg#2</td>\n",
       "      <td>1</td>\n",
       "      <td>1</td>\n",
       "      <td>1</td>\n",
       "      <td>1.0</td>\n",
       "    </tr>\n",
       "    <tr>\n",
       "      <th>15</th>\n",
       "      <td>106490881_5a2dd9b7bd.jpg</td>\n",
       "      <td>493621130_152bdd4e91.jpg#2</td>\n",
       "      <td>1</td>\n",
       "      <td>1</td>\n",
       "      <td>1</td>\n",
       "      <td>1.0</td>\n",
       "    </tr>\n",
       "    <tr>\n",
       "      <th>16</th>\n",
       "      <td>1082379191_ec1e53f996.jpg</td>\n",
       "      <td>1287475186_2dee85f1a5.jpg#2</td>\n",
       "      <td>1</td>\n",
       "      <td>1</td>\n",
       "      <td>1</td>\n",
       "      <td>1.0</td>\n",
       "    </tr>\n",
       "    <tr>\n",
       "      <th>18</th>\n",
       "      <td>1082379191_ec1e53f996.jpg</td>\n",
       "      <td>2472980433_210ec62874.jpg#2</td>\n",
       "      <td>1</td>\n",
       "      <td>1</td>\n",
       "      <td>2</td>\n",
       "      <td>1.0</td>\n",
       "    </tr>\n",
       "    <tr>\n",
       "      <th>19</th>\n",
       "      <td>1082379191_ec1e53f996.jpg</td>\n",
       "      <td>2893374123_087f98d58a.jpg#2</td>\n",
       "      <td>1</td>\n",
       "      <td>1</td>\n",
       "      <td>2</td>\n",
       "      <td>1.0</td>\n",
       "    </tr>\n",
       "    <tr>\n",
       "      <th>20</th>\n",
       "      <td>1084040636_97d9633581.jpg</td>\n",
       "      <td>2358554995_54ed3baa83.jpg#2</td>\n",
       "      <td>1</td>\n",
       "      <td>1</td>\n",
       "      <td>1</td>\n",
       "      <td>1.0</td>\n",
       "    </tr>\n",
       "  </tbody>\n",
       "</table>\n",
       "</div>"
      ],
      "text/plain": [
       "                        image                     query_id  ex_1  ex_2  ex_3  \\\n",
       "0   1056338697_4f7d7ce270.jpg  2549968784_39bfbe44f9.jpg#2     1     1     1   \n",
       "1   1056338697_4f7d7ce270.jpg  2718495608_d8533e3ac5.jpg#2     1     1     2   \n",
       "2   1056338697_4f7d7ce270.jpg  3181701312_70a379ab6e.jpg#2     1     1     2   \n",
       "3   1056338697_4f7d7ce270.jpg  3207358897_bfa61fa3c6.jpg#2     1     2     2   \n",
       "4   1056338697_4f7d7ce270.jpg  3286822339_5535af6b93.jpg#2     1     1     2   \n",
       "5   1056338697_4f7d7ce270.jpg  3360930596_1e75164ce6.jpg#2     1     1     1   \n",
       "6   1056338697_4f7d7ce270.jpg  3545652636_0746537307.jpg#2     1     1     1   \n",
       "7   1056338697_4f7d7ce270.jpg   434792818_56375e203f.jpg#2     1     1     2   \n",
       "8    106490881_5a2dd9b7bd.jpg  1425069308_488e5fcf9d.jpg#2     1     1     1   \n",
       "9    106490881_5a2dd9b7bd.jpg  1714316707_8bbaa2a2ba.jpg#2     2     2     2   \n",
       "10   106490881_5a2dd9b7bd.jpg  2140182410_8e2a06fbda.jpg#2     2     2     2   \n",
       "11   106490881_5a2dd9b7bd.jpg  2398605966_1d0c9e6a20.jpg#2     1     1     1   \n",
       "12   106490881_5a2dd9b7bd.jpg  2479652566_8f9fac8af5.jpg#2     1     1     1   \n",
       "13   106490881_5a2dd9b7bd.jpg  3119076670_64b5340530.jpg#2     1     1     1   \n",
       "14   106490881_5a2dd9b7bd.jpg   317488612_70ac35493b.jpg#2     1     1     1   \n",
       "15   106490881_5a2dd9b7bd.jpg   493621130_152bdd4e91.jpg#2     1     1     1   \n",
       "16  1082379191_ec1e53f996.jpg  1287475186_2dee85f1a5.jpg#2     1     1     1   \n",
       "18  1082379191_ec1e53f996.jpg  2472980433_210ec62874.jpg#2     1     1     2   \n",
       "19  1082379191_ec1e53f996.jpg  2893374123_087f98d58a.jpg#2     1     1     2   \n",
       "20  1084040636_97d9633581.jpg  2358554995_54ed3baa83.jpg#2     1     1     1   \n",
       "\n",
       "    res  \n",
       "0   1.0  \n",
       "1   1.0  \n",
       "2   1.0  \n",
       "3   2.0  \n",
       "4   1.0  \n",
       "5   1.0  \n",
       "6   1.0  \n",
       "7   1.0  \n",
       "8   1.0  \n",
       "9   2.0  \n",
       "10  2.0  \n",
       "11  1.0  \n",
       "12  1.0  \n",
       "13  1.0  \n",
       "14  1.0  \n",
       "15  1.0  \n",
       "16  1.0  \n",
       "18  1.0  \n",
       "19  1.0  \n",
       "20  1.0  "
      ]
     },
     "metadata": {},
     "output_type": "display_data"
    },
    {
     "name": "stdout",
     "output_type": "stream",
     "text": [
      "<class 'pandas.core.frame.DataFrame'>\n",
      "Int64Index: 5696 entries, 0 to 5821\n",
      "Data columns (total 6 columns):\n",
      " #   Column    Non-Null Count  Dtype  \n",
      "---  ------    --------------  -----  \n",
      " 0   image     5696 non-null   object \n",
      " 1   query_id  5696 non-null   object \n",
      " 2   ex_1      5696 non-null   int64  \n",
      " 3   ex_2      5696 non-null   int64  \n",
      " 4   ex_3      5696 non-null   int64  \n",
      " 5   res       5696 non-null   float64\n",
      "dtypes: float64(1), int64(3), object(2)\n",
      "memory usage: 311.5+ KB\n"
     ]
    }
   ],
   "source": [
    "shape_old = ExpertAnnotations.shape[0]\n",
    "ExpertAnnotations = ExpertAnnotations.dropna()\n",
    "shape_new = ExpertAnnotations.shape[0]\n",
    "print('Количество строк до:', shape_old, '\\n',\n",
    "      'Количество строк после:', shape_new, '\\n',\n",
    "      'Процент потерь:', round((shape_old - shape_new) / shape_old * 100, 2), '%')\n",
    "display(ExpertAnnotations.head(20))\n",
    "ExpertAnnotations.info()"
   ]
  },
  {
   "cell_type": "code",
   "execution_count": 12,
   "id": "38e31063",
   "metadata": {},
   "outputs": [],
   "source": [
    "# train_dataset = train_dataset.iloc[ExpertAnnotations.index]"
   ]
  },
  {
   "cell_type": "markdown",
   "id": "a0306b04",
   "metadata": {},
   "source": [
    "### Очистка данных"
   ]
  },
  {
   "cell_type": "markdown",
   "id": "8f9f63ed",
   "metadata": {},
   "source": [
    "Очистим данные от фото с детьми. Составим словарь с запрещёнными словами. Напишем функцию, которая проверяет описания и возвращает True если текст соответвует юридически м ограничениям, и False если не соответсвует."
   ]
  },
  {
   "cell_type": "code",
   "execution_count": 13,
   "id": "5e04e9fc",
   "metadata": {
    "cellId": "6j23jr8qr9wgyyqkm2puj",
    "id": "b352d2cd"
   },
   "outputs": [
    {
     "data": {
      "text/plain": [
       "['baby',\n",
       " 'boy',\n",
       " 'child',\n",
       " 'girl',\n",
       " 'kid',\n",
       " 'newborn',\n",
       " 'schoolboy',\n",
       " 'teenager',\n",
       " 'toddler',\n",
       " 'youth']"
      ]
     },
     "execution_count": 13,
     "metadata": {},
     "output_type": "execute_result"
    }
   ],
   "source": [
    "exc_dic = ['baby',\n",
    "           'boy',\n",
    "           'child',\n",
    "           'girl',\n",
    "           'teenager',\n",
    "           'schoolboy',\n",
    "           'youth',\n",
    "           'newborn', \n",
    "           'kid',\n",
    "           'toddler']\n",
    "exc_dic.sort()\n",
    "exc_dic"
   ]
  },
  {
   "cell_type": "code",
   "execution_count": 14,
   "id": "9887d595",
   "metadata": {},
   "outputs": [],
   "source": [
    "def find_exc_word(text):\n",
    "    for word in exc_dic:\n",
    "#         print(word, text.find(word))\n",
    "        if text.find(word) != -1:\n",
    "            return False\n",
    "    return True"
   ]
  },
  {
   "cell_type": "markdown",
   "id": "ca2de490",
   "metadata": {},
   "source": [
    "Напишем функцию для лемматизации и преобработки текста."
   ]
  },
  {
   "cell_type": "code",
   "execution_count": 15,
   "id": "25700843",
   "metadata": {},
   "outputs": [],
   "source": [
    "def data_preprocessing(text):\n",
    "    text = re.sub(r'[^A-Za-z0-9]', ' ', text)\n",
    "    \n",
    "    text = text.lower()\n",
    "    \n",
    "    # Parse the sentence using the loaded 'en_core_web_sm' model object `nlp`\n",
    "    doc = nlp(text)\n",
    "    \n",
    "    # Extract the lemma for each token and join\n",
    "    text = \" \".join([token.lemma_ for token in doc])\n",
    "    return text"
   ]
  },
  {
   "cell_type": "code",
   "execution_count": 16,
   "id": "2bd57eb9",
   "metadata": {},
   "outputs": [],
   "source": [
    "# Initialize spacy 'en_core_web_sm' model, keeping only tagger component needed for lemmatization\n",
    "nlp = spacy.load('en_core_web_sm', disable=['parser', 'ner'])\n",
    "stop_words = stopwords.words('english')\n",
    "stop_words.remove('not')\n",
    "# lemmatizer = WordNetLemmatizer()"
   ]
  },
  {
   "cell_type": "code",
   "execution_count": 17,
   "id": "83c9568b",
   "metadata": {},
   "outputs": [
    {
     "name": "stdout",
     "output_type": "stream",
     "text": [
      "CPU times: total: 10.2 s\n",
      "Wall time: 10.2 s\n"
     ]
    }
   ],
   "source": [
    "%%time\n",
    "train_dataset['lemmatized'] = train_dataset['query_text'].apply(lambda x: data_preprocessing(x))"
   ]
  },
  {
   "cell_type": "code",
   "execution_count": 18,
   "id": "b973687e",
   "metadata": {},
   "outputs": [
    {
     "name": "stdout",
     "output_type": "stream",
     "text": [
      "CPU times: total: 15.6 ms\n",
      "Wall time: 7 ms\n"
     ]
    }
   ],
   "source": [
    "%%time\n",
    "train_dataset['is_available'] = train_dataset['lemmatized'].apply(find_exc_word)"
   ]
  },
  {
   "cell_type": "code",
   "execution_count": 19,
   "id": "6c139b12",
   "metadata": {},
   "outputs": [
    {
     "data": {
      "text/html": [
       "<div>\n",
       "<style scoped>\n",
       "    .dataframe tbody tr th:only-of-type {\n",
       "        vertical-align: middle;\n",
       "    }\n",
       "\n",
       "    .dataframe tbody tr th {\n",
       "        vertical-align: top;\n",
       "    }\n",
       "\n",
       "    .dataframe thead th {\n",
       "        text-align: right;\n",
       "    }\n",
       "</style>\n",
       "<table border=\"1\" class=\"dataframe\">\n",
       "  <thead>\n",
       "    <tr style=\"text-align: right;\">\n",
       "      <th></th>\n",
       "      <th>image</th>\n",
       "      <th>query_id</th>\n",
       "      <th>query_text</th>\n",
       "      <th>lemmatized</th>\n",
       "      <th>is_available</th>\n",
       "    </tr>\n",
       "  </thead>\n",
       "  <tbody>\n",
       "    <tr>\n",
       "      <th>20</th>\n",
       "      <td>3718964174_cb2dc1615e.jpg</td>\n",
       "      <td>2718495608_d8533e3ac5.jpg#2</td>\n",
       "      <td>A girl wearing a yellow shirt and sunglasses s...</td>\n",
       "      <td>a girl wear a yellow shirt and sunglass smile</td>\n",
       "      <td>False</td>\n",
       "    </tr>\n",
       "    <tr>\n",
       "      <th>21</th>\n",
       "      <td>700884207_d3ec546494.jpg</td>\n",
       "      <td>2718495608_d8533e3ac5.jpg#2</td>\n",
       "      <td>A girl wearing a yellow shirt and sunglasses s...</td>\n",
       "      <td>a girl wear a yellow shirt and sunglass smile</td>\n",
       "      <td>False</td>\n",
       "    </tr>\n",
       "    <tr>\n",
       "      <th>22</th>\n",
       "      <td>1056338697_4f7d7ce270.jpg</td>\n",
       "      <td>3181701312_70a379ab6e.jpg#2</td>\n",
       "      <td>A man sleeps under a blanket on a city street .</td>\n",
       "      <td>a man sleep under a blanket on a city street</td>\n",
       "      <td>True</td>\n",
       "    </tr>\n",
       "    <tr>\n",
       "      <th>23</th>\n",
       "      <td>3187395715_f2940c2b72.jpg</td>\n",
       "      <td>3181701312_70a379ab6e.jpg#2</td>\n",
       "      <td>A man sleeps under a blanket on a city street .</td>\n",
       "      <td>a man sleep under a blanket on a city street</td>\n",
       "      <td>True</td>\n",
       "    </tr>\n",
       "    <tr>\n",
       "      <th>24</th>\n",
       "      <td>463978865_c87c6ca84c.jpg</td>\n",
       "      <td>3181701312_70a379ab6e.jpg#2</td>\n",
       "      <td>A man sleeps under a blanket on a city street .</td>\n",
       "      <td>a man sleep under a blanket on a city street</td>\n",
       "      <td>True</td>\n",
       "    </tr>\n",
       "  </tbody>\n",
       "</table>\n",
       "</div>"
      ],
      "text/plain": [
       "                        image                     query_id  \\\n",
       "20  3718964174_cb2dc1615e.jpg  2718495608_d8533e3ac5.jpg#2   \n",
       "21   700884207_d3ec546494.jpg  2718495608_d8533e3ac5.jpg#2   \n",
       "22  1056338697_4f7d7ce270.jpg  3181701312_70a379ab6e.jpg#2   \n",
       "23  3187395715_f2940c2b72.jpg  3181701312_70a379ab6e.jpg#2   \n",
       "24   463978865_c87c6ca84c.jpg  3181701312_70a379ab6e.jpg#2   \n",
       "\n",
       "                                           query_text  \\\n",
       "20  A girl wearing a yellow shirt and sunglasses s...   \n",
       "21  A girl wearing a yellow shirt and sunglasses s...   \n",
       "22    A man sleeps under a blanket on a city street .   \n",
       "23    A man sleeps under a blanket on a city street .   \n",
       "24    A man sleeps under a blanket on a city street .   \n",
       "\n",
       "                                         lemmatized  is_available  \n",
       "20  a girl wear a yellow shirt and sunglass smile           False  \n",
       "21  a girl wear a yellow shirt and sunglass smile           False  \n",
       "22   a man sleep under a blanket on a city street            True  \n",
       "23   a man sleep under a blanket on a city street            True  \n",
       "24   a man sleep under a blanket on a city street            True  "
      ]
     },
     "execution_count": 19,
     "metadata": {},
     "output_type": "execute_result"
    }
   ],
   "source": [
    "train_dataset[20:25]"
   ]
  },
  {
   "cell_type": "markdown",
   "id": "2e5e3e11",
   "metadata": {},
   "source": [
    "составим список запрещённых изображений."
   ]
  },
  {
   "cell_type": "code",
   "execution_count": 20,
   "id": "b1df58aa",
   "metadata": {},
   "outputs": [
    {
     "data": {
      "text/plain": [
       "['2549968784_39bfbe44f9.jpg',\n",
       " '2718495608_d8533e3ac5.jpg',\n",
       " '3545652636_0746537307.jpg']"
      ]
     },
     "execution_count": 20,
     "metadata": {},
     "output_type": "execute_result"
    }
   ],
   "source": [
    "forbiden_img = list(train_dataset[train_dataset['is_available']==False]\n",
    "                    ['query_id'].apply(lambda x: x[:x.find('#')]).unique())\n",
    "forbiden_img[:3]"
   ]
  },
  {
   "cell_type": "code",
   "execution_count": 21,
   "id": "8c426809",
   "metadata": {},
   "outputs": [
    {
     "data": {
      "text/plain": [
       "296"
      ]
     },
     "execution_count": 21,
     "metadata": {},
     "output_type": "execute_result"
    }
   ],
   "source": [
    "len(forbiden_img)"
   ]
  },
  {
   "cell_type": "markdown",
   "id": "28618f44",
   "metadata": {},
   "source": [
    "Мы нашли 296 неподходящих фото. Уберём их из обучающей выборки."
   ]
  },
  {
   "cell_type": "code",
   "execution_count": 22,
   "id": "8e827424",
   "metadata": {},
   "outputs": [
    {
     "name": "stdout",
     "output_type": "stream",
     "text": [
      "Количество строк до: 5822 \n",
      " Количество строк после: 4054 \n",
      " Процент потерь: 30.37 %\n"
     ]
    }
   ],
   "source": [
    "shape_old = train_dataset.shape[0]\n",
    "\n",
    "train_dataset_clean = train_dataset.query('image not in @forbiden_img')\n",
    "\n",
    "shape_new = train_dataset_clean.shape[0]\n",
    "print('Количество строк до:', shape_old, '\\n',\n",
    "      'Количество строк после:', shape_new, '\\n',\n",
    "      'Процент потерь:', round((shape_old - shape_new) / shape_old * 100, 2), '%')"
   ]
  },
  {
   "cell_type": "markdown",
   "id": "89110ae9",
   "metadata": {},
   "source": [
    "Мы очистили данные от изображений с детьми. Перейдём к объединению датасетов."
   ]
  },
  {
   "cell_type": "markdown",
   "id": "06df8a28",
   "metadata": {},
   "source": [
    "### Объединение датафреймов"
   ]
  },
  {
   "cell_type": "code",
   "execution_count": 23,
   "id": "e8b39e71",
   "metadata": {},
   "outputs": [
    {
     "data": {
      "text/html": [
       "<div>\n",
       "<style scoped>\n",
       "    .dataframe tbody tr th:only-of-type {\n",
       "        vertical-align: middle;\n",
       "    }\n",
       "\n",
       "    .dataframe tbody tr th {\n",
       "        vertical-align: top;\n",
       "    }\n",
       "\n",
       "    .dataframe thead th {\n",
       "        text-align: right;\n",
       "    }\n",
       "</style>\n",
       "<table border=\"1\" class=\"dataframe\">\n",
       "  <thead>\n",
       "    <tr style=\"text-align: right;\">\n",
       "      <th></th>\n",
       "      <th>image</th>\n",
       "      <th>query_id</th>\n",
       "      <th>ex_1</th>\n",
       "      <th>ex_2</th>\n",
       "      <th>ex_3</th>\n",
       "      <th>res</th>\n",
       "    </tr>\n",
       "  </thead>\n",
       "  <tbody>\n",
       "    <tr>\n",
       "      <th>0</th>\n",
       "      <td>1056338697_4f7d7ce270.jpg</td>\n",
       "      <td>2549968784_39bfbe44f9.jpg#2</td>\n",
       "      <td>1</td>\n",
       "      <td>1</td>\n",
       "      <td>1</td>\n",
       "      <td>1.0</td>\n",
       "    </tr>\n",
       "    <tr>\n",
       "      <th>1</th>\n",
       "      <td>1056338697_4f7d7ce270.jpg</td>\n",
       "      <td>2718495608_d8533e3ac5.jpg#2</td>\n",
       "      <td>1</td>\n",
       "      <td>1</td>\n",
       "      <td>2</td>\n",
       "      <td>1.0</td>\n",
       "    </tr>\n",
       "    <tr>\n",
       "      <th>2</th>\n",
       "      <td>1056338697_4f7d7ce270.jpg</td>\n",
       "      <td>3181701312_70a379ab6e.jpg#2</td>\n",
       "      <td>1</td>\n",
       "      <td>1</td>\n",
       "      <td>2</td>\n",
       "      <td>1.0</td>\n",
       "    </tr>\n",
       "    <tr>\n",
       "      <th>3</th>\n",
       "      <td>1056338697_4f7d7ce270.jpg</td>\n",
       "      <td>3207358897_bfa61fa3c6.jpg#2</td>\n",
       "      <td>1</td>\n",
       "      <td>2</td>\n",
       "      <td>2</td>\n",
       "      <td>2.0</td>\n",
       "    </tr>\n",
       "    <tr>\n",
       "      <th>4</th>\n",
       "      <td>1056338697_4f7d7ce270.jpg</td>\n",
       "      <td>3286822339_5535af6b93.jpg#2</td>\n",
       "      <td>1</td>\n",
       "      <td>1</td>\n",
       "      <td>2</td>\n",
       "      <td>1.0</td>\n",
       "    </tr>\n",
       "  </tbody>\n",
       "</table>\n",
       "</div>"
      ],
      "text/plain": [
       "                       image                     query_id  ex_1  ex_2  ex_3  \\\n",
       "0  1056338697_4f7d7ce270.jpg  2549968784_39bfbe44f9.jpg#2     1     1     1   \n",
       "1  1056338697_4f7d7ce270.jpg  2718495608_d8533e3ac5.jpg#2     1     1     2   \n",
       "2  1056338697_4f7d7ce270.jpg  3181701312_70a379ab6e.jpg#2     1     1     2   \n",
       "3  1056338697_4f7d7ce270.jpg  3207358897_bfa61fa3c6.jpg#2     1     2     2   \n",
       "4  1056338697_4f7d7ce270.jpg  3286822339_5535af6b93.jpg#2     1     1     2   \n",
       "\n",
       "   res  \n",
       "0  1.0  \n",
       "1  1.0  \n",
       "2  1.0  \n",
       "3  2.0  \n",
       "4  1.0  "
      ]
     },
     "metadata": {},
     "output_type": "display_data"
    },
    {
     "name": "stdout",
     "output_type": "stream",
     "text": [
      "<class 'pandas.core.frame.DataFrame'>\n",
      "Int64Index: 5696 entries, 0 to 5821\n",
      "Data columns (total 6 columns):\n",
      " #   Column    Non-Null Count  Dtype  \n",
      "---  ------    --------------  -----  \n",
      " 0   image     5696 non-null   object \n",
      " 1   query_id  5696 non-null   object \n",
      " 2   ex_1      5696 non-null   int64  \n",
      " 3   ex_2      5696 non-null   int64  \n",
      " 4   ex_3      5696 non-null   int64  \n",
      " 5   res       5696 non-null   float64\n",
      "dtypes: float64(1), int64(3), object(2)\n",
      "memory usage: 311.5+ KB\n"
     ]
    }
   ],
   "source": [
    "display(ExpertAnnotations.head())\n",
    "ExpertAnnotations.info()"
   ]
  },
  {
   "cell_type": "code",
   "execution_count": 24,
   "id": "b0c972fb",
   "metadata": {},
   "outputs": [
    {
     "data": {
      "text/html": [
       "<div>\n",
       "<style scoped>\n",
       "    .dataframe tbody tr th:only-of-type {\n",
       "        vertical-align: middle;\n",
       "    }\n",
       "\n",
       "    .dataframe tbody tr th {\n",
       "        vertical-align: top;\n",
       "    }\n",
       "\n",
       "    .dataframe thead th {\n",
       "        text-align: right;\n",
       "    }\n",
       "</style>\n",
       "<table border=\"1\" class=\"dataframe\">\n",
       "  <thead>\n",
       "    <tr style=\"text-align: right;\">\n",
       "      <th></th>\n",
       "      <th>image</th>\n",
       "      <th>query_id</th>\n",
       "      <th>pos_share</th>\n",
       "      <th>pos_num_confirmed</th>\n",
       "      <th>neg_num_confirmed</th>\n",
       "    </tr>\n",
       "  </thead>\n",
       "  <tbody>\n",
       "    <tr>\n",
       "      <th>0</th>\n",
       "      <td>1056338697_4f7d7ce270.jpg</td>\n",
       "      <td>1056338697_4f7d7ce270.jpg#2</td>\n",
       "      <td>1.0</td>\n",
       "      <td>3</td>\n",
       "      <td>0</td>\n",
       "    </tr>\n",
       "    <tr>\n",
       "      <th>1</th>\n",
       "      <td>1056338697_4f7d7ce270.jpg</td>\n",
       "      <td>114051287_dd85625a04.jpg#2</td>\n",
       "      <td>0.0</td>\n",
       "      <td>0</td>\n",
       "      <td>3</td>\n",
       "    </tr>\n",
       "    <tr>\n",
       "      <th>2</th>\n",
       "      <td>1056338697_4f7d7ce270.jpg</td>\n",
       "      <td>1427391496_ea512cbe7f.jpg#2</td>\n",
       "      <td>0.0</td>\n",
       "      <td>0</td>\n",
       "      <td>3</td>\n",
       "    </tr>\n",
       "    <tr>\n",
       "      <th>3</th>\n",
       "      <td>1056338697_4f7d7ce270.jpg</td>\n",
       "      <td>2073964624_52da3a0fc4.jpg#2</td>\n",
       "      <td>0.0</td>\n",
       "      <td>0</td>\n",
       "      <td>3</td>\n",
       "    </tr>\n",
       "    <tr>\n",
       "      <th>4</th>\n",
       "      <td>1056338697_4f7d7ce270.jpg</td>\n",
       "      <td>2083434441_a93bc6306b.jpg#2</td>\n",
       "      <td>0.0</td>\n",
       "      <td>0</td>\n",
       "      <td>3</td>\n",
       "    </tr>\n",
       "  </tbody>\n",
       "</table>\n",
       "</div>"
      ],
      "text/plain": [
       "                       image                     query_id  pos_share  \\\n",
       "0  1056338697_4f7d7ce270.jpg  1056338697_4f7d7ce270.jpg#2        1.0   \n",
       "1  1056338697_4f7d7ce270.jpg   114051287_dd85625a04.jpg#2        0.0   \n",
       "2  1056338697_4f7d7ce270.jpg  1427391496_ea512cbe7f.jpg#2        0.0   \n",
       "3  1056338697_4f7d7ce270.jpg  2073964624_52da3a0fc4.jpg#2        0.0   \n",
       "4  1056338697_4f7d7ce270.jpg  2083434441_a93bc6306b.jpg#2        0.0   \n",
       "\n",
       "   pos_num_confirmed  neg_num_confirmed  \n",
       "0                  3                  0  \n",
       "1                  0                  3  \n",
       "2                  0                  3  \n",
       "3                  0                  3  \n",
       "4                  0                  3  "
      ]
     },
     "metadata": {},
     "output_type": "display_data"
    },
    {
     "name": "stdout",
     "output_type": "stream",
     "text": [
      "<class 'pandas.core.frame.DataFrame'>\n",
      "RangeIndex: 47830 entries, 0 to 47829\n",
      "Data columns (total 5 columns):\n",
      " #   Column             Non-Null Count  Dtype  \n",
      "---  ------             --------------  -----  \n",
      " 0   image              47830 non-null  object \n",
      " 1   query_id           47830 non-null  object \n",
      " 2   pos_share          47830 non-null  float64\n",
      " 3   pos_num_confirmed  47830 non-null  int64  \n",
      " 4   neg_num_confirmed  47830 non-null  int64  \n",
      "dtypes: float64(1), int64(2), object(2)\n",
      "memory usage: 1.8+ MB\n"
     ]
    }
   ],
   "source": [
    "display(CrowdAnnotations.head())\n",
    "CrowdAnnotations.info()"
   ]
  },
  {
   "cell_type": "code",
   "execution_count": 25,
   "id": "384fc7df",
   "metadata": {},
   "outputs": [
    {
     "data": {
      "text/html": [
       "<div>\n",
       "<style scoped>\n",
       "    .dataframe tbody tr th:only-of-type {\n",
       "        vertical-align: middle;\n",
       "    }\n",
       "\n",
       "    .dataframe tbody tr th {\n",
       "        vertical-align: top;\n",
       "    }\n",
       "\n",
       "    .dataframe thead th {\n",
       "        text-align: right;\n",
       "    }\n",
       "</style>\n",
       "<table border=\"1\" class=\"dataframe\">\n",
       "  <thead>\n",
       "    <tr style=\"text-align: right;\">\n",
       "      <th></th>\n",
       "      <th>image</th>\n",
       "      <th>query_id</th>\n",
       "      <th>res</th>\n",
       "      <th>pos_share</th>\n",
       "    </tr>\n",
       "  </thead>\n",
       "  <tbody>\n",
       "    <tr>\n",
       "      <th>0</th>\n",
       "      <td>1056338697_4f7d7ce270.jpg</td>\n",
       "      <td>2549968784_39bfbe44f9.jpg#2</td>\n",
       "      <td>1.0</td>\n",
       "      <td>0.000000</td>\n",
       "    </tr>\n",
       "    <tr>\n",
       "      <th>1</th>\n",
       "      <td>1056338697_4f7d7ce270.jpg</td>\n",
       "      <td>2718495608_d8533e3ac5.jpg#2</td>\n",
       "      <td>1.0</td>\n",
       "      <td>0.000000</td>\n",
       "    </tr>\n",
       "    <tr>\n",
       "      <th>2</th>\n",
       "      <td>1056338697_4f7d7ce270.jpg</td>\n",
       "      <td>434792818_56375e203f.jpg#2</td>\n",
       "      <td>1.0</td>\n",
       "      <td>0.000000</td>\n",
       "    </tr>\n",
       "    <tr>\n",
       "      <th>3</th>\n",
       "      <td>1084040636_97d9633581.jpg</td>\n",
       "      <td>256085101_2c2617c5d0.jpg#2</td>\n",
       "      <td>3.0</td>\n",
       "      <td>0.333333</td>\n",
       "    </tr>\n",
       "    <tr>\n",
       "      <th>4</th>\n",
       "      <td>1084040636_97d9633581.jpg</td>\n",
       "      <td>3396157719_6807d52a81.jpg#2</td>\n",
       "      <td>2.0</td>\n",
       "      <td>0.000000</td>\n",
       "    </tr>\n",
       "    <tr>\n",
       "      <th>5</th>\n",
       "      <td>1096395242_fc69f0ae5a.jpg</td>\n",
       "      <td>1425069308_488e5fcf9d.jpg#2</td>\n",
       "      <td>2.0</td>\n",
       "      <td>0.000000</td>\n",
       "    </tr>\n",
       "    <tr>\n",
       "      <th>6</th>\n",
       "      <td>1096395242_fc69f0ae5a.jpg</td>\n",
       "      <td>2370481277_a3085614c9.jpg#2</td>\n",
       "      <td>2.0</td>\n",
       "      <td>0.000000</td>\n",
       "    </tr>\n",
       "    <tr>\n",
       "      <th>7</th>\n",
       "      <td>1107246521_d16a476380.jpg</td>\n",
       "      <td>2410320522_d967f0b75c.jpg#2</td>\n",
       "      <td>3.0</td>\n",
       "      <td>0.000000</td>\n",
       "    </tr>\n",
       "    <tr>\n",
       "      <th>8</th>\n",
       "      <td>1107246521_d16a476380.jpg</td>\n",
       "      <td>293327462_20dee0de56.jpg#2</td>\n",
       "      <td>2.0</td>\n",
       "      <td>0.333333</td>\n",
       "    </tr>\n",
       "    <tr>\n",
       "      <th>9</th>\n",
       "      <td>1107246521_d16a476380.jpg</td>\n",
       "      <td>3582742297_1daa29968e.jpg#2</td>\n",
       "      <td>3.0</td>\n",
       "      <td>0.000000</td>\n",
       "    </tr>\n",
       "  </tbody>\n",
       "</table>\n",
       "</div>"
      ],
      "text/plain": [
       "                       image                     query_id  res  pos_share\n",
       "0  1056338697_4f7d7ce270.jpg  2549968784_39bfbe44f9.jpg#2  1.0   0.000000\n",
       "1  1056338697_4f7d7ce270.jpg  2718495608_d8533e3ac5.jpg#2  1.0   0.000000\n",
       "2  1056338697_4f7d7ce270.jpg   434792818_56375e203f.jpg#2  1.0   0.000000\n",
       "3  1084040636_97d9633581.jpg   256085101_2c2617c5d0.jpg#2  3.0   0.333333\n",
       "4  1084040636_97d9633581.jpg  3396157719_6807d52a81.jpg#2  2.0   0.000000\n",
       "5  1096395242_fc69f0ae5a.jpg  1425069308_488e5fcf9d.jpg#2  2.0   0.000000\n",
       "6  1096395242_fc69f0ae5a.jpg  2370481277_a3085614c9.jpg#2  2.0   0.000000\n",
       "7  1107246521_d16a476380.jpg  2410320522_d967f0b75c.jpg#2  3.0   0.000000\n",
       "8  1107246521_d16a476380.jpg   293327462_20dee0de56.jpg#2  2.0   0.333333\n",
       "9  1107246521_d16a476380.jpg  3582742297_1daa29968e.jpg#2  3.0   0.000000"
      ]
     },
     "metadata": {},
     "output_type": "display_data"
    },
    {
     "name": "stdout",
     "output_type": "stream",
     "text": [
      "<class 'pandas.core.frame.DataFrame'>\n",
      "Int64Index: 2258 entries, 0 to 2257\n",
      "Data columns (total 4 columns):\n",
      " #   Column     Non-Null Count  Dtype  \n",
      "---  ------     --------------  -----  \n",
      " 0   image      2258 non-null   object \n",
      " 1   query_id   2258 non-null   object \n",
      " 2   res        2258 non-null   float64\n",
      " 3   pos_share  2258 non-null   float64\n",
      "dtypes: float64(2), object(2)\n",
      "memory usage: 88.2+ KB\n"
     ]
    }
   ],
   "source": [
    "data_train = ExpertAnnotations.merge(CrowdAnnotations, on=['image', 'query_id'])[['image', 'query_id', 'res', 'pos_share']]\n",
    "display(data_train.head(10))\n",
    "data_train.info()"
   ]
  },
  {
   "cell_type": "markdown",
   "id": "410fd860",
   "metadata": {},
   "source": [
    "Нам необходимо обобщить оценку экпертов и краудсорсинга. Для краудсорсинга у нас уже есть доля людей оценивших соответствие изображения и описания.  Разумеется это число от 0 до 1. Приведём экспертную оценку к такому же виду. Эксперты давали 4 оценки от 0 до 4, где 0 полное несоответсвие, а 4 полное соответсвие. Переведём это в доли, где 0 - 0, 1 - 0,25, 2 - 0,5, 3 - 0,75, 4 - 1.\n",
    "\n",
    "После объединим оценки экспертов и краудсорсинга в одну с коэфециентами значимости 0.6 и 0.4."
   ]
  },
  {
   "cell_type": "code",
   "execution_count": 26,
   "id": "e3450aa6",
   "metadata": {},
   "outputs": [
    {
     "data": {
      "text/html": [
       "<div>\n",
       "<style scoped>\n",
       "    .dataframe tbody tr th:only-of-type {\n",
       "        vertical-align: middle;\n",
       "    }\n",
       "\n",
       "    .dataframe tbody tr th {\n",
       "        vertical-align: top;\n",
       "    }\n",
       "\n",
       "    .dataframe thead th {\n",
       "        text-align: right;\n",
       "    }\n",
       "</style>\n",
       "<table border=\"1\" class=\"dataframe\">\n",
       "  <thead>\n",
       "    <tr style=\"text-align: right;\">\n",
       "      <th></th>\n",
       "      <th>image</th>\n",
       "      <th>query_id</th>\n",
       "      <th>res</th>\n",
       "      <th>pos_share</th>\n",
       "      <th>review</th>\n",
       "    </tr>\n",
       "  </thead>\n",
       "  <tbody>\n",
       "    <tr>\n",
       "      <th>0</th>\n",
       "      <td>1056338697_4f7d7ce270.jpg</td>\n",
       "      <td>2549968784_39bfbe44f9.jpg#2</td>\n",
       "      <td>1.0</td>\n",
       "      <td>0.000000</td>\n",
       "      <td>0.150</td>\n",
       "    </tr>\n",
       "    <tr>\n",
       "      <th>1</th>\n",
       "      <td>1056338697_4f7d7ce270.jpg</td>\n",
       "      <td>2718495608_d8533e3ac5.jpg#2</td>\n",
       "      <td>1.0</td>\n",
       "      <td>0.000000</td>\n",
       "      <td>0.150</td>\n",
       "    </tr>\n",
       "    <tr>\n",
       "      <th>2</th>\n",
       "      <td>1056338697_4f7d7ce270.jpg</td>\n",
       "      <td>434792818_56375e203f.jpg#2</td>\n",
       "      <td>1.0</td>\n",
       "      <td>0.000000</td>\n",
       "      <td>0.150</td>\n",
       "    </tr>\n",
       "    <tr>\n",
       "      <th>3</th>\n",
       "      <td>1084040636_97d9633581.jpg</td>\n",
       "      <td>256085101_2c2617c5d0.jpg#2</td>\n",
       "      <td>3.0</td>\n",
       "      <td>0.333333</td>\n",
       "      <td>0.583</td>\n",
       "    </tr>\n",
       "    <tr>\n",
       "      <th>4</th>\n",
       "      <td>1084040636_97d9633581.jpg</td>\n",
       "      <td>3396157719_6807d52a81.jpg#2</td>\n",
       "      <td>2.0</td>\n",
       "      <td>0.000000</td>\n",
       "      <td>0.300</td>\n",
       "    </tr>\n",
       "    <tr>\n",
       "      <th>...</th>\n",
       "      <td>...</td>\n",
       "      <td>...</td>\n",
       "      <td>...</td>\n",
       "      <td>...</td>\n",
       "      <td>...</td>\n",
       "    </tr>\n",
       "    <tr>\n",
       "      <th>2253</th>\n",
       "      <td>979383193_0a542a059d.jpg</td>\n",
       "      <td>3244747165_17028936e0.jpg#2</td>\n",
       "      <td>2.0</td>\n",
       "      <td>0.000000</td>\n",
       "      <td>0.300</td>\n",
       "    </tr>\n",
       "    <tr>\n",
       "      <th>2254</th>\n",
       "      <td>979383193_0a542a059d.jpg</td>\n",
       "      <td>3482062809_3b694322c4.jpg#2</td>\n",
       "      <td>2.0</td>\n",
       "      <td>0.000000</td>\n",
       "      <td>0.300</td>\n",
       "    </tr>\n",
       "    <tr>\n",
       "      <th>2255</th>\n",
       "      <td>997722733_0cb5439472.jpg</td>\n",
       "      <td>2985679744_75a7102aab.jpg#2</td>\n",
       "      <td>1.0</td>\n",
       "      <td>0.000000</td>\n",
       "      <td>0.150</td>\n",
       "    </tr>\n",
       "    <tr>\n",
       "      <th>2256</th>\n",
       "      <td>997722733_0cb5439472.jpg</td>\n",
       "      <td>3150742439_b8a352e1e0.jpg#2</td>\n",
       "      <td>1.0</td>\n",
       "      <td>0.000000</td>\n",
       "      <td>0.150</td>\n",
       "    </tr>\n",
       "    <tr>\n",
       "      <th>2257</th>\n",
       "      <td>997722733_0cb5439472.jpg</td>\n",
       "      <td>486917990_72bd4069af.jpg#2</td>\n",
       "      <td>3.0</td>\n",
       "      <td>0.333333</td>\n",
       "      <td>0.583</td>\n",
       "    </tr>\n",
       "  </tbody>\n",
       "</table>\n",
       "<p>2258 rows × 5 columns</p>\n",
       "</div>"
      ],
      "text/plain": [
       "                          image                     query_id  res  pos_share  \\\n",
       "0     1056338697_4f7d7ce270.jpg  2549968784_39bfbe44f9.jpg#2  1.0   0.000000   \n",
       "1     1056338697_4f7d7ce270.jpg  2718495608_d8533e3ac5.jpg#2  1.0   0.000000   \n",
       "2     1056338697_4f7d7ce270.jpg   434792818_56375e203f.jpg#2  1.0   0.000000   \n",
       "3     1084040636_97d9633581.jpg   256085101_2c2617c5d0.jpg#2  3.0   0.333333   \n",
       "4     1084040636_97d9633581.jpg  3396157719_6807d52a81.jpg#2  2.0   0.000000   \n",
       "...                         ...                          ...  ...        ...   \n",
       "2253   979383193_0a542a059d.jpg  3244747165_17028936e0.jpg#2  2.0   0.000000   \n",
       "2254   979383193_0a542a059d.jpg  3482062809_3b694322c4.jpg#2  2.0   0.000000   \n",
       "2255   997722733_0cb5439472.jpg  2985679744_75a7102aab.jpg#2  1.0   0.000000   \n",
       "2256   997722733_0cb5439472.jpg  3150742439_b8a352e1e0.jpg#2  1.0   0.000000   \n",
       "2257   997722733_0cb5439472.jpg   486917990_72bd4069af.jpg#2  3.0   0.333333   \n",
       "\n",
       "      review  \n",
       "0      0.150  \n",
       "1      0.150  \n",
       "2      0.150  \n",
       "3      0.583  \n",
       "4      0.300  \n",
       "...      ...  \n",
       "2253   0.300  \n",
       "2254   0.300  \n",
       "2255   0.150  \n",
       "2256   0.150  \n",
       "2257   0.583  \n",
       "\n",
       "[2258 rows x 5 columns]"
      ]
     },
     "execution_count": 26,
     "metadata": {},
     "output_type": "execute_result"
    }
   ],
   "source": [
    "# def calc_grade(x):\n",
    "#     return round(x['res']/4*0.6 + x['pos_share']*0.4, 3)\n",
    "# train_data['review'] = train_data.apply(lambda x: calc_grade(x), axis=1)\n",
    "# train_data.head(10)\n",
    "\n",
    "data_train['review'] = round(data_train['res']/4*0.6 + data_train['pos_share']*0.4, 3)\n",
    "data_train.head(10)\n",
    "data_train"
   ]
  },
  {
   "cell_type": "code",
   "execution_count": 27,
   "id": "6a837bd1",
   "metadata": {},
   "outputs": [
    {
     "data": {
      "text/html": [
       "<div>\n",
       "<style scoped>\n",
       "    .dataframe tbody tr th:only-of-type {\n",
       "        vertical-align: middle;\n",
       "    }\n",
       "\n",
       "    .dataframe tbody tr th {\n",
       "        vertical-align: top;\n",
       "    }\n",
       "\n",
       "    .dataframe thead th {\n",
       "        text-align: right;\n",
       "    }\n",
       "</style>\n",
       "<table border=\"1\" class=\"dataframe\">\n",
       "  <thead>\n",
       "    <tr style=\"text-align: right;\">\n",
       "      <th></th>\n",
       "      <th>image</th>\n",
       "      <th>query_id</th>\n",
       "      <th>query_text</th>\n",
       "      <th>lemmatized</th>\n",
       "      <th>is_available</th>\n",
       "    </tr>\n",
       "  </thead>\n",
       "  <tbody>\n",
       "    <tr>\n",
       "      <th>0</th>\n",
       "      <td>1056338697_4f7d7ce270.jpg</td>\n",
       "      <td>2549968784_39bfbe44f9.jpg#2</td>\n",
       "      <td>A young child is wearing blue goggles and sitt...</td>\n",
       "      <td>a young child be wear blue goggle and sit in a...</td>\n",
       "      <td>False</td>\n",
       "    </tr>\n",
       "    <tr>\n",
       "      <th>1</th>\n",
       "      <td>1262583859_653f1469a9.jpg</td>\n",
       "      <td>2549968784_39bfbe44f9.jpg#2</td>\n",
       "      <td>A young child is wearing blue goggles and sitt...</td>\n",
       "      <td>a young child be wear blue goggle and sit in a...</td>\n",
       "      <td>False</td>\n",
       "    </tr>\n",
       "    <tr>\n",
       "      <th>4</th>\n",
       "      <td>2621415349_ef1a7e73be.jpg</td>\n",
       "      <td>2549968784_39bfbe44f9.jpg#2</td>\n",
       "      <td>A young child is wearing blue goggles and sitt...</td>\n",
       "      <td>a young child be wear blue goggle and sit in a...</td>\n",
       "      <td>False</td>\n",
       "    </tr>\n",
       "    <tr>\n",
       "      <th>6</th>\n",
       "      <td>3155451946_c0862c70cb.jpg</td>\n",
       "      <td>2549968784_39bfbe44f9.jpg#2</td>\n",
       "      <td>A young child is wearing blue goggles and sitt...</td>\n",
       "      <td>a young child be wear blue goggle and sit in a...</td>\n",
       "      <td>False</td>\n",
       "    </tr>\n",
       "    <tr>\n",
       "      <th>7</th>\n",
       "      <td>3222041930_f642f49d28.jpg</td>\n",
       "      <td>2549968784_39bfbe44f9.jpg#2</td>\n",
       "      <td>A young child is wearing blue goggles and sitt...</td>\n",
       "      <td>a young child be wear blue goggle and sit in a...</td>\n",
       "      <td>False</td>\n",
       "    </tr>\n",
       "  </tbody>\n",
       "</table>\n",
       "</div>"
      ],
      "text/plain": [
       "                       image                     query_id  \\\n",
       "0  1056338697_4f7d7ce270.jpg  2549968784_39bfbe44f9.jpg#2   \n",
       "1  1262583859_653f1469a9.jpg  2549968784_39bfbe44f9.jpg#2   \n",
       "4  2621415349_ef1a7e73be.jpg  2549968784_39bfbe44f9.jpg#2   \n",
       "6  3155451946_c0862c70cb.jpg  2549968784_39bfbe44f9.jpg#2   \n",
       "7  3222041930_f642f49d28.jpg  2549968784_39bfbe44f9.jpg#2   \n",
       "\n",
       "                                          query_text  \\\n",
       "0  A young child is wearing blue goggles and sitt...   \n",
       "1  A young child is wearing blue goggles and sitt...   \n",
       "4  A young child is wearing blue goggles and sitt...   \n",
       "6  A young child is wearing blue goggles and sitt...   \n",
       "7  A young child is wearing blue goggles and sitt...   \n",
       "\n",
       "                                          lemmatized  is_available  \n",
       "0  a young child be wear blue goggle and sit in a...         False  \n",
       "1  a young child be wear blue goggle and sit in a...         False  \n",
       "4  a young child be wear blue goggle and sit in a...         False  \n",
       "6  a young child be wear blue goggle and sit in a...         False  \n",
       "7  a young child be wear blue goggle and sit in a...         False  "
      ]
     },
     "metadata": {},
     "output_type": "display_data"
    },
    {
     "name": "stdout",
     "output_type": "stream",
     "text": [
      "<class 'pandas.core.frame.DataFrame'>\n",
      "Int64Index: 4054 entries, 0 to 5820\n",
      "Data columns (total 5 columns):\n",
      " #   Column        Non-Null Count  Dtype \n",
      "---  ------        --------------  ----- \n",
      " 0   image         4054 non-null   object\n",
      " 1   query_id      4054 non-null   object\n",
      " 2   query_text    4054 non-null   object\n",
      " 3   lemmatized    4054 non-null   object\n",
      " 4   is_available  4054 non-null   bool  \n",
      "dtypes: bool(1), object(4)\n",
      "memory usage: 162.3+ KB\n"
     ]
    }
   ],
   "source": [
    "display(train_dataset_clean.head())\n",
    "train_dataset_clean.info()"
   ]
  },
  {
   "cell_type": "code",
   "execution_count": 28,
   "id": "86ea5037",
   "metadata": {},
   "outputs": [
    {
     "data": {
      "text/html": [
       "<div>\n",
       "<style scoped>\n",
       "    .dataframe tbody tr th:only-of-type {\n",
       "        vertical-align: middle;\n",
       "    }\n",
       "\n",
       "    .dataframe tbody tr th {\n",
       "        vertical-align: top;\n",
       "    }\n",
       "\n",
       "    .dataframe thead th {\n",
       "        text-align: right;\n",
       "    }\n",
       "</style>\n",
       "<table border=\"1\" class=\"dataframe\">\n",
       "  <thead>\n",
       "    <tr style=\"text-align: right;\">\n",
       "      <th></th>\n",
       "      <th>image</th>\n",
       "      <th>query_id</th>\n",
       "      <th>query_text</th>\n",
       "      <th>lemmatized</th>\n",
       "      <th>is_available</th>\n",
       "      <th>res</th>\n",
       "      <th>pos_share</th>\n",
       "      <th>review</th>\n",
       "    </tr>\n",
       "  </thead>\n",
       "  <tbody>\n",
       "    <tr>\n",
       "      <th>0</th>\n",
       "      <td>1056338697_4f7d7ce270.jpg</td>\n",
       "      <td>2549968784_39bfbe44f9.jpg#2</td>\n",
       "      <td>A young child is wearing blue goggles and sitt...</td>\n",
       "      <td>a young child be wear blue goggle and sit in a...</td>\n",
       "      <td>False</td>\n",
       "      <td>1.0</td>\n",
       "      <td>0.0</td>\n",
       "      <td>0.15</td>\n",
       "    </tr>\n",
       "    <tr>\n",
       "      <th>1</th>\n",
       "      <td>2447284966_d6bbdb4b6e.jpg</td>\n",
       "      <td>2549968784_39bfbe44f9.jpg#2</td>\n",
       "      <td>A young child is wearing blue goggles and sitt...</td>\n",
       "      <td>a young child be wear blue goggle and sit in a...</td>\n",
       "      <td>False</td>\n",
       "      <td>2.0</td>\n",
       "      <td>0.0</td>\n",
       "      <td>0.30</td>\n",
       "    </tr>\n",
       "    <tr>\n",
       "      <th>2</th>\n",
       "      <td>2549968784_39bfbe44f9.jpg</td>\n",
       "      <td>2549968784_39bfbe44f9.jpg#2</td>\n",
       "      <td>A young child is wearing blue goggles and sitt...</td>\n",
       "      <td>a young child be wear blue goggle and sit in a...</td>\n",
       "      <td>False</td>\n",
       "      <td>4.0</td>\n",
       "      <td>1.0</td>\n",
       "      <td>1.00</td>\n",
       "    </tr>\n",
       "    <tr>\n",
       "      <th>3</th>\n",
       "      <td>3030566410_393c36a6c5.jpg</td>\n",
       "      <td>2549968784_39bfbe44f9.jpg#2</td>\n",
       "      <td>A young child is wearing blue goggles and sitt...</td>\n",
       "      <td>a young child be wear blue goggle and sit in a...</td>\n",
       "      <td>False</td>\n",
       "      <td>2.0</td>\n",
       "      <td>0.0</td>\n",
       "      <td>0.30</td>\n",
       "    </tr>\n",
       "    <tr>\n",
       "      <th>4</th>\n",
       "      <td>3718964174_cb2dc1615e.jpg</td>\n",
       "      <td>2549968784_39bfbe44f9.jpg#2</td>\n",
       "      <td>A young child is wearing blue goggles and sitt...</td>\n",
       "      <td>a young child be wear blue goggle and sit in a...</td>\n",
       "      <td>False</td>\n",
       "      <td>1.0</td>\n",
       "      <td>0.0</td>\n",
       "      <td>0.15</td>\n",
       "    </tr>\n",
       "    <tr>\n",
       "      <th>5</th>\n",
       "      <td>3741827382_71e93298d0.jpg</td>\n",
       "      <td>2549968784_39bfbe44f9.jpg#2</td>\n",
       "      <td>A young child is wearing blue goggles and sitt...</td>\n",
       "      <td>a young child be wear blue goggle and sit in a...</td>\n",
       "      <td>False</td>\n",
       "      <td>2.0</td>\n",
       "      <td>0.0</td>\n",
       "      <td>0.30</td>\n",
       "    </tr>\n",
       "    <tr>\n",
       "      <th>6</th>\n",
       "      <td>1056338697_4f7d7ce270.jpg</td>\n",
       "      <td>2718495608_d8533e3ac5.jpg#2</td>\n",
       "      <td>A girl wearing a yellow shirt and sunglasses s...</td>\n",
       "      <td>a girl wear a yellow shirt and sunglass smile</td>\n",
       "      <td>False</td>\n",
       "      <td>1.0</td>\n",
       "      <td>0.0</td>\n",
       "      <td>0.15</td>\n",
       "    </tr>\n",
       "    <tr>\n",
       "      <th>7</th>\n",
       "      <td>1167669558_87a8a467d6.jpg</td>\n",
       "      <td>2718495608_d8533e3ac5.jpg#2</td>\n",
       "      <td>A girl wearing a yellow shirt and sunglasses s...</td>\n",
       "      <td>a girl wear a yellow shirt and sunglass smile</td>\n",
       "      <td>False</td>\n",
       "      <td>2.0</td>\n",
       "      <td>0.0</td>\n",
       "      <td>0.30</td>\n",
       "    </tr>\n",
       "    <tr>\n",
       "      <th>8</th>\n",
       "      <td>2718495608_d8533e3ac5.jpg</td>\n",
       "      <td>2718495608_d8533e3ac5.jpg#2</td>\n",
       "      <td>A girl wearing a yellow shirt and sunglasses s...</td>\n",
       "      <td>a girl wear a yellow shirt and sunglass smile</td>\n",
       "      <td>False</td>\n",
       "      <td>4.0</td>\n",
       "      <td>1.0</td>\n",
       "      <td>1.00</td>\n",
       "    </tr>\n",
       "    <tr>\n",
       "      <th>9</th>\n",
       "      <td>3503689049_63212220be.jpg</td>\n",
       "      <td>2718495608_d8533e3ac5.jpg#2</td>\n",
       "      <td>A girl wearing a yellow shirt and sunglasses s...</td>\n",
       "      <td>a girl wear a yellow shirt and sunglass smile</td>\n",
       "      <td>False</td>\n",
       "      <td>2.0</td>\n",
       "      <td>0.0</td>\n",
       "      <td>0.30</td>\n",
       "    </tr>\n",
       "  </tbody>\n",
       "</table>\n",
       "</div>"
      ],
      "text/plain": [
       "                       image                     query_id  \\\n",
       "0  1056338697_4f7d7ce270.jpg  2549968784_39bfbe44f9.jpg#2   \n",
       "1  2447284966_d6bbdb4b6e.jpg  2549968784_39bfbe44f9.jpg#2   \n",
       "2  2549968784_39bfbe44f9.jpg  2549968784_39bfbe44f9.jpg#2   \n",
       "3  3030566410_393c36a6c5.jpg  2549968784_39bfbe44f9.jpg#2   \n",
       "4  3718964174_cb2dc1615e.jpg  2549968784_39bfbe44f9.jpg#2   \n",
       "5  3741827382_71e93298d0.jpg  2549968784_39bfbe44f9.jpg#2   \n",
       "6  1056338697_4f7d7ce270.jpg  2718495608_d8533e3ac5.jpg#2   \n",
       "7  1167669558_87a8a467d6.jpg  2718495608_d8533e3ac5.jpg#2   \n",
       "8  2718495608_d8533e3ac5.jpg  2718495608_d8533e3ac5.jpg#2   \n",
       "9  3503689049_63212220be.jpg  2718495608_d8533e3ac5.jpg#2   \n",
       "\n",
       "                                          query_text  \\\n",
       "0  A young child is wearing blue goggles and sitt...   \n",
       "1  A young child is wearing blue goggles and sitt...   \n",
       "2  A young child is wearing blue goggles and sitt...   \n",
       "3  A young child is wearing blue goggles and sitt...   \n",
       "4  A young child is wearing blue goggles and sitt...   \n",
       "5  A young child is wearing blue goggles and sitt...   \n",
       "6  A girl wearing a yellow shirt and sunglasses s...   \n",
       "7  A girl wearing a yellow shirt and sunglasses s...   \n",
       "8  A girl wearing a yellow shirt and sunglasses s...   \n",
       "9  A girl wearing a yellow shirt and sunglasses s...   \n",
       "\n",
       "                                          lemmatized  is_available  res  \\\n",
       "0  a young child be wear blue goggle and sit in a...         False  1.0   \n",
       "1  a young child be wear blue goggle and sit in a...         False  2.0   \n",
       "2  a young child be wear blue goggle and sit in a...         False  4.0   \n",
       "3  a young child be wear blue goggle and sit in a...         False  2.0   \n",
       "4  a young child be wear blue goggle and sit in a...         False  1.0   \n",
       "5  a young child be wear blue goggle and sit in a...         False  2.0   \n",
       "6    a girl wear a yellow shirt and sunglass smile           False  1.0   \n",
       "7    a girl wear a yellow shirt and sunglass smile           False  2.0   \n",
       "8    a girl wear a yellow shirt and sunglass smile           False  4.0   \n",
       "9    a girl wear a yellow shirt and sunglass smile           False  2.0   \n",
       "\n",
       "   pos_share  review  \n",
       "0        0.0    0.15  \n",
       "1        0.0    0.30  \n",
       "2        1.0    1.00  \n",
       "3        0.0    0.30  \n",
       "4        0.0    0.15  \n",
       "5        0.0    0.30  \n",
       "6        0.0    0.15  \n",
       "7        0.0    0.30  \n",
       "8        1.0    1.00  \n",
       "9        0.0    0.30  "
      ]
     },
     "metadata": {},
     "output_type": "display_data"
    },
    {
     "name": "stdout",
     "output_type": "stream",
     "text": [
      "<class 'pandas.core.frame.DataFrame'>\n",
      "Int64Index: 2258 entries, 0 to 2257\n",
      "Data columns (total 8 columns):\n",
      " #   Column        Non-Null Count  Dtype  \n",
      "---  ------        --------------  -----  \n",
      " 0   image         2258 non-null   object \n",
      " 1   query_id      2258 non-null   object \n",
      " 2   query_text    2258 non-null   object \n",
      " 3   lemmatized    2258 non-null   object \n",
      " 4   is_available  2258 non-null   bool   \n",
      " 5   res           2258 non-null   float64\n",
      " 6   pos_share     2258 non-null   float64\n",
      " 7   review        2258 non-null   float64\n",
      "dtypes: bool(1), float64(3), object(4)\n",
      "memory usage: 143.3+ KB\n"
     ]
    }
   ],
   "source": [
    "data_train = train_dataset.merge(data_train, on=['image', 'query_id'])\n",
    "display(data_train.head(10))\n",
    "data_train.info()"
   ]
  },
  {
   "cell_type": "code",
   "execution_count": 29,
   "id": "13b98e9d",
   "metadata": {},
   "outputs": [
    {
     "data": {
      "text/plain": [
       "0"
      ]
     },
     "execution_count": 29,
     "metadata": {},
     "output_type": "execute_result"
    }
   ],
   "source": [
    "data_train.duplicated().sum()"
   ]
  },
  {
   "cell_type": "markdown",
   "id": "1d4ef807",
   "metadata": {
    "cellId": "ggxcvhmhcm9rshysbjoo4n",
    "execution_id": "d7935f99-48c0-42b8-a227-dd2b2d9b70fc",
    "id": "1d4ef807"
   },
   "source": [
    "## 3. Векторизация изображений\n",
    "\n",
    "Перейдём к векторизации изображений.\n",
    "\n",
    "Самый примитивный способ — прочесть изображение и превратить полученную матрицу в вектор. Такой способ нам не подходит: длина векторов может быть сильно разной, так как размеры изображений разные. Поэтому стоит обратиться к свёрточным сетям: они позволяют \"выделить\" главные компоненты изображений. Как это сделать? Нужно выбрать какую-либо архитектуру, например ResNet-18, посмотреть на слои и исключить полносвязные слои, которые отвечают за конечное предсказание. При этом можно загрузить модель данной архитектуры, предварительно натренированную на датасете ImageNet."
   ]
  },
  {
   "cell_type": "code",
   "execution_count": 30,
   "id": "b7645da6",
   "metadata": {},
   "outputs": [],
   "source": [
    "resnet = models.resnet18(pretrained=True)\n",
    "for param in resnet.parameters():\n",
    "    param.requires_grad_(False) \n",
    "modules = list(resnet.children())[:-2]\n",
    "resnet = nn.Sequential(*modules) \n",
    "resnet.eval() \n",
    "\n",
    "norm = transforms.Normalize(\n",
    "    mean=[0.485, 0.456, 0.406], std=[0.229, 0.224, 0.225])\n",
    "preprocess = transforms.Compose([\n",
    "    transforms.Resize(256),\n",
    "    transforms.CenterCrop(224),\n",
    "    transforms.ToTensor(),\n",
    "    norm,\n",
    "])"
   ]
  },
  {
   "cell_type": "code",
   "execution_count": 31,
   "id": "4e8ed353",
   "metadata": {},
   "outputs": [
    {
     "name": "stdout",
     "output_type": "stream",
     "text": [
      "[Conv2d(3, 64, kernel_size=(7, 7), stride=(2, 2), padding=(3, 3), bias=False), BatchNorm2d(64, eps=1e-05, momentum=0.1, affine=True, track_running_stats=True), ReLU(inplace=True), MaxPool2d(kernel_size=3, stride=2, padding=1, dilation=1, ceil_mode=False), Sequential(\n",
      "  (0): BasicBlock(\n",
      "    (conv1): Conv2d(64, 64, kernel_size=(3, 3), stride=(1, 1), padding=(1, 1), bias=False)\n",
      "    (bn1): BatchNorm2d(64, eps=1e-05, momentum=0.1, affine=True, track_running_stats=True)\n",
      "    (relu): ReLU(inplace=True)\n",
      "    (conv2): Conv2d(64, 64, kernel_size=(3, 3), stride=(1, 1), padding=(1, 1), bias=False)\n",
      "    (bn2): BatchNorm2d(64, eps=1e-05, momentum=0.1, affine=True, track_running_stats=True)\n",
      "  )\n",
      "  (1): BasicBlock(\n",
      "    (conv1): Conv2d(64, 64, kernel_size=(3, 3), stride=(1, 1), padding=(1, 1), bias=False)\n",
      "    (bn1): BatchNorm2d(64, eps=1e-05, momentum=0.1, affine=True, track_running_stats=True)\n",
      "    (relu): ReLU(inplace=True)\n",
      "    (conv2): Conv2d(64, 64, kernel_size=(3, 3), stride=(1, 1), padding=(1, 1), bias=False)\n",
      "    (bn2): BatchNorm2d(64, eps=1e-05, momentum=0.1, affine=True, track_running_stats=True)\n",
      "  )\n",
      "), Sequential(\n",
      "  (0): BasicBlock(\n",
      "    (conv1): Conv2d(64, 128, kernel_size=(3, 3), stride=(2, 2), padding=(1, 1), bias=False)\n",
      "    (bn1): BatchNorm2d(128, eps=1e-05, momentum=0.1, affine=True, track_running_stats=True)\n",
      "    (relu): ReLU(inplace=True)\n",
      "    (conv2): Conv2d(128, 128, kernel_size=(3, 3), stride=(1, 1), padding=(1, 1), bias=False)\n",
      "    (bn2): BatchNorm2d(128, eps=1e-05, momentum=0.1, affine=True, track_running_stats=True)\n",
      "    (downsample): Sequential(\n",
      "      (0): Conv2d(64, 128, kernel_size=(1, 1), stride=(2, 2), bias=False)\n",
      "      (1): BatchNorm2d(128, eps=1e-05, momentum=0.1, affine=True, track_running_stats=True)\n",
      "    )\n",
      "  )\n",
      "  (1): BasicBlock(\n",
      "    (conv1): Conv2d(128, 128, kernel_size=(3, 3), stride=(1, 1), padding=(1, 1), bias=False)\n",
      "    (bn1): BatchNorm2d(128, eps=1e-05, momentum=0.1, affine=True, track_running_stats=True)\n",
      "    (relu): ReLU(inplace=True)\n",
      "    (conv2): Conv2d(128, 128, kernel_size=(3, 3), stride=(1, 1), padding=(1, 1), bias=False)\n",
      "    (bn2): BatchNorm2d(128, eps=1e-05, momentum=0.1, affine=True, track_running_stats=True)\n",
      "  )\n",
      "), Sequential(\n",
      "  (0): BasicBlock(\n",
      "    (conv1): Conv2d(128, 256, kernel_size=(3, 3), stride=(2, 2), padding=(1, 1), bias=False)\n",
      "    (bn1): BatchNorm2d(256, eps=1e-05, momentum=0.1, affine=True, track_running_stats=True)\n",
      "    (relu): ReLU(inplace=True)\n",
      "    (conv2): Conv2d(256, 256, kernel_size=(3, 3), stride=(1, 1), padding=(1, 1), bias=False)\n",
      "    (bn2): BatchNorm2d(256, eps=1e-05, momentum=0.1, affine=True, track_running_stats=True)\n",
      "    (downsample): Sequential(\n",
      "      (0): Conv2d(128, 256, kernel_size=(1, 1), stride=(2, 2), bias=False)\n",
      "      (1): BatchNorm2d(256, eps=1e-05, momentum=0.1, affine=True, track_running_stats=True)\n",
      "    )\n",
      "  )\n",
      "  (1): BasicBlock(\n",
      "    (conv1): Conv2d(256, 256, kernel_size=(3, 3), stride=(1, 1), padding=(1, 1), bias=False)\n",
      "    (bn1): BatchNorm2d(256, eps=1e-05, momentum=0.1, affine=True, track_running_stats=True)\n",
      "    (relu): ReLU(inplace=True)\n",
      "    (conv2): Conv2d(256, 256, kernel_size=(3, 3), stride=(1, 1), padding=(1, 1), bias=False)\n",
      "    (bn2): BatchNorm2d(256, eps=1e-05, momentum=0.1, affine=True, track_running_stats=True)\n",
      "  )\n",
      "), Sequential(\n",
      "  (0): BasicBlock(\n",
      "    (conv1): Conv2d(256, 512, kernel_size=(3, 3), stride=(2, 2), padding=(1, 1), bias=False)\n",
      "    (bn1): BatchNorm2d(512, eps=1e-05, momentum=0.1, affine=True, track_running_stats=True)\n",
      "    (relu): ReLU(inplace=True)\n",
      "    (conv2): Conv2d(512, 512, kernel_size=(3, 3), stride=(1, 1), padding=(1, 1), bias=False)\n",
      "    (bn2): BatchNorm2d(512, eps=1e-05, momentum=0.1, affine=True, track_running_stats=True)\n",
      "    (downsample): Sequential(\n",
      "      (0): Conv2d(256, 512, kernel_size=(1, 1), stride=(2, 2), bias=False)\n",
      "      (1): BatchNorm2d(512, eps=1e-05, momentum=0.1, affine=True, track_running_stats=True)\n",
      "    )\n",
      "  )\n",
      "  (1): BasicBlock(\n",
      "    (conv1): Conv2d(512, 512, kernel_size=(3, 3), stride=(1, 1), padding=(1, 1), bias=False)\n",
      "    (bn1): BatchNorm2d(512, eps=1e-05, momentum=0.1, affine=True, track_running_stats=True)\n",
      "    (relu): ReLU(inplace=True)\n",
      "    (conv2): Conv2d(512, 512, kernel_size=(3, 3), stride=(1, 1), padding=(1, 1), bias=False)\n",
      "    (bn2): BatchNorm2d(512, eps=1e-05, momentum=0.1, affine=True, track_running_stats=True)\n",
      "  )\n",
      "), AdaptiveAvgPool2d(output_size=(1, 1)), Linear(in_features=512, out_features=1000, bias=True)]\n"
     ]
    }
   ],
   "source": [
    "resnet = models.resnet18(pretrained=True) #загружаем претренированную модель\n",
    "for param in resnet.parameters():\n",
    "    param.requires_grad_(False) \n",
    "    \n",
    "print(list(resnet.children())) "
   ]
  },
  {
   "cell_type": "code",
   "execution_count": 32,
   "id": "a06552e2",
   "metadata": {},
   "outputs": [],
   "source": [
    "modules = list(resnet.children())[:-2]\n",
    "resnet = nn.Sequential(*modules) \n",
    "\n",
    "resnet.eval()\n",
    "\n",
    "from torchvision import transforms\n",
    "norm = transforms.Normalize(\n",
    "    mean=[0.485, 0.456, 0.406], std=[0.229, 0.224, 0.225])\n",
    "preprocess = transforms.Compose([\n",
    "    transforms.Resize(256),\n",
    "    transforms.CenterCrop(224),\n",
    "    transforms.ToTensor(),\n",
    "    norm,\n",
    "])"
   ]
  },
  {
   "cell_type": "code",
   "execution_count": 62,
   "id": "52c67c83",
   "metadata": {},
   "outputs": [],
   "source": [
    "# def img_to_vec(row):\n",
    "#     # Загружаем изображение\n",
    "#     img = Image.open(path+row['image']).convert('RGB')\n",
    "    \n",
    "#     ### Предобработка изображения\n",
    "#     image_tensor = preprocess(img)\n",
    "    \n",
    "#     ### Получаем тензор изображения\n",
    "# #     output_tensor = resnet(torch.unsqueeze(image_tensor, 0)).flatten()\n",
    "#     with torch.no_grad():\n",
    "#         output = resnet(input_batch)\n",
    "        \n",
    "#     output_tensor = output.squeeze(0).numpy()\n",
    "        \n",
    "#     return output_tensor\n",
    "\n",
    "def img_to_vec(row):\n",
    "    img = Image.open(path+row['image']).convert('RGB')\n",
    "    image_tensor = preprocess(img)\n",
    "    output_tensor = resnet(torch.unsqueeze(image_tensor, 0)).flatten()\n",
    "    return output_tensor#.numpy()\n",
    "\n",
    "# def img_to_vec(row):\n",
    "#     img = Image.open(path+row['image']).convert('RGB')\n",
    "#     image_tensor = preprocess(img)\n",
    "#     output_tensor = resnet(image_tensor.unsqueeze(0)).squeeze(0).numpy()\n",
    "#     return output_tensor\n",
    "\n",
    "\n",
    "# def img_to_vec(row):\n",
    "#     img = Image.open(path+row['image']).convert('RGB')\n",
    "#     image_tensor = preprocess(img)\n",
    "#     output_tensor = resnet(image_tensor.unsqueeze(0)).flatten()\n",
    "#     return output_tensor"
   ]
  },
  {
   "cell_type": "code",
   "execution_count": 69,
   "id": "afcf4540",
   "metadata": {},
   "outputs": [
    {
     "data": {
      "text/html": [
       "<div>\n",
       "<style scoped>\n",
       "    .dataframe tbody tr th:only-of-type {\n",
       "        vertical-align: middle;\n",
       "    }\n",
       "\n",
       "    .dataframe tbody tr th {\n",
       "        vertical-align: top;\n",
       "    }\n",
       "\n",
       "    .dataframe thead th {\n",
       "        text-align: right;\n",
       "    }\n",
       "</style>\n",
       "<table border=\"1\" class=\"dataframe\">\n",
       "  <thead>\n",
       "    <tr style=\"text-align: right;\">\n",
       "      <th></th>\n",
       "      <th>image</th>\n",
       "      <th>query_id</th>\n",
       "      <th>query_text</th>\n",
       "      <th>lemmatized</th>\n",
       "      <th>is_available</th>\n",
       "      <th>res</th>\n",
       "      <th>pos_share</th>\n",
       "      <th>review</th>\n",
       "    </tr>\n",
       "  </thead>\n",
       "  <tbody>\n",
       "    <tr>\n",
       "      <th>1317</th>\n",
       "      <td>2100816230_ff866fb352.jpg</td>\n",
       "      <td>3141293960_74459f0a24.jpg#2</td>\n",
       "      <td>A skateboarder is performing a trick in the air .</td>\n",
       "      <td>a skateboarder be perform a trick in the air</td>\n",
       "      <td>True</td>\n",
       "      <td>3.0</td>\n",
       "      <td>0.0</td>\n",
       "      <td>0.45</td>\n",
       "    </tr>\n",
       "  </tbody>\n",
       "</table>\n",
       "</div>"
      ],
      "text/plain": [
       "                          image                     query_id  \\\n",
       "1317  2100816230_ff866fb352.jpg  3141293960_74459f0a24.jpg#2   \n",
       "\n",
       "                                             query_text  \\\n",
       "1317  A skateboarder is performing a trick in the air .   \n",
       "\n",
       "                                          lemmatized  is_available  res  \\\n",
       "1317  a skateboarder be perform a trick in the air            True  3.0   \n",
       "\n",
       "      pos_share  review  \n",
       "1317        0.0    0.45  "
      ]
     },
     "execution_count": 69,
     "metadata": {},
     "output_type": "execute_result"
    }
   ],
   "source": [
    "sample_row = data_train.sample(1)\n",
    "sample_row"
   ]
  },
  {
   "cell_type": "code",
   "execution_count": 100,
   "id": "93dde19c",
   "metadata": {},
   "outputs": [
    {
     "data": {
      "text/plain": [
       "'2100816230_ff866fb352.jpg'"
      ]
     },
     "execution_count": 100,
     "metadata": {},
     "output_type": "execute_result"
    }
   ],
   "source": [
    "image_name = sample_row.iloc[0]['image']\n",
    "image_name"
   ]
  },
  {
   "cell_type": "code",
   "execution_count": 99,
   "id": "e096f40f",
   "metadata": {},
   "outputs": [
    {
     "data": {
      "image/png": "[encoded data removed]",
      "text/plain": [
       "<PIL.Image.Image image mode=RGB size=333x500>"
      ]
     },
     "execution_count": 99,
     "metadata": {},
     "output_type": "execute_result"
    }
   ],
   "source": [
    "img = Image.open(\"dsplus_integrated_project_4/to_upload/train_images/\"+image_name).convert('RGB') \n",
    "img"
   ]
  },
  {
   "cell_type": "code",
   "execution_count": 72,
   "id": "7b88cfa5",
   "metadata": {},
   "outputs": [
    {
     "data": {
      "text/plain": [
       "torch.Size([3, 224, 224])"
      ]
     },
     "execution_count": 72,
     "metadata": {},
     "output_type": "execute_result"
    }
   ],
   "source": [
    "image_tensor = preprocess(img)\n",
    "image_tensor.shape"
   ]
  },
  {
   "cell_type": "code",
   "execution_count": 73,
   "id": "ba0822c8",
   "metadata": {},
   "outputs": [
    {
     "data": {
      "text/plain": [
       "tensor([0.0000, 0.1694, 0.5638,  ..., 3.6109, 2.7221, 0.0000])"
      ]
     },
     "execution_count": 73,
     "metadata": {},
     "output_type": "execute_result"
    }
   ],
   "source": [
    "output_tensor = resnet(image_tensor.unsqueeze(0)).flatten()\n",
    "output_tensor"
   ]
  },
  {
   "cell_type": "code",
   "execution_count": 74,
   "id": "644e583d",
   "metadata": {},
   "outputs": [
    {
     "data": {
      "text/plain": [
       "array([tensor([1.4565, 1.4630, 0.0038,  ..., 0.0000, 0.0000, 0.0000]),\n",
       "       tensor([0., 0., 0.,  ..., 0., 0., 0.]),\n",
       "       tensor([0.0000, 0.0000, 0.0000,  ..., 0.1993, 0.3216, 0.0000]),\n",
       "       ..., tensor([0., 0., 0.,  ..., 0., 0., 0.]),\n",
       "       tensor([0.0000, 0.0000, 0.0000,  ..., 0.8609, 1.2484, 0.8054]),\n",
       "       tensor([0., 0., 0.,  ..., 0., 0., 0.])], dtype=object)"
      ]
     },
     "execution_count": 74,
     "metadata": {},
     "output_type": "execute_result"
    }
   ],
   "source": [
    "path=\"dsplus_integrated_project_4/to_upload/train_images/\"\n",
    "train_img_vec = np.array(data_train.apply(img_to_vec, axis=1))\n",
    "\n",
    "train_img_vec"
   ]
  },
  {
   "cell_type": "code",
   "execution_count": 75,
   "id": "1dbab4be",
   "metadata": {},
   "outputs": [
    {
     "data": {
      "text/plain": [
       "(2258,)"
      ]
     },
     "execution_count": 75,
     "metadata": {},
     "output_type": "execute_result"
    }
   ],
   "source": [
    "train_img_vec.shape"
   ]
  },
  {
   "cell_type": "code",
   "execution_count": 76,
   "id": "34171c1a",
   "metadata": {},
   "outputs": [
    {
     "name": "stdout",
     "output_type": "stream",
     "text": [
      "CPU times: total: 1min 47s\n",
      "Wall time: 13.6 s\n"
     ]
    }
   ],
   "source": [
    "%%time\n",
    "path=\"dsplus_integrated_project_4/to_upload/test_images/\"\n",
    "test_img_vec = np.array(test_queries.apply(img_to_vec, axis=1))"
   ]
  },
  {
   "cell_type": "code",
   "execution_count": 77,
   "id": "2de7b630",
   "metadata": {},
   "outputs": [
    {
     "data": {
      "text/plain": [
       "(500,)"
      ]
     },
     "execution_count": 77,
     "metadata": {},
     "output_type": "execute_result"
    }
   ],
   "source": [
    "test_img_vec.shape"
   ]
  },
  {
   "cell_type": "markdown",
   "id": "af57d0cb",
   "metadata": {
    "cellId": "4wiflhqkew9mq1gq5927e",
    "id": "0167b804"
   },
   "source": [
    "Перейдём к векторизации изображений.\n",
    "\n",
    "Самый примитивный способ — прочесть изображение и превратить полученную матрицу в вектор. Такой способ нам не подходит: длина векторов может быть сильно разной, так как размеры изображений разные. Поэтому стоит обратиться к свёрточным сетям: они позволяют \"выделить\" главные компоненты изображений. Как это сделать? Нужно выбрать какую-либо архитектуру, например ResNet-18, посмотреть на слои и исключить полносвязные слои, которые отвечают за конечное предсказание. При этом можно загрузить модель данной архитектуры, предварительно натренированную на датасете ImageNet.\n",
    "\n",
    "Возьмем архитектуру resnet50 со стандартрными весами (как раз полученными на датасете resnet50 ImageNet). Уберем последние два слоя, чтобы получить на выходе вектор. На примере одного из изображений посмотрим, какой вектор получается."
   ]
  },
  {
   "cell_type": "markdown",
   "id": "aea53bf6",
   "metadata": {
    "cellId": "z8evfugfch8wpstvnxv0t",
    "execution_id": "028ade1d-49fe-4110-8b13-3c1aecdaa142",
    "id": "aea53bf6"
   },
   "source": [
    "## 4. Векторизация текстов\n",
    "\n",
    "Следующий этап — векторизация текстов. Вы можете поэкспериментировать с несколькими способами векторизации текстов:\n",
    "\n",
    "- tf-idf\n",
    "- word2vec\n",
    "- \\*трансформеры (например Bert)\n",
    "\n",
    "\\* — если вы изучали трансформеры в спринте Машинное обучение для текстов.\n"
   ]
  },
  {
   "cell_type": "markdown",
   "id": "c9c89ff9",
   "metadata": {},
   "source": [
    "Используем алгоритм TF-IDF (от англ. term frequency, «частота терма, или слова»; inverse document frequency, «обратная частота документа, или текста»). То есть TF отвечает за количество упоминаний слова в отдельном тексте, а IDF отражает частоту его употребления во всём корпусе.\n",
    "\n",
    "Применим TfidfVectorizer для векторизации данных"
   ]
  },
  {
   "cell_type": "code",
   "execution_count": null,
   "id": "62285149",
   "metadata": {},
   "outputs": [],
   "source": [
    "# import transformers\n",
    "# from transformers import BertTokenizer, BertModel, BertConfig"
   ]
  },
  {
   "cell_type": "code",
   "execution_count": null,
   "id": "786eb109",
   "metadata": {},
   "outputs": [],
   "source": [
    "# try:\n",
    "#     data = pd.read_csv('/datasets/toxic_comments.csv', index_col='Unnamed: 0')\n",
    "# except FileNotFoundError:\n",
    "#     data = pd.read_csv('toxic_comments.csv', index_col='Unnamed: 0')\n",
    "    \n",
    "# data = data[:10000]\n",
    "\n",
    "# stop_words = stopwords.words('english')\n",
    "# stop_words.remove('not')\n",
    "# lemmatizer = WordNetLemmatizer()\n",
    "\n",
    "# def data_preprocessing(text):\n",
    "# #    text = re.sub(re.compile('<.*?>'), '', text)\n",
    "#     text = re.sub(r'[^A-Za-z0-9]', ' ', text)\n",
    "    \n",
    "#     text = text.lower()\n",
    "    \n",
    "#     tokens = nltk.word_tokenize(text)\n",
    "    \n",
    "#     text = [word for word in tokens if word not in stop_words]\n",
    "    \n",
    "#     text = [lemmatizer.lemmatize(word) for word in text]\n",
    "    \n",
    "#     text = ' '.join(text)\n",
    "#     return text\n",
    "\n",
    "\n",
    "# data['lemmatized'] = data['text'].apply(lambda x: data_preprocessing(x))\n",
    "\n",
    "# target = data['toxic']\n",
    "# features = data.drop(['toxic'], axis=1)\n",
    "    \n",
    "# features_train, features_test, target_train, target_test = train_test_split(features, target,\n",
    "#                                                                             test_size=0.3,\n",
    "#                                                                             shuffle=True)\n",
    "\n",
    "# def tok(text):\n",
    "#     return nltk.word_tokenize(text)\n",
    "\n",
    "# count_tf_idf = TfidfVectorizer(tokenizer=tok)\n",
    "\n",
    "# count_tf_idf.fit(features_train['lemmatized'].values.astype('U'))\n",
    "# tf_idf = count_tf_idf.transform(features_train['lemmatized'].values.astype('U'))\n",
    "# print(\"Размер матрицы:\", tf_idf.shape)\n",
    "# tf_idf_test = count_tf_idf.transform(features_test['lemmatized'].values.astype('U'))\n",
    "# print(\"Размер матрицы:\", tf_idf.shape)\n",
    "\n",
    "# model_logreg = LogisticRegression()\n",
    "# # pipeline_logreg = make_pipeline(col_transformer_ohe, model_logreg)\n",
    "# model_params = {\n",
    "#     'class_weight' : ['balanced', None],\n",
    "#     'penalty': ['l1', 'l2', None],\n",
    "#     'solver': ['liblinear', None] #'lbfgs', 'saga'\n",
    "# }\n",
    "# gs_logreg = GridSearchCV(model_logreg, model_params, cv=5, scoring='f1', n_jobs=-1)\n",
    "# gs_logreg.fit(tf_idf, target_train)\n",
    "\n",
    "# predictions = gs_logreg.best_estimator_.predict(tf_idf_test)\n",
    "# f1_score(target_test, predictions)"
   ]
  },
  {
   "cell_type": "code",
   "execution_count": 43,
   "id": "cd7584bd",
   "metadata": {
    "cellId": "5f0eae9yldcozrwh01qp0c",
    "id": "cd7584bd"
   },
   "outputs": [
    {
     "name": "stderr",
     "output_type": "stream",
     "text": [
      "[nltk_data] Downloading package stopwords to\n",
      "[nltk_data]     C:\\Users\\Katya\\AppData\\Roaming\\nltk_data...\n",
      "[nltk_data]   Package stopwords is already up-to-date!\n"
     ]
    }
   ],
   "source": [
    "nltk.download('stopwords')\n",
    "stopwords = set(nltk_stopwords.words('english'))"
   ]
  },
  {
   "cell_type": "code",
   "execution_count": 44,
   "id": "fb8d693a",
   "metadata": {},
   "outputs": [],
   "source": [
    "def tok(text):\n",
    "    return nltk.word_tokenize(text)"
   ]
  },
  {
   "cell_type": "code",
   "execution_count": 183,
   "id": "caae8d1c",
   "metadata": {},
   "outputs": [
    {
     "name": "stdout",
     "output_type": "stream",
     "text": [
      "Размер матрицы: (2258, 960)\n"
     ]
    }
   ],
   "source": [
    "corpus = data_train['lemmatized'].values\n",
    "\n",
    "count_tf_idf = TfidfVectorizer(stop_words=list(stopwords), tokenizer=tok)\n",
    "\n",
    "count_tf_idf.fit(corpus)\n",
    "\n",
    "tf_idf_train = count_tf_idf.transform(corpus)\n",
    "print(\"Размер матрицы:\", tf_idf_train.shape)"
   ]
  },
  {
   "cell_type": "code",
   "execution_count": 46,
   "id": "65fb79c8",
   "metadata": {},
   "outputs": [
    {
     "name": "stdout",
     "output_type": "stream",
     "text": [
      "Размер матрицы: (500, 960)\n",
      "CPU times: total: 953 ms\n",
      "Wall time: 961 ms\n"
     ]
    }
   ],
   "source": [
    "# %%time\n",
    "\n",
    "# test_queries['lemmatized'] = test_queries['query_text'].apply(lambda x: data_preprocessing(x))\n",
    "# corpus = test_queries['lemmatized'].values\n",
    "# tf_idf_test = count_tf_idf.transform(corpus)\n",
    "# print(\"Размер матрицы:\", tf_idf_test.shape)"
   ]
  },
  {
   "cell_type": "markdown",
   "id": "760c0ccd",
   "metadata": {
    "cellId": "yci1zcmnsacl720fr75sb",
    "execution_id": "5ecfa9d5-3913-4fb3-a33e-99bab3798577",
    "id": "760c0ccd"
   },
   "source": [
    "## 5. Объединение векторов\n",
    "\n",
    "Подготовьте данные для обучения: объедините векторы изображений и векторы текстов с целевой переменной."
   ]
  },
  {
   "cell_type": "code",
   "execution_count": 78,
   "id": "5f439c87",
   "metadata": {},
   "outputs": [
    {
     "data": {
      "text/plain": [
       "(2258, 960)"
      ]
     },
     "execution_count": 78,
     "metadata": {},
     "output_type": "execute_result"
    }
   ],
   "source": [
    "tf_idf_train.shape"
   ]
  },
  {
   "cell_type": "code",
   "execution_count": 79,
   "id": "8b361362",
   "metadata": {},
   "outputs": [
    {
     "data": {
      "text/plain": [
       "(2258,)"
      ]
     },
     "execution_count": 79,
     "metadata": {},
     "output_type": "execute_result"
    }
   ],
   "source": [
    "train_img_vec.shape"
   ]
  },
  {
   "cell_type": "code",
   "execution_count": 80,
   "id": "e9ca0504",
   "metadata": {},
   "outputs": [
    {
     "data": {
      "text/plain": [
       "(2258, 26048)"
      ]
     },
     "execution_count": 80,
     "metadata": {},
     "output_type": "execute_result"
    }
   ],
   "source": [
    "# train_vec = np.hstack([np.vstack(train_img_vec), tf_idf_train.toarray()])\n",
    "train_vec = np.concatenate([np.vstack(train_img_vec), tf_idf_train.toarray()], axis=1)\n",
    "# train_vec = np.concatenate([train_img_vec, tf_idf_train.toarray().flatten()])\n",
    "\n",
    "# test_vec = np.hstack([np.vstack(test_img_vec), tf_idf_test.toarray()])\n",
    "test_vec = np.concatenate([np.vstack(test_img_vec), tf_idf_test.toarray()], axis=1)\n",
    "# test_vec = np.concatenate([test_img_vec, tf_idf_test.toarray().flatten()])\n",
    "\n",
    "train_vec.shape"
   ]
  },
  {
   "cell_type": "markdown",
   "id": "60bc5668",
   "metadata": {
    "cellId": "97c9jj3s2zjj62vznivsk",
    "execution_id": "1a2d7233-0c79-479a-be63-5787145e3b48",
    "id": "60bc5668"
   },
   "source": [
    "## 6. Обучение модели предсказания соответствия\n",
    "\n",
    "Для обучения разделите датасет на тренировочную и тестовую выборки. Простое случайное разбиение не подходит: нужно исключить попадание изображения и в обучающую, и в тестовую выборки.\n",
    "Для того чтобы учесть изображения при разбиении, можно воспользоваться классом [GroupShuffleSplit](https://scikit-learn.org/stable/modules/generated/sklearn.model_selection.GroupShuffleSplit.html) из библиотеки sklearn.model_selection.\n",
    "\n",
    "Код ниже разбивает датасет на тренировочную и тестовую выборки в пропорции 7:3 так, что строки с одинаковым значением 'group_column' будут содержаться либо в тестовом, либо в тренировочном датасете.\n",
    "\n",
    "```\n",
    "from sklearn.model_selection import GroupShuffleSplit\n",
    "gss = GroupShuffleSplit(n_splits=1, train_size=.7, random_state=42)\n",
    "train_indices, test_indices = next(gss.split(X=df.drop(columns=['target']), y=df['target'], groups=df['group_column']))\n",
    "train_df, test_df = df.loc[train_indices], df.loc[test_indices]\n",
    "\n",
    "```\n",
    "\n",
    "Какую модель использовать — выберите самостоятельно. Также вам предстоит выбрать метрику качества либо реализовать свою."
   ]
  },
  {
   "cell_type": "code",
   "execution_count": 81,
   "id": "a723a8ad",
   "metadata": {
    "cellId": "v1ntb27jt4z9fazi1y8me",
    "id": "a723a8ad"
   },
   "outputs": [],
   "source": [
    "gss = GroupShuffleSplit(n_splits=1, train_size=.7, random_state=42)\n",
    "train_indices, test_indices = next(gss.split(X=data_train.drop(columns=['review']),\n",
    "                                             y=data_train['review'], groups=data_train['image']))"
   ]
  },
  {
   "cell_type": "code",
   "execution_count": 82,
   "id": "b9bb6f5c",
   "metadata": {},
   "outputs": [],
   "source": [
    "train_df, valid_df = data_train.loc[train_indices], data_train.loc[test_indices]"
   ]
  },
  {
   "cell_type": "code",
   "execution_count": 83,
   "id": "5ae47990",
   "metadata": {},
   "outputs": [
    {
     "data": {
      "text/html": [
       "<div>\n",
       "<style scoped>\n",
       "    .dataframe tbody tr th:only-of-type {\n",
       "        vertical-align: middle;\n",
       "    }\n",
       "\n",
       "    .dataframe tbody tr th {\n",
       "        vertical-align: top;\n",
       "    }\n",
       "\n",
       "    .dataframe thead th {\n",
       "        text-align: right;\n",
       "    }\n",
       "</style>\n",
       "<table border=\"1\" class=\"dataframe\">\n",
       "  <thead>\n",
       "    <tr style=\"text-align: right;\">\n",
       "      <th></th>\n",
       "      <th>image</th>\n",
       "      <th>query_id</th>\n",
       "      <th>query_text</th>\n",
       "      <th>lemmatized</th>\n",
       "      <th>is_available</th>\n",
       "      <th>res</th>\n",
       "      <th>pos_share</th>\n",
       "      <th>review</th>\n",
       "    </tr>\n",
       "  </thead>\n",
       "  <tbody>\n",
       "    <tr>\n",
       "      <th>0</th>\n",
       "      <td>1056338697_4f7d7ce270.jpg</td>\n",
       "      <td>2549968784_39bfbe44f9.jpg#2</td>\n",
       "      <td>A young child is wearing blue goggles and sitt...</td>\n",
       "      <td>a young child be wear blue goggle and sit in a...</td>\n",
       "      <td>False</td>\n",
       "      <td>1.0</td>\n",
       "      <td>0.0</td>\n",
       "      <td>0.15</td>\n",
       "    </tr>\n",
       "    <tr>\n",
       "      <th>2</th>\n",
       "      <td>2549968784_39bfbe44f9.jpg</td>\n",
       "      <td>2549968784_39bfbe44f9.jpg#2</td>\n",
       "      <td>A young child is wearing blue goggles and sitt...</td>\n",
       "      <td>a young child be wear blue goggle and sit in a...</td>\n",
       "      <td>False</td>\n",
       "      <td>4.0</td>\n",
       "      <td>1.0</td>\n",
       "      <td>1.00</td>\n",
       "    </tr>\n",
       "    <tr>\n",
       "      <th>3</th>\n",
       "      <td>3030566410_393c36a6c5.jpg</td>\n",
       "      <td>2549968784_39bfbe44f9.jpg#2</td>\n",
       "      <td>A young child is wearing blue goggles and sitt...</td>\n",
       "      <td>a young child be wear blue goggle and sit in a...</td>\n",
       "      <td>False</td>\n",
       "      <td>2.0</td>\n",
       "      <td>0.0</td>\n",
       "      <td>0.30</td>\n",
       "    </tr>\n",
       "    <tr>\n",
       "      <th>5</th>\n",
       "      <td>3741827382_71e93298d0.jpg</td>\n",
       "      <td>2549968784_39bfbe44f9.jpg#2</td>\n",
       "      <td>A young child is wearing blue goggles and sitt...</td>\n",
       "      <td>a young child be wear blue goggle and sit in a...</td>\n",
       "      <td>False</td>\n",
       "      <td>2.0</td>\n",
       "      <td>0.0</td>\n",
       "      <td>0.30</td>\n",
       "    </tr>\n",
       "    <tr>\n",
       "      <th>6</th>\n",
       "      <td>1056338697_4f7d7ce270.jpg</td>\n",
       "      <td>2718495608_d8533e3ac5.jpg#2</td>\n",
       "      <td>A girl wearing a yellow shirt and sunglasses s...</td>\n",
       "      <td>a girl wear a yellow shirt and sunglass smile</td>\n",
       "      <td>False</td>\n",
       "      <td>1.0</td>\n",
       "      <td>0.0</td>\n",
       "      <td>0.15</td>\n",
       "    </tr>\n",
       "  </tbody>\n",
       "</table>\n",
       "</div>"
      ],
      "text/plain": [
       "                       image                     query_id  \\\n",
       "0  1056338697_4f7d7ce270.jpg  2549968784_39bfbe44f9.jpg#2   \n",
       "2  2549968784_39bfbe44f9.jpg  2549968784_39bfbe44f9.jpg#2   \n",
       "3  3030566410_393c36a6c5.jpg  2549968784_39bfbe44f9.jpg#2   \n",
       "5  3741827382_71e93298d0.jpg  2549968784_39bfbe44f9.jpg#2   \n",
       "6  1056338697_4f7d7ce270.jpg  2718495608_d8533e3ac5.jpg#2   \n",
       "\n",
       "                                          query_text  \\\n",
       "0  A young child is wearing blue goggles and sitt...   \n",
       "2  A young child is wearing blue goggles and sitt...   \n",
       "3  A young child is wearing blue goggles and sitt...   \n",
       "5  A young child is wearing blue goggles and sitt...   \n",
       "6  A girl wearing a yellow shirt and sunglasses s...   \n",
       "\n",
       "                                          lemmatized  is_available  res  \\\n",
       "0  a young child be wear blue goggle and sit in a...         False  1.0   \n",
       "2  a young child be wear blue goggle and sit in a...         False  4.0   \n",
       "3  a young child be wear blue goggle and sit in a...         False  2.0   \n",
       "5  a young child be wear blue goggle and sit in a...         False  2.0   \n",
       "6    a girl wear a yellow shirt and sunglass smile           False  1.0   \n",
       "\n",
       "   pos_share  review  \n",
       "0        0.0    0.15  \n",
       "2        1.0    1.00  \n",
       "3        0.0    0.30  \n",
       "5        0.0    0.30  \n",
       "6        0.0    0.15  "
      ]
     },
     "metadata": {},
     "output_type": "display_data"
    },
    {
     "name": "stdout",
     "output_type": "stream",
     "text": [
      "<class 'pandas.core.frame.DataFrame'>\n",
      "Int64Index: 1597 entries, 0 to 2256\n",
      "Data columns (total 8 columns):\n",
      " #   Column        Non-Null Count  Dtype  \n",
      "---  ------        --------------  -----  \n",
      " 0   image         1597 non-null   object \n",
      " 1   query_id      1597 non-null   object \n",
      " 2   query_text    1597 non-null   object \n",
      " 3   lemmatized    1597 non-null   object \n",
      " 4   is_available  1597 non-null   bool   \n",
      " 5   res           1597 non-null   float64\n",
      " 6   pos_share     1597 non-null   float64\n",
      " 7   review        1597 non-null   float64\n",
      "dtypes: bool(1), float64(3), object(4)\n",
      "memory usage: 101.4+ KB\n"
     ]
    }
   ],
   "source": [
    "display(train_df.head())\n",
    "train_df.shape\n",
    "train_df.info()"
   ]
  },
  {
   "cell_type": "code",
   "execution_count": 84,
   "id": "6556babf",
   "metadata": {},
   "outputs": [
    {
     "data": {
      "text/html": [
       "<div>\n",
       "<style scoped>\n",
       "    .dataframe tbody tr th:only-of-type {\n",
       "        vertical-align: middle;\n",
       "    }\n",
       "\n",
       "    .dataframe tbody tr th {\n",
       "        vertical-align: top;\n",
       "    }\n",
       "\n",
       "    .dataframe thead th {\n",
       "        text-align: right;\n",
       "    }\n",
       "</style>\n",
       "<table border=\"1\" class=\"dataframe\">\n",
       "  <thead>\n",
       "    <tr style=\"text-align: right;\">\n",
       "      <th></th>\n",
       "      <th>image</th>\n",
       "      <th>query_id</th>\n",
       "      <th>query_text</th>\n",
       "      <th>lemmatized</th>\n",
       "      <th>is_available</th>\n",
       "      <th>res</th>\n",
       "      <th>pos_share</th>\n",
       "      <th>review</th>\n",
       "    </tr>\n",
       "  </thead>\n",
       "  <tbody>\n",
       "    <tr>\n",
       "      <th>1</th>\n",
       "      <td>2447284966_d6bbdb4b6e.jpg</td>\n",
       "      <td>2549968784_39bfbe44f9.jpg#2</td>\n",
       "      <td>A young child is wearing blue goggles and sitt...</td>\n",
       "      <td>a young child be wear blue goggle and sit in a...</td>\n",
       "      <td>False</td>\n",
       "      <td>2.0</td>\n",
       "      <td>0.0</td>\n",
       "      <td>0.30</td>\n",
       "    </tr>\n",
       "    <tr>\n",
       "      <th>4</th>\n",
       "      <td>3718964174_cb2dc1615e.jpg</td>\n",
       "      <td>2549968784_39bfbe44f9.jpg#2</td>\n",
       "      <td>A young child is wearing blue goggles and sitt...</td>\n",
       "      <td>a young child be wear blue goggle and sit in a...</td>\n",
       "      <td>False</td>\n",
       "      <td>1.0</td>\n",
       "      <td>0.0</td>\n",
       "      <td>0.15</td>\n",
       "    </tr>\n",
       "    <tr>\n",
       "      <th>8</th>\n",
       "      <td>2718495608_d8533e3ac5.jpg</td>\n",
       "      <td>2718495608_d8533e3ac5.jpg#2</td>\n",
       "      <td>A girl wearing a yellow shirt and sunglasses s...</td>\n",
       "      <td>a girl wear a yellow shirt and sunglass smile</td>\n",
       "      <td>False</td>\n",
       "      <td>4.0</td>\n",
       "      <td>1.0</td>\n",
       "      <td>1.00</td>\n",
       "    </tr>\n",
       "    <tr>\n",
       "      <th>10</th>\n",
       "      <td>3718964174_cb2dc1615e.jpg</td>\n",
       "      <td>2718495608_d8533e3ac5.jpg#2</td>\n",
       "      <td>A girl wearing a yellow shirt and sunglasses s...</td>\n",
       "      <td>a girl wear a yellow shirt and sunglass smile</td>\n",
       "      <td>False</td>\n",
       "      <td>2.0</td>\n",
       "      <td>0.0</td>\n",
       "      <td>0.30</td>\n",
       "    </tr>\n",
       "    <tr>\n",
       "      <th>16</th>\n",
       "      <td>2061144717_5b3a1864f0.jpg</td>\n",
       "      <td>3545652636_0746537307.jpg#2</td>\n",
       "      <td>A young boy dressed in a red uniform kicks the...</td>\n",
       "      <td>a young boy dress in a red uniform kick the so...</td>\n",
       "      <td>False</td>\n",
       "      <td>1.0</td>\n",
       "      <td>0.0</td>\n",
       "      <td>0.15</td>\n",
       "    </tr>\n",
       "  </tbody>\n",
       "</table>\n",
       "</div>"
      ],
      "text/plain": [
       "                        image                     query_id  \\\n",
       "1   2447284966_d6bbdb4b6e.jpg  2549968784_39bfbe44f9.jpg#2   \n",
       "4   3718964174_cb2dc1615e.jpg  2549968784_39bfbe44f9.jpg#2   \n",
       "8   2718495608_d8533e3ac5.jpg  2718495608_d8533e3ac5.jpg#2   \n",
       "10  3718964174_cb2dc1615e.jpg  2718495608_d8533e3ac5.jpg#2   \n",
       "16  2061144717_5b3a1864f0.jpg  3545652636_0746537307.jpg#2   \n",
       "\n",
       "                                           query_text  \\\n",
       "1   A young child is wearing blue goggles and sitt...   \n",
       "4   A young child is wearing blue goggles and sitt...   \n",
       "8   A girl wearing a yellow shirt and sunglasses s...   \n",
       "10  A girl wearing a yellow shirt and sunglasses s...   \n",
       "16  A young boy dressed in a red uniform kicks the...   \n",
       "\n",
       "                                           lemmatized  is_available  res  \\\n",
       "1   a young child be wear blue goggle and sit in a...         False  2.0   \n",
       "4   a young child be wear blue goggle and sit in a...         False  1.0   \n",
       "8     a girl wear a yellow shirt and sunglass smile           False  4.0   \n",
       "10    a girl wear a yellow shirt and sunglass smile           False  2.0   \n",
       "16  a young boy dress in a red uniform kick the so...         False  1.0   \n",
       "\n",
       "    pos_share  review  \n",
       "1         0.0    0.30  \n",
       "4         0.0    0.15  \n",
       "8         1.0    1.00  \n",
       "10        0.0    0.30  \n",
       "16        0.0    0.15  "
      ]
     },
     "metadata": {},
     "output_type": "display_data"
    },
    {
     "name": "stdout",
     "output_type": "stream",
     "text": [
      "<class 'pandas.core.frame.DataFrame'>\n",
      "Int64Index: 661 entries, 1 to 2257\n",
      "Data columns (total 8 columns):\n",
      " #   Column        Non-Null Count  Dtype  \n",
      "---  ------        --------------  -----  \n",
      " 0   image         661 non-null    object \n",
      " 1   query_id      661 non-null    object \n",
      " 2   query_text    661 non-null    object \n",
      " 3   lemmatized    661 non-null    object \n",
      " 4   is_available  661 non-null    bool   \n",
      " 5   res           661 non-null    float64\n",
      " 6   pos_share     661 non-null    float64\n",
      " 7   review        661 non-null    float64\n",
      "dtypes: bool(1), float64(3), object(4)\n",
      "memory usage: 42.0+ KB\n"
     ]
    }
   ],
   "source": [
    "display(valid_df.head())\n",
    "valid_df.shape\n",
    "valid_df.info()"
   ]
  },
  {
   "cell_type": "code",
   "execution_count": 85,
   "id": "e3fbe2cb",
   "metadata": {},
   "outputs": [],
   "source": [
    "features_train = train_vec[train_indices]\n",
    "features_valid = train_vec[test_indices]\n",
    "target_train = data_train['review'].loc[train_indices]\n",
    "target_valid = data_train['review'].loc[test_indices]"
   ]
  },
  {
   "cell_type": "code",
   "execution_count": 86,
   "id": "58c02532",
   "metadata": {},
   "outputs": [
    {
     "data": {
      "text/plain": [
       "1       0.403932\n",
       "4       0.176255\n",
       "8       0.712347\n",
       "10      0.163377\n",
       "16      0.586715\n",
       "          ...   \n",
       "2234    0.845601\n",
       "2235    0.306279\n",
       "2240    0.256175\n",
       "2249    0.328268\n",
       "2257    0.325695\n",
       "Length: 661, dtype: float64"
      ]
     },
     "execution_count": 86,
     "metadata": {},
     "output_type": "execute_result"
    }
   ],
   "source": [
    "Random = np.random.uniform(low=0, high=1, size=(len(target_valid.index)))\n",
    "zeros = np.zeros(shape=len(target_valid.index))\n",
    "\n",
    "df = pd.Series(Random, index=target_valid.index.to_list())\n",
    "df\n",
    "# df = pd.Series(zeros, index=target_valid.index.to_list())\n",
    "# df"
   ]
  },
  {
   "cell_type": "code",
   "execution_count": 87,
   "id": "8b20ba31",
   "metadata": {},
   "outputs": [
    {
     "name": "stdout",
     "output_type": "stream",
     "text": [
      "RMSE: 0.38807601434768707\n"
     ]
    }
   ],
   "source": [
    "print(\"RMSE:\", mean_squared_error(target_valid, df, squared=False))"
   ]
  },
  {
   "cell_type": "code",
   "execution_count": 88,
   "id": "dcb60b03",
   "metadata": {},
   "outputs": [
    {
     "name": "stdout",
     "output_type": "stream",
     "text": [
      "MAE: 0.3114940522278892\n"
     ]
    }
   ],
   "source": [
    "print(\"MAE:\", mean_absolute_error(target_valid, df))"
   ]
  },
  {
   "cell_type": "markdown",
   "id": "bde54d89",
   "metadata": {},
   "source": [
    "### Логистическая регрессия"
   ]
  },
  {
   "cell_type": "code",
   "execution_count": 101,
   "id": "38a80cc0",
   "metadata": {},
   "outputs": [],
   "source": [
    "model_lr = LinearRegression(n_jobs=-1)\n",
    "parameters = {'fit_intercept':[True,False], 'copy_X':[True, False]}\n",
    "grid_lr = GridSearchCV(model_lr,parameters, cv=5)"
   ]
  },
  {
   "cell_type": "code",
   "execution_count": 102,
   "id": "3d890c47",
   "metadata": {},
   "outputs": [
    {
     "name": "stdout",
     "output_type": "stream",
     "text": [
      "CPU times: total: 5min 34s\n",
      "Wall time: 46.9 s\n"
     ]
    },
    {
     "data": {
      "text/html": [
       "<style>#sk-container-id-4 {color: black;}#sk-container-id-4 pre{padding: 0;}#sk-container-id-4 div.sk-toggleable {background-color: white;}#sk-container-id-4 label.sk-toggleable__label {cursor: pointer;display: block;width: 100%;margin-bottom: 0;padding: 0.3em;box-sizing: border-box;text-align: center;}#sk-container-id-4 label.sk-toggleable__label-arrow:before {content: \"▸\";float: left;margin-right: 0.25em;color: #696969;}#sk-container-id-4 label.sk-toggleable__label-arrow:hover:before {color: black;}#sk-container-id-4 div.sk-estimator:hover label.sk-toggleable__label-arrow:before {color: black;}#sk-container-id-4 div.sk-toggleable__content {max-height: 0;max-width: 0;overflow: hidden;text-align: left;background-color: #f0f8ff;}#sk-container-id-4 div.sk-toggleable__content pre {margin: 0.2em;color: black;border-radius: 0.25em;background-color: #f0f8ff;}#sk-container-id-4 input.sk-toggleable__control:checked~div.sk-toggleable__content {max-height: 200px;max-width: 100%;overflow: auto;}#sk-container-id-4 input.sk-toggleable__control:checked~label.sk-toggleable__label-arrow:before {content: \"▾\";}#sk-container-id-4 div.sk-estimator input.sk-toggleable__control:checked~label.sk-toggleable__label {background-color: #d4ebff;}#sk-container-id-4 div.sk-label input.sk-toggleable__control:checked~label.sk-toggleable__label {background-color: #d4ebff;}#sk-container-id-4 input.sk-hidden--visually {border: 0;clip: rect(1px 1px 1px 1px);clip: rect(1px, 1px, 1px, 1px);height: 1px;margin: -1px;overflow: hidden;padding: 0;position: absolute;width: 1px;}#sk-container-id-4 div.sk-estimator {font-family: monospace;background-color: #f0f8ff;border: 1px dotted black;border-radius: 0.25em;box-sizing: border-box;margin-bottom: 0.5em;}#sk-container-id-4 div.sk-estimator:hover {background-color: #d4ebff;}#sk-container-id-4 div.sk-parallel-item::after {content: \"\";width: 100%;border-bottom: 1px solid gray;flex-grow: 1;}#sk-container-id-4 div.sk-label:hover label.sk-toggleable__label {background-color: #d4ebff;}#sk-container-id-4 div.sk-serial::before {content: \"\";position: absolute;border-left: 1px solid gray;box-sizing: border-box;top: 0;bottom: 0;left: 50%;z-index: 0;}#sk-container-id-4 div.sk-serial {display: flex;flex-direction: column;align-items: center;background-color: white;padding-right: 0.2em;padding-left: 0.2em;position: relative;}#sk-container-id-4 div.sk-item {position: relative;z-index: 1;}#sk-container-id-4 div.sk-parallel {display: flex;align-items: stretch;justify-content: center;background-color: white;position: relative;}#sk-container-id-4 div.sk-item::before, #sk-container-id-4 div.sk-parallel-item::before {content: \"\";position: absolute;border-left: 1px solid gray;box-sizing: border-box;top: 0;bottom: 0;left: 50%;z-index: -1;}#sk-container-id-4 div.sk-parallel-item {display: flex;flex-direction: column;z-index: 1;position: relative;background-color: white;}#sk-container-id-4 div.sk-parallel-item:first-child::after {align-self: flex-end;width: 50%;}#sk-container-id-4 div.sk-parallel-item:last-child::after {align-self: flex-start;width: 50%;}#sk-container-id-4 div.sk-parallel-item:only-child::after {width: 0;}#sk-container-id-4 div.sk-dashed-wrapped {border: 1px dashed gray;margin: 0 0.4em 0.5em 0.4em;box-sizing: border-box;padding-bottom: 0.4em;background-color: white;}#sk-container-id-4 div.sk-label label {font-family: monospace;font-weight: bold;display: inline-block;line-height: 1.2em;}#sk-container-id-4 div.sk-label-container {text-align: center;}#sk-container-id-4 div.sk-container {/* jupyter's `normalize.less` sets `[hidden] { display: none; }` but bootstrap.min.css set `[hidden] { display: none !important; }` so we also need the `!important` here to be able to override the default hidden behavior on the sphinx rendered scikit-learn.org. See: https://github.com/scikit-learn/scikit-learn/issues/21755 */display: inline-block !important;position: relative;}#sk-container-id-4 div.sk-text-repr-fallback {display: none;}</style><div id=\"sk-container-id-4\" class=\"sk-top-container\"><div class=\"sk-text-repr-fallback\"><pre>GridSearchCV(cv=5, estimator=LinearRegression(n_jobs=-1),\n",
       "             param_grid={&#x27;copy_X&#x27;: [True, False],\n",
       "                         &#x27;fit_intercept&#x27;: [True, False]})</pre><b>In a Jupyter environment, please rerun this cell to show the HTML representation or trust the notebook. <br />On GitHub, the HTML representation is unable to render, please try loading this page with nbviewer.org.</b></div><div class=\"sk-container\" hidden><div class=\"sk-item sk-dashed-wrapped\"><div class=\"sk-label-container\"><div class=\"sk-label sk-toggleable\"><input class=\"sk-toggleable__control sk-hidden--visually\" id=\"sk-estimator-id-8\" type=\"checkbox\" ><label for=\"sk-estimator-id-8\" class=\"sk-toggleable__label sk-toggleable__label-arrow\">GridSearchCV</label><div class=\"sk-toggleable__content\"><pre>GridSearchCV(cv=5, estimator=LinearRegression(n_jobs=-1),\n",
       "             param_grid={&#x27;copy_X&#x27;: [True, False],\n",
       "                         &#x27;fit_intercept&#x27;: [True, False]})</pre></div></div></div><div class=\"sk-parallel\"><div class=\"sk-parallel-item\"><div class=\"sk-item\"><div class=\"sk-label-container\"><div class=\"sk-label sk-toggleable\"><input class=\"sk-toggleable__control sk-hidden--visually\" id=\"sk-estimator-id-9\" type=\"checkbox\" ><label for=\"sk-estimator-id-9\" class=\"sk-toggleable__label sk-toggleable__label-arrow\">estimator: LinearRegression</label><div class=\"sk-toggleable__content\"><pre>LinearRegression(n_jobs=-1)</pre></div></div></div><div class=\"sk-serial\"><div class=\"sk-item\"><div class=\"sk-estimator sk-toggleable\"><input class=\"sk-toggleable__control sk-hidden--visually\" id=\"sk-estimator-id-10\" type=\"checkbox\" ><label for=\"sk-estimator-id-10\" class=\"sk-toggleable__label sk-toggleable__label-arrow\">LinearRegression</label><div class=\"sk-toggleable__content\"><pre>LinearRegression(n_jobs=-1)</pre></div></div></div></div></div></div></div></div></div></div>"
      ],
      "text/plain": [
       "GridSearchCV(cv=5, estimator=LinearRegression(n_jobs=-1),\n",
       "             param_grid={'copy_X': [True, False],\n",
       "                         'fit_intercept': [True, False]})"
      ]
     },
     "execution_count": 102,
     "metadata": {},
     "output_type": "execute_result"
    }
   ],
   "source": [
    "%%time\n",
    "grid_lr.fit(features_train, target_train)"
   ]
  },
  {
   "cell_type": "code",
   "execution_count": 103,
   "id": "0ff69c95",
   "metadata": {},
   "outputs": [
    {
     "data": {
      "text/plain": [
       "{'copy_X': True, 'fit_intercept': False}"
      ]
     },
     "execution_count": 103,
     "metadata": {},
     "output_type": "execute_result"
    }
   ],
   "source": [
    "grid_lr.best_params_"
   ]
  },
  {
   "cell_type": "code",
   "execution_count": 104,
   "id": "9f6991b6",
   "metadata": {},
   "outputs": [
    {
     "data": {
      "text/html": [
       "<style>#sk-container-id-5 {color: black;}#sk-container-id-5 pre{padding: 0;}#sk-container-id-5 div.sk-toggleable {background-color: white;}#sk-container-id-5 label.sk-toggleable__label {cursor: pointer;display: block;width: 100%;margin-bottom: 0;padding: 0.3em;box-sizing: border-box;text-align: center;}#sk-container-id-5 label.sk-toggleable__label-arrow:before {content: \"▸\";float: left;margin-right: 0.25em;color: #696969;}#sk-container-id-5 label.sk-toggleable__label-arrow:hover:before {color: black;}#sk-container-id-5 div.sk-estimator:hover label.sk-toggleable__label-arrow:before {color: black;}#sk-container-id-5 div.sk-toggleable__content {max-height: 0;max-width: 0;overflow: hidden;text-align: left;background-color: #f0f8ff;}#sk-container-id-5 div.sk-toggleable__content pre {margin: 0.2em;color: black;border-radius: 0.25em;background-color: #f0f8ff;}#sk-container-id-5 input.sk-toggleable__control:checked~div.sk-toggleable__content {max-height: 200px;max-width: 100%;overflow: auto;}#sk-container-id-5 input.sk-toggleable__control:checked~label.sk-toggleable__label-arrow:before {content: \"▾\";}#sk-container-id-5 div.sk-estimator input.sk-toggleable__control:checked~label.sk-toggleable__label {background-color: #d4ebff;}#sk-container-id-5 div.sk-label input.sk-toggleable__control:checked~label.sk-toggleable__label {background-color: #d4ebff;}#sk-container-id-5 input.sk-hidden--visually {border: 0;clip: rect(1px 1px 1px 1px);clip: rect(1px, 1px, 1px, 1px);height: 1px;margin: -1px;overflow: hidden;padding: 0;position: absolute;width: 1px;}#sk-container-id-5 div.sk-estimator {font-family: monospace;background-color: #f0f8ff;border: 1px dotted black;border-radius: 0.25em;box-sizing: border-box;margin-bottom: 0.5em;}#sk-container-id-5 div.sk-estimator:hover {background-color: #d4ebff;}#sk-container-id-5 div.sk-parallel-item::after {content: \"\";width: 100%;border-bottom: 1px solid gray;flex-grow: 1;}#sk-container-id-5 div.sk-label:hover label.sk-toggleable__label {background-color: #d4ebff;}#sk-container-id-5 div.sk-serial::before {content: \"\";position: absolute;border-left: 1px solid gray;box-sizing: border-box;top: 0;bottom: 0;left: 50%;z-index: 0;}#sk-container-id-5 div.sk-serial {display: flex;flex-direction: column;align-items: center;background-color: white;padding-right: 0.2em;padding-left: 0.2em;position: relative;}#sk-container-id-5 div.sk-item {position: relative;z-index: 1;}#sk-container-id-5 div.sk-parallel {display: flex;align-items: stretch;justify-content: center;background-color: white;position: relative;}#sk-container-id-5 div.sk-item::before, #sk-container-id-5 div.sk-parallel-item::before {content: \"\";position: absolute;border-left: 1px solid gray;box-sizing: border-box;top: 0;bottom: 0;left: 50%;z-index: -1;}#sk-container-id-5 div.sk-parallel-item {display: flex;flex-direction: column;z-index: 1;position: relative;background-color: white;}#sk-container-id-5 div.sk-parallel-item:first-child::after {align-self: flex-end;width: 50%;}#sk-container-id-5 div.sk-parallel-item:last-child::after {align-self: flex-start;width: 50%;}#sk-container-id-5 div.sk-parallel-item:only-child::after {width: 0;}#sk-container-id-5 div.sk-dashed-wrapped {border: 1px dashed gray;margin: 0 0.4em 0.5em 0.4em;box-sizing: border-box;padding-bottom: 0.4em;background-color: white;}#sk-container-id-5 div.sk-label label {font-family: monospace;font-weight: bold;display: inline-block;line-height: 1.2em;}#sk-container-id-5 div.sk-label-container {text-align: center;}#sk-container-id-5 div.sk-container {/* jupyter's `normalize.less` sets `[hidden] { display: none; }` but bootstrap.min.css set `[hidden] { display: none !important; }` so we also need the `!important` here to be able to override the default hidden behavior on the sphinx rendered scikit-learn.org. See: https://github.com/scikit-learn/scikit-learn/issues/21755 */display: inline-block !important;position: relative;}#sk-container-id-5 div.sk-text-repr-fallback {display: none;}</style><div id=\"sk-container-id-5\" class=\"sk-top-container\"><div class=\"sk-text-repr-fallback\"><pre>LinearRegression(fit_intercept=False, n_jobs=-1)</pre><b>In a Jupyter environment, please rerun this cell to show the HTML representation or trust the notebook. <br />On GitHub, the HTML representation is unable to render, please try loading this page with nbviewer.org.</b></div><div class=\"sk-container\" hidden><div class=\"sk-item\"><div class=\"sk-estimator sk-toggleable\"><input class=\"sk-toggleable__control sk-hidden--visually\" id=\"sk-estimator-id-11\" type=\"checkbox\" checked><label for=\"sk-estimator-id-11\" class=\"sk-toggleable__label sk-toggleable__label-arrow\">LinearRegression</label><div class=\"sk-toggleable__content\"><pre>LinearRegression(fit_intercept=False, n_jobs=-1)</pre></div></div></div></div></div>"
      ],
      "text/plain": [
       "LinearRegression(fit_intercept=False, n_jobs=-1)"
      ]
     },
     "execution_count": 104,
     "metadata": {},
     "output_type": "execute_result"
    }
   ],
   "source": [
    "grid_lr.best_estimator_"
   ]
  },
  {
   "cell_type": "code",
   "execution_count": 105,
   "id": "f1117088",
   "metadata": {},
   "outputs": [
    {
     "data": {
      "text/plain": [
       "2.4538443885909765e+24"
      ]
     },
     "execution_count": 105,
     "metadata": {},
     "output_type": "execute_result"
    }
   ],
   "source": [
    "-grid_lr.best_score_ "
   ]
  },
  {
   "cell_type": "code",
   "execution_count": 106,
   "id": "bf0dc617",
   "metadata": {},
   "outputs": [
    {
     "name": "stdout",
     "output_type": "stream",
     "text": [
      "MAE: 510778993673.8797\n"
     ]
    }
   ],
   "source": [
    "print(\"MAE:\", mean_absolute_error(target_valid, grid_lr.predict(features_valid)))"
   ]
  },
  {
   "cell_type": "markdown",
   "id": "00a9b2ab",
   "metadata": {},
   "source": [
    "### LightGBM"
   ]
  },
  {
   "cell_type": "code",
   "execution_count": 97,
   "id": "4e64fdf5",
   "metadata": {},
   "outputs": [
    {
     "name": "stdout",
     "output_type": "stream",
     "text": [
      "CPU times: total: 0 ns\n",
      "Wall time: 0 ns\n"
     ]
    }
   ],
   "source": [
    "%%time\n",
    "model_lgbm = LGBMRegressor(random_state=1234)\n",
    "\n",
    "params = { 'max_depth': range(3, 6, 2),\n",
    "              'n_estimators': range(100, 201, 100)}"
   ]
  },
  {
   "cell_type": "code",
   "execution_count": null,
   "id": "c074fe91",
   "metadata": {},
   "outputs": [],
   "source": [
    "# %%time\n",
    "# grid_lgbm = GridSearchCV(model_lgbm, params, n_jobs=-1)\n",
    "# grid_lgbm.fit(features_train, target_train)"
   ]
  },
  {
   "cell_type": "code",
   "execution_count": null,
   "id": "bc582b31",
   "metadata": {},
   "outputs": [],
   "source": []
  },
  {
   "cell_type": "code",
   "execution_count": null,
   "id": "3050e1be",
   "metadata": {},
   "outputs": [],
   "source": []
  },
  {
   "cell_type": "markdown",
   "id": "f8aabf67",
   "metadata": {},
   "source": [
    "### LinearSVR"
   ]
  },
  {
   "cell_type": "code",
   "execution_count": null,
   "id": "bf5ca032",
   "metadata": {},
   "outputs": [],
   "source": [
    "# model = LinearSVR(random_state=SEED)\n",
    "\n",
    "# params = {\n",
    "#     'loss':['squared_epsilon_insensitive'],\n",
    "#     'C':[1]\n",
    "# }\n",
    "\n",
    "# grid_svr = GridSearchCV(\n",
    "#     model,\n",
    "#     param_grid,\n",
    "#     scoring='neg_root_mean_squared_error',\n",
    "#     n_jobs=-1,\n",
    "#     cv=GroupShuffleSplit(n_splits=3, random_state=SEED),\n",
    "#     verbose=1\n",
    "# )"
   ]
  },
  {
   "cell_type": "markdown",
   "id": "4a127c69",
   "metadata": {},
   "source": [
    "### ElasticNet"
   ]
  },
  {
   "cell_type": "code",
   "execution_count": 142,
   "id": "6fb73d8b",
   "metadata": {},
   "outputs": [],
   "source": [
    "model_elastic = ElasticNet(random_state=12345)\n",
    "params = {\"max_iter\": [1, 5, 10],\n",
    "                  \"alpha\": [0.0001, 0.001, 0.01, 0.1, 1, 10, 100],\n",
    "                  \"l1_ratio\": np.arange(0.0, 1.0, 0.1)}\n",
    "grid_elastic = GridSearchCV(model_elastic, params, cv=5, scoring='neg_mean_absolute_error', n_jobs=-1)"
   ]
  },
  {
   "cell_type": "code",
   "execution_count": 143,
   "id": "4a6967dd",
   "metadata": {},
   "outputs": [
    {
     "name": "stdout",
     "output_type": "stream",
     "text": [
      "CPU times: total: 12 s\n",
      "Wall time: 4min 21s\n"
     ]
    },
    {
     "data": {
      "text/html": [
       "<style>#sk-container-id-8 {color: black;}#sk-container-id-8 pre{padding: 0;}#sk-container-id-8 div.sk-toggleable {background-color: white;}#sk-container-id-8 label.sk-toggleable__label {cursor: pointer;display: block;width: 100%;margin-bottom: 0;padding: 0.3em;box-sizing: border-box;text-align: center;}#sk-container-id-8 label.sk-toggleable__label-arrow:before {content: \"▸\";float: left;margin-right: 0.25em;color: #696969;}#sk-container-id-8 label.sk-toggleable__label-arrow:hover:before {color: black;}#sk-container-id-8 div.sk-estimator:hover label.sk-toggleable__label-arrow:before {color: black;}#sk-container-id-8 div.sk-toggleable__content {max-height: 0;max-width: 0;overflow: hidden;text-align: left;background-color: #f0f8ff;}#sk-container-id-8 div.sk-toggleable__content pre {margin: 0.2em;color: black;border-radius: 0.25em;background-color: #f0f8ff;}#sk-container-id-8 input.sk-toggleable__control:checked~div.sk-toggleable__content {max-height: 200px;max-width: 100%;overflow: auto;}#sk-container-id-8 input.sk-toggleable__control:checked~label.sk-toggleable__label-arrow:before {content: \"▾\";}#sk-container-id-8 div.sk-estimator input.sk-toggleable__control:checked~label.sk-toggleable__label {background-color: #d4ebff;}#sk-container-id-8 div.sk-label input.sk-toggleable__control:checked~label.sk-toggleable__label {background-color: #d4ebff;}#sk-container-id-8 input.sk-hidden--visually {border: 0;clip: rect(1px 1px 1px 1px);clip: rect(1px, 1px, 1px, 1px);height: 1px;margin: -1px;overflow: hidden;padding: 0;position: absolute;width: 1px;}#sk-container-id-8 div.sk-estimator {font-family: monospace;background-color: #f0f8ff;border: 1px dotted black;border-radius: 0.25em;box-sizing: border-box;margin-bottom: 0.5em;}#sk-container-id-8 div.sk-estimator:hover {background-color: #d4ebff;}#sk-container-id-8 div.sk-parallel-item::after {content: \"\";width: 100%;border-bottom: 1px solid gray;flex-grow: 1;}#sk-container-id-8 div.sk-label:hover label.sk-toggleable__label {background-color: #d4ebff;}#sk-container-id-8 div.sk-serial::before {content: \"\";position: absolute;border-left: 1px solid gray;box-sizing: border-box;top: 0;bottom: 0;left: 50%;z-index: 0;}#sk-container-id-8 div.sk-serial {display: flex;flex-direction: column;align-items: center;background-color: white;padding-right: 0.2em;padding-left: 0.2em;position: relative;}#sk-container-id-8 div.sk-item {position: relative;z-index: 1;}#sk-container-id-8 div.sk-parallel {display: flex;align-items: stretch;justify-content: center;background-color: white;position: relative;}#sk-container-id-8 div.sk-item::before, #sk-container-id-8 div.sk-parallel-item::before {content: \"\";position: absolute;border-left: 1px solid gray;box-sizing: border-box;top: 0;bottom: 0;left: 50%;z-index: -1;}#sk-container-id-8 div.sk-parallel-item {display: flex;flex-direction: column;z-index: 1;position: relative;background-color: white;}#sk-container-id-8 div.sk-parallel-item:first-child::after {align-self: flex-end;width: 50%;}#sk-container-id-8 div.sk-parallel-item:last-child::after {align-self: flex-start;width: 50%;}#sk-container-id-8 div.sk-parallel-item:only-child::after {width: 0;}#sk-container-id-8 div.sk-dashed-wrapped {border: 1px dashed gray;margin: 0 0.4em 0.5em 0.4em;box-sizing: border-box;padding-bottom: 0.4em;background-color: white;}#sk-container-id-8 div.sk-label label {font-family: monospace;font-weight: bold;display: inline-block;line-height: 1.2em;}#sk-container-id-8 div.sk-label-container {text-align: center;}#sk-container-id-8 div.sk-container {/* jupyter's `normalize.less` sets `[hidden] { display: none; }` but bootstrap.min.css set `[hidden] { display: none !important; }` so we also need the `!important` here to be able to override the default hidden behavior on the sphinx rendered scikit-learn.org. See: https://github.com/scikit-learn/scikit-learn/issues/21755 */display: inline-block !important;position: relative;}#sk-container-id-8 div.sk-text-repr-fallback {display: none;}</style><div id=\"sk-container-id-8\" class=\"sk-top-container\"><div class=\"sk-text-repr-fallback\"><pre>GridSearchCV(cv=5, estimator=ElasticNet(random_state=12345), n_jobs=-1,\n",
       "             param_grid={&#x27;alpha&#x27;: [0.0001, 0.001, 0.01, 0.1, 1, 10, 100],\n",
       "                         &#x27;l1_ratio&#x27;: array([0. , 0.1, 0.2, 0.3, 0.4, 0.5, 0.6, 0.7, 0.8, 0.9]),\n",
       "                         &#x27;max_iter&#x27;: [1, 5, 10]},\n",
       "             scoring=&#x27;neg_mean_absolute_error&#x27;)</pre><b>In a Jupyter environment, please rerun this cell to show the HTML representation or trust the notebook. <br />On GitHub, the HTML representation is unable to render, please try loading this page with nbviewer.org.</b></div><div class=\"sk-container\" hidden><div class=\"sk-item sk-dashed-wrapped\"><div class=\"sk-label-container\"><div class=\"sk-label sk-toggleable\"><input class=\"sk-toggleable__control sk-hidden--visually\" id=\"sk-estimator-id-18\" type=\"checkbox\" ><label for=\"sk-estimator-id-18\" class=\"sk-toggleable__label sk-toggleable__label-arrow\">GridSearchCV</label><div class=\"sk-toggleable__content\"><pre>GridSearchCV(cv=5, estimator=ElasticNet(random_state=12345), n_jobs=-1,\n",
       "             param_grid={&#x27;alpha&#x27;: [0.0001, 0.001, 0.01, 0.1, 1, 10, 100],\n",
       "                         &#x27;l1_ratio&#x27;: array([0. , 0.1, 0.2, 0.3, 0.4, 0.5, 0.6, 0.7, 0.8, 0.9]),\n",
       "                         &#x27;max_iter&#x27;: [1, 5, 10]},\n",
       "             scoring=&#x27;neg_mean_absolute_error&#x27;)</pre></div></div></div><div class=\"sk-parallel\"><div class=\"sk-parallel-item\"><div class=\"sk-item\"><div class=\"sk-label-container\"><div class=\"sk-label sk-toggleable\"><input class=\"sk-toggleable__control sk-hidden--visually\" id=\"sk-estimator-id-19\" type=\"checkbox\" ><label for=\"sk-estimator-id-19\" class=\"sk-toggleable__label sk-toggleable__label-arrow\">estimator: ElasticNet</label><div class=\"sk-toggleable__content\"><pre>ElasticNet(random_state=12345)</pre></div></div></div><div class=\"sk-serial\"><div class=\"sk-item\"><div class=\"sk-estimator sk-toggleable\"><input class=\"sk-toggleable__control sk-hidden--visually\" id=\"sk-estimator-id-20\" type=\"checkbox\" ><label for=\"sk-estimator-id-20\" class=\"sk-toggleable__label sk-toggleable__label-arrow\">ElasticNet</label><div class=\"sk-toggleable__content\"><pre>ElasticNet(random_state=12345)</pre></div></div></div></div></div></div></div></div></div></div>"
      ],
      "text/plain": [
       "GridSearchCV(cv=5, estimator=ElasticNet(random_state=12345), n_jobs=-1,\n",
       "             param_grid={'alpha': [0.0001, 0.001, 0.01, 0.1, 1, 10, 100],\n",
       "                         'l1_ratio': array([0. , 0.1, 0.2, 0.3, 0.4, 0.5, 0.6, 0.7, 0.8, 0.9]),\n",
       "                         'max_iter': [1, 5, 10]},\n",
       "             scoring='neg_mean_absolute_error')"
      ]
     },
     "execution_count": 143,
     "metadata": {},
     "output_type": "execute_result"
    }
   ],
   "source": [
    "%%time\n",
    "grid_elastic.fit(features_train, target_train)"
   ]
  },
  {
   "cell_type": "code",
   "execution_count": 146,
   "id": "a88e20a6",
   "metadata": {},
   "outputs": [
    {
     "data": {
      "text/html": [
       "<style>#sk-container-id-9 {color: black;}#sk-container-id-9 pre{padding: 0;}#sk-container-id-9 div.sk-toggleable {background-color: white;}#sk-container-id-9 label.sk-toggleable__label {cursor: pointer;display: block;width: 100%;margin-bottom: 0;padding: 0.3em;box-sizing: border-box;text-align: center;}#sk-container-id-9 label.sk-toggleable__label-arrow:before {content: \"▸\";float: left;margin-right: 0.25em;color: #696969;}#sk-container-id-9 label.sk-toggleable__label-arrow:hover:before {color: black;}#sk-container-id-9 div.sk-estimator:hover label.sk-toggleable__label-arrow:before {color: black;}#sk-container-id-9 div.sk-toggleable__content {max-height: 0;max-width: 0;overflow: hidden;text-align: left;background-color: #f0f8ff;}#sk-container-id-9 div.sk-toggleable__content pre {margin: 0.2em;color: black;border-radius: 0.25em;background-color: #f0f8ff;}#sk-container-id-9 input.sk-toggleable__control:checked~div.sk-toggleable__content {max-height: 200px;max-width: 100%;overflow: auto;}#sk-container-id-9 input.sk-toggleable__control:checked~label.sk-toggleable__label-arrow:before {content: \"▾\";}#sk-container-id-9 div.sk-estimator input.sk-toggleable__control:checked~label.sk-toggleable__label {background-color: #d4ebff;}#sk-container-id-9 div.sk-label input.sk-toggleable__control:checked~label.sk-toggleable__label {background-color: #d4ebff;}#sk-container-id-9 input.sk-hidden--visually {border: 0;clip: rect(1px 1px 1px 1px);clip: rect(1px, 1px, 1px, 1px);height: 1px;margin: -1px;overflow: hidden;padding: 0;position: absolute;width: 1px;}#sk-container-id-9 div.sk-estimator {font-family: monospace;background-color: #f0f8ff;border: 1px dotted black;border-radius: 0.25em;box-sizing: border-box;margin-bottom: 0.5em;}#sk-container-id-9 div.sk-estimator:hover {background-color: #d4ebff;}#sk-container-id-9 div.sk-parallel-item::after {content: \"\";width: 100%;border-bottom: 1px solid gray;flex-grow: 1;}#sk-container-id-9 div.sk-label:hover label.sk-toggleable__label {background-color: #d4ebff;}#sk-container-id-9 div.sk-serial::before {content: \"\";position: absolute;border-left: 1px solid gray;box-sizing: border-box;top: 0;bottom: 0;left: 50%;z-index: 0;}#sk-container-id-9 div.sk-serial {display: flex;flex-direction: column;align-items: center;background-color: white;padding-right: 0.2em;padding-left: 0.2em;position: relative;}#sk-container-id-9 div.sk-item {position: relative;z-index: 1;}#sk-container-id-9 div.sk-parallel {display: flex;align-items: stretch;justify-content: center;background-color: white;position: relative;}#sk-container-id-9 div.sk-item::before, #sk-container-id-9 div.sk-parallel-item::before {content: \"\";position: absolute;border-left: 1px solid gray;box-sizing: border-box;top: 0;bottom: 0;left: 50%;z-index: -1;}#sk-container-id-9 div.sk-parallel-item {display: flex;flex-direction: column;z-index: 1;position: relative;background-color: white;}#sk-container-id-9 div.sk-parallel-item:first-child::after {align-self: flex-end;width: 50%;}#sk-container-id-9 div.sk-parallel-item:last-child::after {align-self: flex-start;width: 50%;}#sk-container-id-9 div.sk-parallel-item:only-child::after {width: 0;}#sk-container-id-9 div.sk-dashed-wrapped {border: 1px dashed gray;margin: 0 0.4em 0.5em 0.4em;box-sizing: border-box;padding-bottom: 0.4em;background-color: white;}#sk-container-id-9 div.sk-label label {font-family: monospace;font-weight: bold;display: inline-block;line-height: 1.2em;}#sk-container-id-9 div.sk-label-container {text-align: center;}#sk-container-id-9 div.sk-container {/* jupyter's `normalize.less` sets `[hidden] { display: none; }` but bootstrap.min.css set `[hidden] { display: none !important; }` so we also need the `!important` here to be able to override the default hidden behavior on the sphinx rendered scikit-learn.org. See: https://github.com/scikit-learn/scikit-learn/issues/21755 */display: inline-block !important;position: relative;}#sk-container-id-9 div.sk-text-repr-fallback {display: none;}</style><div id=\"sk-container-id-9\" class=\"sk-top-container\"><div class=\"sk-text-repr-fallback\"><pre>ElasticNet(alpha=100, l1_ratio=0.0, max_iter=5, random_state=12345)</pre><b>In a Jupyter environment, please rerun this cell to show the HTML representation or trust the notebook. <br />On GitHub, the HTML representation is unable to render, please try loading this page with nbviewer.org.</b></div><div class=\"sk-container\" hidden><div class=\"sk-item\"><div class=\"sk-estimator sk-toggleable\"><input class=\"sk-toggleable__control sk-hidden--visually\" id=\"sk-estimator-id-21\" type=\"checkbox\" checked><label for=\"sk-estimator-id-21\" class=\"sk-toggleable__label sk-toggleable__label-arrow\">ElasticNet</label><div class=\"sk-toggleable__content\"><pre>ElasticNet(alpha=100, l1_ratio=0.0, max_iter=5, random_state=12345)</pre></div></div></div></div></div>"
      ],
      "text/plain": [
       "ElasticNet(alpha=100, l1_ratio=0.0, max_iter=5, random_state=12345)"
      ]
     },
     "execution_count": 146,
     "metadata": {},
     "output_type": "execute_result"
    }
   ],
   "source": [
    "grid_elastic.best_score_\n",
    "grid_elastic.best_estimator_"
   ]
  },
  {
   "cell_type": "code",
   "execution_count": 144,
   "id": "2ff76ebb",
   "metadata": {},
   "outputs": [
    {
     "name": "stdout",
     "output_type": "stream",
     "text": [
      "MAE: 0.20420701662952995\n"
     ]
    }
   ],
   "source": [
    "print(\"MAE:\", mean_absolute_error(target_valid, grid_elastic.predict(features_valid)))"
   ]
  },
  {
   "cell_type": "markdown",
   "id": "47979b80",
   "metadata": {},
   "source": [
    "### Catboost"
   ]
  },
  {
   "cell_type": "code",
   "execution_count": 121,
   "id": "837a2459",
   "metadata": {},
   "outputs": [
    {
     "data": {
      "application/vnd.jupyter.widget-view+json": {
       "model_id": "9095f2c536d64de29513e49499cc128c",
       "version_major": 2,
       "version_minor": 0
      },
      "text/plain": [
       "MetricVisualizer(layout=Layout(align_self='stretch', height='500px'))"
      ]
     },
     "metadata": {},
     "output_type": "display_data"
    },
    {
     "name": "stdout",
     "output_type": "stream",
     "text": [
      "CPU times: total: 9min 27s\n",
      "Wall time: 9min 28s\n"
     ]
    },
    {
     "data": {
      "text/html": [
       "<style>#sk-container-id-7 {color: black;}#sk-container-id-7 pre{padding: 0;}#sk-container-id-7 div.sk-toggleable {background-color: white;}#sk-container-id-7 label.sk-toggleable__label {cursor: pointer;display: block;width: 100%;margin-bottom: 0;padding: 0.3em;box-sizing: border-box;text-align: center;}#sk-container-id-7 label.sk-toggleable__label-arrow:before {content: \"▸\";float: left;margin-right: 0.25em;color: #696969;}#sk-container-id-7 label.sk-toggleable__label-arrow:hover:before {color: black;}#sk-container-id-7 div.sk-estimator:hover label.sk-toggleable__label-arrow:before {color: black;}#sk-container-id-7 div.sk-toggleable__content {max-height: 0;max-width: 0;overflow: hidden;text-align: left;background-color: #f0f8ff;}#sk-container-id-7 div.sk-toggleable__content pre {margin: 0.2em;color: black;border-radius: 0.25em;background-color: #f0f8ff;}#sk-container-id-7 input.sk-toggleable__control:checked~div.sk-toggleable__content {max-height: 200px;max-width: 100%;overflow: auto;}#sk-container-id-7 input.sk-toggleable__control:checked~label.sk-toggleable__label-arrow:before {content: \"▾\";}#sk-container-id-7 div.sk-estimator input.sk-toggleable__control:checked~label.sk-toggleable__label {background-color: #d4ebff;}#sk-container-id-7 div.sk-label input.sk-toggleable__control:checked~label.sk-toggleable__label {background-color: #d4ebff;}#sk-container-id-7 input.sk-hidden--visually {border: 0;clip: rect(1px 1px 1px 1px);clip: rect(1px, 1px, 1px, 1px);height: 1px;margin: -1px;overflow: hidden;padding: 0;position: absolute;width: 1px;}#sk-container-id-7 div.sk-estimator {font-family: monospace;background-color: #f0f8ff;border: 1px dotted black;border-radius: 0.25em;box-sizing: border-box;margin-bottom: 0.5em;}#sk-container-id-7 div.sk-estimator:hover {background-color: #d4ebff;}#sk-container-id-7 div.sk-parallel-item::after {content: \"\";width: 100%;border-bottom: 1px solid gray;flex-grow: 1;}#sk-container-id-7 div.sk-label:hover label.sk-toggleable__label {background-color: #d4ebff;}#sk-container-id-7 div.sk-serial::before {content: \"\";position: absolute;border-left: 1px solid gray;box-sizing: border-box;top: 0;bottom: 0;left: 50%;z-index: 0;}#sk-container-id-7 div.sk-serial {display: flex;flex-direction: column;align-items: center;background-color: white;padding-right: 0.2em;padding-left: 0.2em;position: relative;}#sk-container-id-7 div.sk-item {position: relative;z-index: 1;}#sk-container-id-7 div.sk-parallel {display: flex;align-items: stretch;justify-content: center;background-color: white;position: relative;}#sk-container-id-7 div.sk-item::before, #sk-container-id-7 div.sk-parallel-item::before {content: \"\";position: absolute;border-left: 1px solid gray;box-sizing: border-box;top: 0;bottom: 0;left: 50%;z-index: -1;}#sk-container-id-7 div.sk-parallel-item {display: flex;flex-direction: column;z-index: 1;position: relative;background-color: white;}#sk-container-id-7 div.sk-parallel-item:first-child::after {align-self: flex-end;width: 50%;}#sk-container-id-7 div.sk-parallel-item:last-child::after {align-self: flex-start;width: 50%;}#sk-container-id-7 div.sk-parallel-item:only-child::after {width: 0;}#sk-container-id-7 div.sk-dashed-wrapped {border: 1px dashed gray;margin: 0 0.4em 0.5em 0.4em;box-sizing: border-box;padding-bottom: 0.4em;background-color: white;}#sk-container-id-7 div.sk-label label {font-family: monospace;font-weight: bold;display: inline-block;line-height: 1.2em;}#sk-container-id-7 div.sk-label-container {text-align: center;}#sk-container-id-7 div.sk-container {/* jupyter's `normalize.less` sets `[hidden] { display: none; }` but bootstrap.min.css set `[hidden] { display: none !important; }` so we also need the `!important` here to be able to override the default hidden behavior on the sphinx rendered scikit-learn.org. See: https://github.com/scikit-learn/scikit-learn/issues/21755 */display: inline-block !important;position: relative;}#sk-container-id-7 div.sk-text-repr-fallback {display: none;}</style><div id=\"sk-container-id-7\" class=\"sk-top-container\"><div class=\"sk-text-repr-fallback\"><pre>GridSearchCV(cv=3,\n",
       "             estimator=&lt;catboost.core.CatBoostRegressor object at 0x0000020D43AC3190&gt;,\n",
       "             n_jobs=-1,\n",
       "             param_grid={&#x27;depth&#x27;: [1, 4, 6], &#x27;iterations&#x27;: [200, 600]},\n",
       "             scoring=&#x27;neg_mean_absolute_error&#x27;)</pre><b>In a Jupyter environment, please rerun this cell to show the HTML representation or trust the notebook. <br />On GitHub, the HTML representation is unable to render, please try loading this page with nbviewer.org.</b></div><div class=\"sk-container\" hidden><div class=\"sk-item sk-dashed-wrapped\"><div class=\"sk-label-container\"><div class=\"sk-label sk-toggleable\"><input class=\"sk-toggleable__control sk-hidden--visually\" id=\"sk-estimator-id-15\" type=\"checkbox\" ><label for=\"sk-estimator-id-15\" class=\"sk-toggleable__label sk-toggleable__label-arrow\">GridSearchCV</label><div class=\"sk-toggleable__content\"><pre>GridSearchCV(cv=3,\n",
       "             estimator=&lt;catboost.core.CatBoostRegressor object at 0x0000020D43AC3190&gt;,\n",
       "             n_jobs=-1,\n",
       "             param_grid={&#x27;depth&#x27;: [1, 4, 6], &#x27;iterations&#x27;: [200, 600]},\n",
       "             scoring=&#x27;neg_mean_absolute_error&#x27;)</pre></div></div></div><div class=\"sk-parallel\"><div class=\"sk-parallel-item\"><div class=\"sk-item\"><div class=\"sk-label-container\"><div class=\"sk-label sk-toggleable\"><input class=\"sk-toggleable__control sk-hidden--visually\" id=\"sk-estimator-id-16\" type=\"checkbox\" ><label for=\"sk-estimator-id-16\" class=\"sk-toggleable__label sk-toggleable__label-arrow\">estimator: CatBoostRegressor</label><div class=\"sk-toggleable__content\"><pre>&lt;catboost.core.CatBoostRegressor object at 0x0000020D43AC3190&gt;</pre></div></div></div><div class=\"sk-serial\"><div class=\"sk-item\"><div class=\"sk-estimator sk-toggleable\"><input class=\"sk-toggleable__control sk-hidden--visually\" id=\"sk-estimator-id-17\" type=\"checkbox\" ><label for=\"sk-estimator-id-17\" class=\"sk-toggleable__label sk-toggleable__label-arrow\">CatBoostRegressor</label><div class=\"sk-toggleable__content\"><pre>&lt;catboost.core.CatBoostRegressor object at 0x0000020D43AC3190&gt;</pre></div></div></div></div></div></div></div></div></div></div>"
      ],
      "text/plain": [
       "GridSearchCV(cv=3,\n",
       "             estimator=<catboost.core.CatBoostRegressor object at 0x0000020D43AC3190>,\n",
       "             n_jobs=-1,\n",
       "             param_grid={'depth': [1, 4, 6], 'iterations': [200, 600]},\n",
       "             scoring='neg_mean_absolute_error')"
      ]
     },
     "execution_count": 121,
     "metadata": {},
     "output_type": "execute_result"
    }
   ],
   "source": [
    "%%time\n",
    "\n",
    "\n",
    "model_cat = CatBoostRegressor(random_state = 12345, verbose=False)\n",
    "params = {'iterations': [200, 600],\n",
    "             #'depth': range(1, 4),\n",
    "            'depth': [1, 4, 6]\n",
    "            }\n",
    "\n",
    "grid_cat = GridSearchCV(estimator=model_cat, param_grid=params, cv=3, scoring='neg_mean_absolute_error', n_jobs=-1)\n",
    "grid_cat.fit(features_train, target_train, plot=True)"
   ]
  },
  {
   "cell_type": "code",
   "execution_count": 123,
   "id": "301007e9",
   "metadata": {},
   "outputs": [
    {
     "name": "stdout",
     "output_type": "stream",
     "text": [
      "{'depth': 1, 'iterations': 600}\n",
      "-0.2074869931797598\n"
     ]
    }
   ],
   "source": [
    "print(grid_cat.best_params_)\n",
    "print(grid_cat.best_score_)"
   ]
  },
  {
   "cell_type": "code",
   "execution_count": 124,
   "id": "b6e402db",
   "metadata": {},
   "outputs": [
    {
     "name": "stdout",
     "output_type": "stream",
     "text": [
      "MAE: 0.20734495554639598\n"
     ]
    }
   ],
   "source": [
    "print(\"MAE:\",\n",
    "      mean_absolute_error(target_valid, grid_cat.predict(features_valid)))"
   ]
  },
  {
   "cell_type": "markdown",
   "id": "cac297f8",
   "metadata": {},
   "source": [
    "### SGDRegressor"
   ]
  },
  {
   "cell_type": "code",
   "execution_count": 1,
   "id": "6391cdfe",
   "metadata": {},
   "outputs": [],
   "source": []
  },
  {
   "cell_type": "code",
   "execution_count": null,
   "id": "f847bbc7",
   "metadata": {},
   "outputs": [],
   "source": [
    "(loss='squared_error', *, penalty='l2', alpha=0.0001, l1_ratio=0.15, fit_intercept=True, max_iter=1000, tol=0.001, shuffle=True, verbose=0, epsilon=0.1, random_state=None, learning_rate='invscaling', eta0=0.01, power_t=0.25, early_stopping=False, validation_fraction=0.1, n_iter_no_change=5, warm_start=False, average=False)\n"
   ]
  },
  {
   "cell_type": "code",
   "execution_count": 127,
   "id": "d4788e60",
   "metadata": {},
   "outputs": [],
   "source": [
    "model_SGD = SGDRegressor(random_state=12345)\n",
    "parametersGrid = {\"penalty\": ['l2'],\n",
    "                  \"alpha\": [0.01, 0.1, 1, 10, 100],\n",
    "                 'max_iter': [500]}\n",
    "grid_SGD = GridSearchCV(model_SGD, parameters, cv=5, scoring='neg_mean_absolute_error', n_jobs=-1)"
   ]
  },
  {
   "cell_type": "code",
   "execution_count": 128,
   "id": "8144c2cc",
   "metadata": {},
   "outputs": [
    {
     "ename": "ValueError",
     "evalue": "Invalid parameter 'copy_X' for estimator SGDRegressor(random_state=12345). Valid parameters are: ['alpha', 'average', 'early_stopping', 'epsilon', 'eta0', 'fit_intercept', 'l1_ratio', 'learning_rate', 'loss', 'max_iter', 'n_iter_no_change', 'penalty', 'power_t', 'random_state', 'shuffle', 'tol', 'validation_fraction', 'verbose', 'warm_start'].",
     "output_type": "error",
     "traceback": [
      "\u001b[1;31m---------------------------------------------------------------------------\u001b[0m",
      "\u001b[1;31m_RemoteTraceback\u001b[0m                          Traceback (most recent call last)",
      "\u001b[1;31m_RemoteTraceback\u001b[0m: \n\"\"\"\nTraceback (most recent call last):\n  File \"C:\\ProgramData\\anaconda3\\Lib\\site-packages\\joblib\\externals\\loky\\process_executor.py\", line 428, in _process_worker\n    r = call_item()\n        ^^^^^^^^^^^\n  File \"C:\\ProgramData\\anaconda3\\Lib\\site-packages\\joblib\\externals\\loky\\process_executor.py\", line 275, in __call__\n    return self.fn(*self.args, **self.kwargs)\n           ^^^^^^^^^^^^^^^^^^^^^^^^^^^^^^^^^^\n  File \"C:\\ProgramData\\anaconda3\\Lib\\site-packages\\joblib\\_parallel_backends.py\", line 620, in __call__\n    return self.func(*args, **kwargs)\n           ^^^^^^^^^^^^^^^^^^^^^^^^^^\n  File \"C:\\ProgramData\\anaconda3\\Lib\\site-packages\\joblib\\parallel.py\", line 288, in __call__\n    return [func(*args, **kwargs)\n           ^^^^^^^^^^^^^^^^^^^^^^\n  File \"C:\\ProgramData\\anaconda3\\Lib\\site-packages\\joblib\\parallel.py\", line 288, in <listcomp>\n    return [func(*args, **kwargs)\n            ^^^^^^^^^^^^^^^^^^^^^\n  File \"C:\\ProgramData\\anaconda3\\Lib\\site-packages\\sklearn\\utils\\parallel.py\", line 127, in __call__\n    return self.function(*args, **kwargs)\n           ^^^^^^^^^^^^^^^^^^^^^^^^^^^^^^\n  File \"C:\\ProgramData\\anaconda3\\Lib\\site-packages\\sklearn\\model_selection\\_validation.py\", line 720, in _fit_and_score\n    estimator = estimator.set_params(**cloned_parameters)\n                ^^^^^^^^^^^^^^^^^^^^^^^^^^^^^^^^^^^^^^^^^\n  File \"C:\\ProgramData\\anaconda3\\Lib\\site-packages\\sklearn\\base.py\", line 229, in set_params\n    raise ValueError(\nValueError: Invalid parameter 'copy_X' for estimator SGDRegressor(random_state=12345). Valid parameters are: ['alpha', 'average', 'early_stopping', 'epsilon', 'eta0', 'fit_intercept', 'l1_ratio', 'learning_rate', 'loss', 'max_iter', 'n_iter_no_change', 'penalty', 'power_t', 'random_state', 'shuffle', 'tol', 'validation_fraction', 'verbose', 'warm_start'].\n\"\"\"",
      "\nThe above exception was the direct cause of the following exception:\n",
      "\u001b[1;31mValueError\u001b[0m                                Traceback (most recent call last)",
      "File \u001b[1;32m<timed eval>:1\u001b[0m\n",
      "File \u001b[1;32mC:\\ProgramData\\anaconda3\\Lib\\site-packages\\sklearn\\base.py:1151\u001b[0m, in \u001b[0;36m_fit_context.<locals>.decorator.<locals>.wrapper\u001b[1;34m(estimator, *args, **kwargs)\u001b[0m\n\u001b[0;32m   1144\u001b[0m     estimator\u001b[38;5;241m.\u001b[39m_validate_params()\n\u001b[0;32m   1146\u001b[0m \u001b[38;5;28;01mwith\u001b[39;00m config_context(\n\u001b[0;32m   1147\u001b[0m     skip_parameter_validation\u001b[38;5;241m=\u001b[39m(\n\u001b[0;32m   1148\u001b[0m         prefer_skip_nested_validation \u001b[38;5;129;01mor\u001b[39;00m global_skip_validation\n\u001b[0;32m   1149\u001b[0m     )\n\u001b[0;32m   1150\u001b[0m ):\n\u001b[1;32m-> 1151\u001b[0m     \u001b[38;5;28;01mreturn\u001b[39;00m fit_method(estimator, \u001b[38;5;241m*\u001b[39margs, \u001b[38;5;241m*\u001b[39m\u001b[38;5;241m*\u001b[39mkwargs)\n",
      "File \u001b[1;32mC:\\ProgramData\\anaconda3\\Lib\\site-packages\\sklearn\\model_selection\\_search.py:898\u001b[0m, in \u001b[0;36mBaseSearchCV.fit\u001b[1;34m(self, X, y, groups, **fit_params)\u001b[0m\n\u001b[0;32m    892\u001b[0m     results \u001b[38;5;241m=\u001b[39m \u001b[38;5;28mself\u001b[39m\u001b[38;5;241m.\u001b[39m_format_results(\n\u001b[0;32m    893\u001b[0m         all_candidate_params, n_splits, all_out, all_more_results\n\u001b[0;32m    894\u001b[0m     )\n\u001b[0;32m    896\u001b[0m     \u001b[38;5;28;01mreturn\u001b[39;00m results\n\u001b[1;32m--> 898\u001b[0m \u001b[38;5;28mself\u001b[39m\u001b[38;5;241m.\u001b[39m_run_search(evaluate_candidates)\n\u001b[0;32m    900\u001b[0m \u001b[38;5;66;03m# multimetric is determined here because in the case of a callable\u001b[39;00m\n\u001b[0;32m    901\u001b[0m \u001b[38;5;66;03m# self.scoring the return type is only known after calling\u001b[39;00m\n\u001b[0;32m    902\u001b[0m first_test_score \u001b[38;5;241m=\u001b[39m all_out[\u001b[38;5;241m0\u001b[39m][\u001b[38;5;124m\"\u001b[39m\u001b[38;5;124mtest_scores\u001b[39m\u001b[38;5;124m\"\u001b[39m]\n",
      "File \u001b[1;32mC:\\ProgramData\\anaconda3\\Lib\\site-packages\\sklearn\\model_selection\\_search.py:1419\u001b[0m, in \u001b[0;36mGridSearchCV._run_search\u001b[1;34m(self, evaluate_candidates)\u001b[0m\n\u001b[0;32m   1417\u001b[0m \u001b[38;5;28;01mdef\u001b[39;00m \u001b[38;5;21m_run_search\u001b[39m(\u001b[38;5;28mself\u001b[39m, evaluate_candidates):\n\u001b[0;32m   1418\u001b[0m \u001b[38;5;250m    \u001b[39m\u001b[38;5;124;03m\"\"\"Search all candidates in param_grid\"\"\"\u001b[39;00m\n\u001b[1;32m-> 1419\u001b[0m     evaluate_candidates(ParameterGrid(\u001b[38;5;28mself\u001b[39m\u001b[38;5;241m.\u001b[39mparam_grid))\n",
      "File \u001b[1;32mC:\\ProgramData\\anaconda3\\Lib\\site-packages\\sklearn\\model_selection\\_search.py:845\u001b[0m, in \u001b[0;36mBaseSearchCV.fit.<locals>.evaluate_candidates\u001b[1;34m(candidate_params, cv, more_results)\u001b[0m\n\u001b[0;32m    837\u001b[0m \u001b[38;5;28;01mif\u001b[39;00m \u001b[38;5;28mself\u001b[39m\u001b[38;5;241m.\u001b[39mverbose \u001b[38;5;241m>\u001b[39m \u001b[38;5;241m0\u001b[39m:\n\u001b[0;32m    838\u001b[0m     \u001b[38;5;28mprint\u001b[39m(\n\u001b[0;32m    839\u001b[0m         \u001b[38;5;124m\"\u001b[39m\u001b[38;5;124mFitting \u001b[39m\u001b[38;5;132;01m{0}\u001b[39;00m\u001b[38;5;124m folds for each of \u001b[39m\u001b[38;5;132;01m{1}\u001b[39;00m\u001b[38;5;124m candidates,\u001b[39m\u001b[38;5;124m\"\u001b[39m\n\u001b[0;32m    840\u001b[0m         \u001b[38;5;124m\"\u001b[39m\u001b[38;5;124m totalling \u001b[39m\u001b[38;5;132;01m{2}\u001b[39;00m\u001b[38;5;124m fits\u001b[39m\u001b[38;5;124m\"\u001b[39m\u001b[38;5;241m.\u001b[39mformat(\n\u001b[0;32m    841\u001b[0m             n_splits, n_candidates, n_candidates \u001b[38;5;241m*\u001b[39m n_splits\n\u001b[0;32m    842\u001b[0m         )\n\u001b[0;32m    843\u001b[0m     )\n\u001b[1;32m--> 845\u001b[0m out \u001b[38;5;241m=\u001b[39m parallel(\n\u001b[0;32m    846\u001b[0m     delayed(_fit_and_score)(\n\u001b[0;32m    847\u001b[0m         clone(base_estimator),\n\u001b[0;32m    848\u001b[0m         X,\n\u001b[0;32m    849\u001b[0m         y,\n\u001b[0;32m    850\u001b[0m         train\u001b[38;5;241m=\u001b[39mtrain,\n\u001b[0;32m    851\u001b[0m         test\u001b[38;5;241m=\u001b[39mtest,\n\u001b[0;32m    852\u001b[0m         parameters\u001b[38;5;241m=\u001b[39mparameters,\n\u001b[0;32m    853\u001b[0m         split_progress\u001b[38;5;241m=\u001b[39m(split_idx, n_splits),\n\u001b[0;32m    854\u001b[0m         candidate_progress\u001b[38;5;241m=\u001b[39m(cand_idx, n_candidates),\n\u001b[0;32m    855\u001b[0m         \u001b[38;5;241m*\u001b[39m\u001b[38;5;241m*\u001b[39mfit_and_score_kwargs,\n\u001b[0;32m    856\u001b[0m     )\n\u001b[0;32m    857\u001b[0m     \u001b[38;5;28;01mfor\u001b[39;00m (cand_idx, parameters), (split_idx, (train, test)) \u001b[38;5;129;01min\u001b[39;00m product(\n\u001b[0;32m    858\u001b[0m         \u001b[38;5;28menumerate\u001b[39m(candidate_params), \u001b[38;5;28menumerate\u001b[39m(cv\u001b[38;5;241m.\u001b[39msplit(X, y, groups))\n\u001b[0;32m    859\u001b[0m     )\n\u001b[0;32m    860\u001b[0m )\n\u001b[0;32m    862\u001b[0m \u001b[38;5;28;01mif\u001b[39;00m \u001b[38;5;28mlen\u001b[39m(out) \u001b[38;5;241m<\u001b[39m \u001b[38;5;241m1\u001b[39m:\n\u001b[0;32m    863\u001b[0m     \u001b[38;5;28;01mraise\u001b[39;00m \u001b[38;5;167;01mValueError\u001b[39;00m(\n\u001b[0;32m    864\u001b[0m         \u001b[38;5;124m\"\u001b[39m\u001b[38;5;124mNo fits were performed. \u001b[39m\u001b[38;5;124m\"\u001b[39m\n\u001b[0;32m    865\u001b[0m         \u001b[38;5;124m\"\u001b[39m\u001b[38;5;124mWas the CV iterator empty? \u001b[39m\u001b[38;5;124m\"\u001b[39m\n\u001b[0;32m    866\u001b[0m         \u001b[38;5;124m\"\u001b[39m\u001b[38;5;124mWere there no candidates?\u001b[39m\u001b[38;5;124m\"\u001b[39m\n\u001b[0;32m    867\u001b[0m     )\n",
      "File \u001b[1;32mC:\\ProgramData\\anaconda3\\Lib\\site-packages\\sklearn\\utils\\parallel.py:65\u001b[0m, in \u001b[0;36mParallel.__call__\u001b[1;34m(self, iterable)\u001b[0m\n\u001b[0;32m     60\u001b[0m config \u001b[38;5;241m=\u001b[39m get_config()\n\u001b[0;32m     61\u001b[0m iterable_with_config \u001b[38;5;241m=\u001b[39m (\n\u001b[0;32m     62\u001b[0m     (_with_config(delayed_func, config), args, kwargs)\n\u001b[0;32m     63\u001b[0m     \u001b[38;5;28;01mfor\u001b[39;00m delayed_func, args, kwargs \u001b[38;5;129;01min\u001b[39;00m iterable\n\u001b[0;32m     64\u001b[0m )\n\u001b[1;32m---> 65\u001b[0m \u001b[38;5;28;01mreturn\u001b[39;00m \u001b[38;5;28msuper\u001b[39m()\u001b[38;5;241m.\u001b[39m\u001b[38;5;21m__call__\u001b[39m(iterable_with_config)\n",
      "File \u001b[1;32mC:\\ProgramData\\anaconda3\\Lib\\site-packages\\joblib\\parallel.py:1098\u001b[0m, in \u001b[0;36mParallel.__call__\u001b[1;34m(self, iterable)\u001b[0m\n\u001b[0;32m   1095\u001b[0m     \u001b[38;5;28mself\u001b[39m\u001b[38;5;241m.\u001b[39m_iterating \u001b[38;5;241m=\u001b[39m \u001b[38;5;28;01mFalse\u001b[39;00m\n\u001b[0;32m   1097\u001b[0m \u001b[38;5;28;01mwith\u001b[39;00m \u001b[38;5;28mself\u001b[39m\u001b[38;5;241m.\u001b[39m_backend\u001b[38;5;241m.\u001b[39mretrieval_context():\n\u001b[1;32m-> 1098\u001b[0m     \u001b[38;5;28mself\u001b[39m\u001b[38;5;241m.\u001b[39mretrieve()\n\u001b[0;32m   1099\u001b[0m \u001b[38;5;66;03m# Make sure that we get a last message telling us we are done\u001b[39;00m\n\u001b[0;32m   1100\u001b[0m elapsed_time \u001b[38;5;241m=\u001b[39m time\u001b[38;5;241m.\u001b[39mtime() \u001b[38;5;241m-\u001b[39m \u001b[38;5;28mself\u001b[39m\u001b[38;5;241m.\u001b[39m_start_time\n",
      "File \u001b[1;32mC:\\ProgramData\\anaconda3\\Lib\\site-packages\\joblib\\parallel.py:975\u001b[0m, in \u001b[0;36mParallel.retrieve\u001b[1;34m(self)\u001b[0m\n\u001b[0;32m    973\u001b[0m \u001b[38;5;28;01mtry\u001b[39;00m:\n\u001b[0;32m    974\u001b[0m     \u001b[38;5;28;01mif\u001b[39;00m \u001b[38;5;28mgetattr\u001b[39m(\u001b[38;5;28mself\u001b[39m\u001b[38;5;241m.\u001b[39m_backend, \u001b[38;5;124m'\u001b[39m\u001b[38;5;124msupports_timeout\u001b[39m\u001b[38;5;124m'\u001b[39m, \u001b[38;5;28;01mFalse\u001b[39;00m):\n\u001b[1;32m--> 975\u001b[0m         \u001b[38;5;28mself\u001b[39m\u001b[38;5;241m.\u001b[39m_output\u001b[38;5;241m.\u001b[39mextend(job\u001b[38;5;241m.\u001b[39mget(timeout\u001b[38;5;241m=\u001b[39m\u001b[38;5;28mself\u001b[39m\u001b[38;5;241m.\u001b[39mtimeout))\n\u001b[0;32m    976\u001b[0m     \u001b[38;5;28;01melse\u001b[39;00m:\n\u001b[0;32m    977\u001b[0m         \u001b[38;5;28mself\u001b[39m\u001b[38;5;241m.\u001b[39m_output\u001b[38;5;241m.\u001b[39mextend(job\u001b[38;5;241m.\u001b[39mget())\n",
      "File \u001b[1;32mC:\\ProgramData\\anaconda3\\Lib\\site-packages\\joblib\\_parallel_backends.py:567\u001b[0m, in \u001b[0;36mLokyBackend.wrap_future_result\u001b[1;34m(future, timeout)\u001b[0m\n\u001b[0;32m    564\u001b[0m \u001b[38;5;250m\u001b[39m\u001b[38;5;124;03m\"\"\"Wrapper for Future.result to implement the same behaviour as\u001b[39;00m\n\u001b[0;32m    565\u001b[0m \u001b[38;5;124;03mAsyncResults.get from multiprocessing.\"\"\"\u001b[39;00m\n\u001b[0;32m    566\u001b[0m \u001b[38;5;28;01mtry\u001b[39;00m:\n\u001b[1;32m--> 567\u001b[0m     \u001b[38;5;28;01mreturn\u001b[39;00m future\u001b[38;5;241m.\u001b[39mresult(timeout\u001b[38;5;241m=\u001b[39mtimeout)\n\u001b[0;32m    568\u001b[0m \u001b[38;5;28;01mexcept\u001b[39;00m CfTimeoutError \u001b[38;5;28;01mas\u001b[39;00m e:\n\u001b[0;32m    569\u001b[0m     \u001b[38;5;28;01mraise\u001b[39;00m \u001b[38;5;167;01mTimeoutError\u001b[39;00m \u001b[38;5;28;01mfrom\u001b[39;00m \u001b[38;5;21;01me\u001b[39;00m\n",
      "File \u001b[1;32mC:\\ProgramData\\anaconda3\\Lib\\concurrent\\futures\\_base.py:456\u001b[0m, in \u001b[0;36mFuture.result\u001b[1;34m(self, timeout)\u001b[0m\n\u001b[0;32m    454\u001b[0m     \u001b[38;5;28;01mraise\u001b[39;00m CancelledError()\n\u001b[0;32m    455\u001b[0m \u001b[38;5;28;01melif\u001b[39;00m \u001b[38;5;28mself\u001b[39m\u001b[38;5;241m.\u001b[39m_state \u001b[38;5;241m==\u001b[39m FINISHED:\n\u001b[1;32m--> 456\u001b[0m     \u001b[38;5;28;01mreturn\u001b[39;00m \u001b[38;5;28mself\u001b[39m\u001b[38;5;241m.\u001b[39m__get_result()\n\u001b[0;32m    457\u001b[0m \u001b[38;5;28;01melse\u001b[39;00m:\n\u001b[0;32m    458\u001b[0m     \u001b[38;5;28;01mraise\u001b[39;00m \u001b[38;5;167;01mTimeoutError\u001b[39;00m()\n",
      "File \u001b[1;32mC:\\ProgramData\\anaconda3\\Lib\\concurrent\\futures\\_base.py:401\u001b[0m, in \u001b[0;36mFuture.__get_result\u001b[1;34m(self)\u001b[0m\n\u001b[0;32m    399\u001b[0m \u001b[38;5;28;01mif\u001b[39;00m \u001b[38;5;28mself\u001b[39m\u001b[38;5;241m.\u001b[39m_exception:\n\u001b[0;32m    400\u001b[0m     \u001b[38;5;28;01mtry\u001b[39;00m:\n\u001b[1;32m--> 401\u001b[0m         \u001b[38;5;28;01mraise\u001b[39;00m \u001b[38;5;28mself\u001b[39m\u001b[38;5;241m.\u001b[39m_exception\n\u001b[0;32m    402\u001b[0m     \u001b[38;5;28;01mfinally\u001b[39;00m:\n\u001b[0;32m    403\u001b[0m         \u001b[38;5;66;03m# Break a reference cycle with the exception in self._exception\u001b[39;00m\n\u001b[0;32m    404\u001b[0m         \u001b[38;5;28mself\u001b[39m \u001b[38;5;241m=\u001b[39m \u001b[38;5;28;01mNone\u001b[39;00m\n",
      "\u001b[1;31mValueError\u001b[0m: Invalid parameter 'copy_X' for estimator SGDRegressor(random_state=12345). Valid parameters are: ['alpha', 'average', 'early_stopping', 'epsilon', 'eta0', 'fit_intercept', 'l1_ratio', 'learning_rate', 'loss', 'max_iter', 'n_iter_no_change', 'penalty', 'power_t', 'random_state', 'shuffle', 'tol', 'validation_fraction', 'verbose', 'warm_start']."
     ]
    }
   ],
   "source": [
    "%%time\n",
    "grid_SGD.fit(features_train, target_train)"
   ]
  },
  {
   "cell_type": "code",
   "execution_count": 126,
   "id": "4fa8b3ac",
   "metadata": {},
   "outputs": [],
   "source": [
    "from sklearn.linear_model import SGDRegressor"
   ]
  },
  {
   "cell_type": "code",
   "execution_count": null,
   "id": "819695a8",
   "metadata": {},
   "outputs": [],
   "source": []
  },
  {
   "cell_type": "code",
   "execution_count": 227,
   "id": "12a0a30e",
   "metadata": {},
   "outputs": [],
   "source": [
    "train_pool = Pool(features_train, \n",
    "                  target_train)\n",
    "test_pool = Pool(features_valid) "
   ]
  },
  {
   "cell_type": "code",
   "execution_count": 228,
   "id": "40db9fe7",
   "metadata": {},
   "outputs": [],
   "source": [
    "model_cat = CatBoostRegressor(random_state=12345)\n",
    "\n",
    "params = {'learning_rate': [0.03, 0.1],\n",
    "        'depth': [4, 6, 10],\n",
    "        'l2_leaf_reg': [1, 5, 9]}"
   ]
  },
  {
   "cell_type": "code",
   "execution_count": null,
   "id": "c081702e",
   "metadata": {},
   "outputs": [],
   "source": [
    "from catboost import CatBoostClassifier\n",
    "\n",
    "model = CatBoostClassifier(\n",
    "    iterations=200,\n",
    "    random_seed=63,\n",
    "    learning_rate=0.15\n",
    "    custom_loss=['AUC', 'Accuracy']\n",
    ")\n",
    "\n",
    "model.fit(X_train, y_train,\n",
    "         cat_features=cat_features,\n",
    "         eval_set=(X_test, y_test),\n",
    "          verbose=False,\n",
    "          plot=True\n",
    ")"
   ]
  },
  {
   "cell_type": "code",
   "execution_count": 231,
   "id": "b4092ebf",
   "metadata": {},
   "outputs": [
    {
     "ename": "MemoryError",
     "evalue": "Unable to allocate 159. MiB for an array with shape (799, 26048) and data type float64",
     "output_type": "error",
     "traceback": [
      "\u001b[1;31m---------------------------------------------------------------------------\u001b[0m",
      "\u001b[1;31m_RemoteTraceback\u001b[0m                          Traceback (most recent call last)",
      "\u001b[1;31m_RemoteTraceback\u001b[0m: \n\"\"\"\nTraceback (most recent call last):\n  File \"C:\\ProgramData\\anaconda3\\Lib\\site-packages\\joblib\\externals\\loky\\process_executor.py\", line 428, in _process_worker\n    r = call_item()\n        ^^^^^^^^^^^\n  File \"C:\\ProgramData\\anaconda3\\Lib\\site-packages\\joblib\\externals\\loky\\process_executor.py\", line 275, in __call__\n    return self.fn(*self.args, **self.kwargs)\n           ^^^^^^^^^^^^^^^^^^^^^^^^^^^^^^^^^^\n  File \"C:\\ProgramData\\anaconda3\\Lib\\site-packages\\joblib\\_parallel_backends.py\", line 620, in __call__\n    return self.func(*args, **kwargs)\n           ^^^^^^^^^^^^^^^^^^^^^^^^^^\n  File \"C:\\ProgramData\\anaconda3\\Lib\\site-packages\\joblib\\parallel.py\", line 288, in __call__\n    return [func(*args, **kwargs)\n           ^^^^^^^^^^^^^^^^^^^^^^\n  File \"C:\\ProgramData\\anaconda3\\Lib\\site-packages\\joblib\\parallel.py\", line 288, in <listcomp>\n    return [func(*args, **kwargs)\n            ^^^^^^^^^^^^^^^^^^^^^\n  File \"C:\\ProgramData\\anaconda3\\Lib\\site-packages\\sklearn\\utils\\parallel.py\", line 127, in __call__\n    return self.function(*args, **kwargs)\n           ^^^^^^^^^^^^^^^^^^^^^^^^^^^^^^\n  File \"C:\\ProgramData\\anaconda3\\Lib\\site-packages\\sklearn\\model_selection\\_validation.py\", line 725, in _fit_and_score\n    X_test, y_test = _safe_split(estimator, X, y, test, train)\n                     ^^^^^^^^^^^^^^^^^^^^^^^^^^^^^^^^^^^^^^^^^\n  File \"C:\\ProgramData\\anaconda3\\Lib\\site-packages\\sklearn\\utils\\metaestimators.py\", line 155, in _safe_split\n    X_subset = _safe_indexing(X, indices)\n               ^^^^^^^^^^^^^^^^^^^^^^^^^^\n  File \"C:\\ProgramData\\anaconda3\\Lib\\site-packages\\sklearn\\utils\\__init__.py\", line 355, in _safe_indexing\n    return _array_indexing(X, indices, indices_dtype, axis=axis)\n           ^^^^^^^^^^^^^^^^^^^^^^^^^^^^^^^^^^^^^^^^^^^^^^^^^^^^^\n  File \"C:\\ProgramData\\anaconda3\\Lib\\site-packages\\sklearn\\utils\\__init__.py\", line 184, in _array_indexing\n    return array[key] if axis == 0 else array[:, key]\n           ~~~~~^^^^^\n  File \"C:\\ProgramData\\anaconda3\\Lib\\site-packages\\numpy\\core\\memmap.py\", line 334, in __getitem__\n    res = super().__getitem__(index)\n          ^^^^^^^^^^^^^^^^^^^^^^^^^^\nnumpy.core._exceptions._ArrayMemoryError: Unable to allocate 159. MiB for an array with shape (799, 26048) and data type float64\n\"\"\"",
      "\nThe above exception was the direct cause of the following exception:\n",
      "\u001b[1;31mMemoryError\u001b[0m                               Traceback (most recent call last)",
      "File \u001b[1;32m<timed exec>:2\u001b[0m\n",
      "File \u001b[1;32mC:\\ProgramData\\anaconda3\\Lib\\site-packages\\sklearn\\base.py:1151\u001b[0m, in \u001b[0;36m_fit_context.<locals>.decorator.<locals>.wrapper\u001b[1;34m(estimator, *args, **kwargs)\u001b[0m\n\u001b[0;32m   1144\u001b[0m     estimator\u001b[38;5;241m.\u001b[39m_validate_params()\n\u001b[0;32m   1146\u001b[0m \u001b[38;5;28;01mwith\u001b[39;00m config_context(\n\u001b[0;32m   1147\u001b[0m     skip_parameter_validation\u001b[38;5;241m=\u001b[39m(\n\u001b[0;32m   1148\u001b[0m         prefer_skip_nested_validation \u001b[38;5;129;01mor\u001b[39;00m global_skip_validation\n\u001b[0;32m   1149\u001b[0m     )\n\u001b[0;32m   1150\u001b[0m ):\n\u001b[1;32m-> 1151\u001b[0m     \u001b[38;5;28;01mreturn\u001b[39;00m fit_method(estimator, \u001b[38;5;241m*\u001b[39margs, \u001b[38;5;241m*\u001b[39m\u001b[38;5;241m*\u001b[39mkwargs)\n",
      "File \u001b[1;32mC:\\ProgramData\\anaconda3\\Lib\\site-packages\\sklearn\\model_selection\\_search.py:898\u001b[0m, in \u001b[0;36mBaseSearchCV.fit\u001b[1;34m(self, X, y, groups, **fit_params)\u001b[0m\n\u001b[0;32m    892\u001b[0m     results \u001b[38;5;241m=\u001b[39m \u001b[38;5;28mself\u001b[39m\u001b[38;5;241m.\u001b[39m_format_results(\n\u001b[0;32m    893\u001b[0m         all_candidate_params, n_splits, all_out, all_more_results\n\u001b[0;32m    894\u001b[0m     )\n\u001b[0;32m    896\u001b[0m     \u001b[38;5;28;01mreturn\u001b[39;00m results\n\u001b[1;32m--> 898\u001b[0m \u001b[38;5;28mself\u001b[39m\u001b[38;5;241m.\u001b[39m_run_search(evaluate_candidates)\n\u001b[0;32m    900\u001b[0m \u001b[38;5;66;03m# multimetric is determined here because in the case of a callable\u001b[39;00m\n\u001b[0;32m    901\u001b[0m \u001b[38;5;66;03m# self.scoring the return type is only known after calling\u001b[39;00m\n\u001b[0;32m    902\u001b[0m first_test_score \u001b[38;5;241m=\u001b[39m all_out[\u001b[38;5;241m0\u001b[39m][\u001b[38;5;124m\"\u001b[39m\u001b[38;5;124mtest_scores\u001b[39m\u001b[38;5;124m\"\u001b[39m]\n",
      "File \u001b[1;32mC:\\ProgramData\\anaconda3\\Lib\\site-packages\\sklearn\\model_selection\\_search.py:1419\u001b[0m, in \u001b[0;36mGridSearchCV._run_search\u001b[1;34m(self, evaluate_candidates)\u001b[0m\n\u001b[0;32m   1417\u001b[0m \u001b[38;5;28;01mdef\u001b[39;00m \u001b[38;5;21m_run_search\u001b[39m(\u001b[38;5;28mself\u001b[39m, evaluate_candidates):\n\u001b[0;32m   1418\u001b[0m \u001b[38;5;250m    \u001b[39m\u001b[38;5;124;03m\"\"\"Search all candidates in param_grid\"\"\"\u001b[39;00m\n\u001b[1;32m-> 1419\u001b[0m     evaluate_candidates(ParameterGrid(\u001b[38;5;28mself\u001b[39m\u001b[38;5;241m.\u001b[39mparam_grid))\n",
      "File \u001b[1;32mC:\\ProgramData\\anaconda3\\Lib\\site-packages\\sklearn\\model_selection\\_search.py:845\u001b[0m, in \u001b[0;36mBaseSearchCV.fit.<locals>.evaluate_candidates\u001b[1;34m(candidate_params, cv, more_results)\u001b[0m\n\u001b[0;32m    837\u001b[0m \u001b[38;5;28;01mif\u001b[39;00m \u001b[38;5;28mself\u001b[39m\u001b[38;5;241m.\u001b[39mverbose \u001b[38;5;241m>\u001b[39m \u001b[38;5;241m0\u001b[39m:\n\u001b[0;32m    838\u001b[0m     \u001b[38;5;28mprint\u001b[39m(\n\u001b[0;32m    839\u001b[0m         \u001b[38;5;124m\"\u001b[39m\u001b[38;5;124mFitting \u001b[39m\u001b[38;5;132;01m{0}\u001b[39;00m\u001b[38;5;124m folds for each of \u001b[39m\u001b[38;5;132;01m{1}\u001b[39;00m\u001b[38;5;124m candidates,\u001b[39m\u001b[38;5;124m\"\u001b[39m\n\u001b[0;32m    840\u001b[0m         \u001b[38;5;124m\"\u001b[39m\u001b[38;5;124m totalling \u001b[39m\u001b[38;5;132;01m{2}\u001b[39;00m\u001b[38;5;124m fits\u001b[39m\u001b[38;5;124m\"\u001b[39m\u001b[38;5;241m.\u001b[39mformat(\n\u001b[0;32m    841\u001b[0m             n_splits, n_candidates, n_candidates \u001b[38;5;241m*\u001b[39m n_splits\n\u001b[0;32m    842\u001b[0m         )\n\u001b[0;32m    843\u001b[0m     )\n\u001b[1;32m--> 845\u001b[0m out \u001b[38;5;241m=\u001b[39m parallel(\n\u001b[0;32m    846\u001b[0m     delayed(_fit_and_score)(\n\u001b[0;32m    847\u001b[0m         clone(base_estimator),\n\u001b[0;32m    848\u001b[0m         X,\n\u001b[0;32m    849\u001b[0m         y,\n\u001b[0;32m    850\u001b[0m         train\u001b[38;5;241m=\u001b[39mtrain,\n\u001b[0;32m    851\u001b[0m         test\u001b[38;5;241m=\u001b[39mtest,\n\u001b[0;32m    852\u001b[0m         parameters\u001b[38;5;241m=\u001b[39mparameters,\n\u001b[0;32m    853\u001b[0m         split_progress\u001b[38;5;241m=\u001b[39m(split_idx, n_splits),\n\u001b[0;32m    854\u001b[0m         candidate_progress\u001b[38;5;241m=\u001b[39m(cand_idx, n_candidates),\n\u001b[0;32m    855\u001b[0m         \u001b[38;5;241m*\u001b[39m\u001b[38;5;241m*\u001b[39mfit_and_score_kwargs,\n\u001b[0;32m    856\u001b[0m     )\n\u001b[0;32m    857\u001b[0m     \u001b[38;5;28;01mfor\u001b[39;00m (cand_idx, parameters), (split_idx, (train, test)) \u001b[38;5;129;01min\u001b[39;00m product(\n\u001b[0;32m    858\u001b[0m         \u001b[38;5;28menumerate\u001b[39m(candidate_params), \u001b[38;5;28menumerate\u001b[39m(cv\u001b[38;5;241m.\u001b[39msplit(X, y, groups))\n\u001b[0;32m    859\u001b[0m     )\n\u001b[0;32m    860\u001b[0m )\n\u001b[0;32m    862\u001b[0m \u001b[38;5;28;01mif\u001b[39;00m \u001b[38;5;28mlen\u001b[39m(out) \u001b[38;5;241m<\u001b[39m \u001b[38;5;241m1\u001b[39m:\n\u001b[0;32m    863\u001b[0m     \u001b[38;5;28;01mraise\u001b[39;00m \u001b[38;5;167;01mValueError\u001b[39;00m(\n\u001b[0;32m    864\u001b[0m         \u001b[38;5;124m\"\u001b[39m\u001b[38;5;124mNo fits were performed. \u001b[39m\u001b[38;5;124m\"\u001b[39m\n\u001b[0;32m    865\u001b[0m         \u001b[38;5;124m\"\u001b[39m\u001b[38;5;124mWas the CV iterator empty? \u001b[39m\u001b[38;5;124m\"\u001b[39m\n\u001b[0;32m    866\u001b[0m         \u001b[38;5;124m\"\u001b[39m\u001b[38;5;124mWere there no candidates?\u001b[39m\u001b[38;5;124m\"\u001b[39m\n\u001b[0;32m    867\u001b[0m     )\n",
      "File \u001b[1;32mC:\\ProgramData\\anaconda3\\Lib\\site-packages\\sklearn\\utils\\parallel.py:65\u001b[0m, in \u001b[0;36mParallel.__call__\u001b[1;34m(self, iterable)\u001b[0m\n\u001b[0;32m     60\u001b[0m config \u001b[38;5;241m=\u001b[39m get_config()\n\u001b[0;32m     61\u001b[0m iterable_with_config \u001b[38;5;241m=\u001b[39m (\n\u001b[0;32m     62\u001b[0m     (_with_config(delayed_func, config), args, kwargs)\n\u001b[0;32m     63\u001b[0m     \u001b[38;5;28;01mfor\u001b[39;00m delayed_func, args, kwargs \u001b[38;5;129;01min\u001b[39;00m iterable\n\u001b[0;32m     64\u001b[0m )\n\u001b[1;32m---> 65\u001b[0m \u001b[38;5;28;01mreturn\u001b[39;00m \u001b[38;5;28msuper\u001b[39m()\u001b[38;5;241m.\u001b[39m\u001b[38;5;21m__call__\u001b[39m(iterable_with_config)\n",
      "File \u001b[1;32mC:\\ProgramData\\anaconda3\\Lib\\site-packages\\joblib\\parallel.py:1098\u001b[0m, in \u001b[0;36mParallel.__call__\u001b[1;34m(self, iterable)\u001b[0m\n\u001b[0;32m   1095\u001b[0m     \u001b[38;5;28mself\u001b[39m\u001b[38;5;241m.\u001b[39m_iterating \u001b[38;5;241m=\u001b[39m \u001b[38;5;28;01mFalse\u001b[39;00m\n\u001b[0;32m   1097\u001b[0m \u001b[38;5;28;01mwith\u001b[39;00m \u001b[38;5;28mself\u001b[39m\u001b[38;5;241m.\u001b[39m_backend\u001b[38;5;241m.\u001b[39mretrieval_context():\n\u001b[1;32m-> 1098\u001b[0m     \u001b[38;5;28mself\u001b[39m\u001b[38;5;241m.\u001b[39mretrieve()\n\u001b[0;32m   1099\u001b[0m \u001b[38;5;66;03m# Make sure that we get a last message telling us we are done\u001b[39;00m\n\u001b[0;32m   1100\u001b[0m elapsed_time \u001b[38;5;241m=\u001b[39m time\u001b[38;5;241m.\u001b[39mtime() \u001b[38;5;241m-\u001b[39m \u001b[38;5;28mself\u001b[39m\u001b[38;5;241m.\u001b[39m_start_time\n",
      "File \u001b[1;32mC:\\ProgramData\\anaconda3\\Lib\\site-packages\\joblib\\parallel.py:975\u001b[0m, in \u001b[0;36mParallel.retrieve\u001b[1;34m(self)\u001b[0m\n\u001b[0;32m    973\u001b[0m \u001b[38;5;28;01mtry\u001b[39;00m:\n\u001b[0;32m    974\u001b[0m     \u001b[38;5;28;01mif\u001b[39;00m \u001b[38;5;28mgetattr\u001b[39m(\u001b[38;5;28mself\u001b[39m\u001b[38;5;241m.\u001b[39m_backend, \u001b[38;5;124m'\u001b[39m\u001b[38;5;124msupports_timeout\u001b[39m\u001b[38;5;124m'\u001b[39m, \u001b[38;5;28;01mFalse\u001b[39;00m):\n\u001b[1;32m--> 975\u001b[0m         \u001b[38;5;28mself\u001b[39m\u001b[38;5;241m.\u001b[39m_output\u001b[38;5;241m.\u001b[39mextend(job\u001b[38;5;241m.\u001b[39mget(timeout\u001b[38;5;241m=\u001b[39m\u001b[38;5;28mself\u001b[39m\u001b[38;5;241m.\u001b[39mtimeout))\n\u001b[0;32m    976\u001b[0m     \u001b[38;5;28;01melse\u001b[39;00m:\n\u001b[0;32m    977\u001b[0m         \u001b[38;5;28mself\u001b[39m\u001b[38;5;241m.\u001b[39m_output\u001b[38;5;241m.\u001b[39mextend(job\u001b[38;5;241m.\u001b[39mget())\n",
      "File \u001b[1;32mC:\\ProgramData\\anaconda3\\Lib\\site-packages\\joblib\\_parallel_backends.py:567\u001b[0m, in \u001b[0;36mLokyBackend.wrap_future_result\u001b[1;34m(future, timeout)\u001b[0m\n\u001b[0;32m    564\u001b[0m \u001b[38;5;250m\u001b[39m\u001b[38;5;124;03m\"\"\"Wrapper for Future.result to implement the same behaviour as\u001b[39;00m\n\u001b[0;32m    565\u001b[0m \u001b[38;5;124;03mAsyncResults.get from multiprocessing.\"\"\"\u001b[39;00m\n\u001b[0;32m    566\u001b[0m \u001b[38;5;28;01mtry\u001b[39;00m:\n\u001b[1;32m--> 567\u001b[0m     \u001b[38;5;28;01mreturn\u001b[39;00m future\u001b[38;5;241m.\u001b[39mresult(timeout\u001b[38;5;241m=\u001b[39mtimeout)\n\u001b[0;32m    568\u001b[0m \u001b[38;5;28;01mexcept\u001b[39;00m CfTimeoutError \u001b[38;5;28;01mas\u001b[39;00m e:\n\u001b[0;32m    569\u001b[0m     \u001b[38;5;28;01mraise\u001b[39;00m \u001b[38;5;167;01mTimeoutError\u001b[39;00m \u001b[38;5;28;01mfrom\u001b[39;00m \u001b[38;5;21;01me\u001b[39;00m\n",
      "File \u001b[1;32mC:\\ProgramData\\anaconda3\\Lib\\concurrent\\futures\\_base.py:456\u001b[0m, in \u001b[0;36mFuture.result\u001b[1;34m(self, timeout)\u001b[0m\n\u001b[0;32m    454\u001b[0m     \u001b[38;5;28;01mraise\u001b[39;00m CancelledError()\n\u001b[0;32m    455\u001b[0m \u001b[38;5;28;01melif\u001b[39;00m \u001b[38;5;28mself\u001b[39m\u001b[38;5;241m.\u001b[39m_state \u001b[38;5;241m==\u001b[39m FINISHED:\n\u001b[1;32m--> 456\u001b[0m     \u001b[38;5;28;01mreturn\u001b[39;00m \u001b[38;5;28mself\u001b[39m\u001b[38;5;241m.\u001b[39m__get_result()\n\u001b[0;32m    457\u001b[0m \u001b[38;5;28;01melse\u001b[39;00m:\n\u001b[0;32m    458\u001b[0m     \u001b[38;5;28;01mraise\u001b[39;00m \u001b[38;5;167;01mTimeoutError\u001b[39;00m()\n",
      "File \u001b[1;32mC:\\ProgramData\\anaconda3\\Lib\\concurrent\\futures\\_base.py:401\u001b[0m, in \u001b[0;36mFuture.__get_result\u001b[1;34m(self)\u001b[0m\n\u001b[0;32m    399\u001b[0m \u001b[38;5;28;01mif\u001b[39;00m \u001b[38;5;28mself\u001b[39m\u001b[38;5;241m.\u001b[39m_exception:\n\u001b[0;32m    400\u001b[0m     \u001b[38;5;28;01mtry\u001b[39;00m:\n\u001b[1;32m--> 401\u001b[0m         \u001b[38;5;28;01mraise\u001b[39;00m \u001b[38;5;28mself\u001b[39m\u001b[38;5;241m.\u001b[39m_exception\n\u001b[0;32m    402\u001b[0m     \u001b[38;5;28;01mfinally\u001b[39;00m:\n\u001b[0;32m    403\u001b[0m         \u001b[38;5;66;03m# Break a reference cycle with the exception in self._exception\u001b[39;00m\n\u001b[0;32m    404\u001b[0m         \u001b[38;5;28mself\u001b[39m \u001b[38;5;241m=\u001b[39m \u001b[38;5;28;01mNone\u001b[39;00m\n",
      "\u001b[1;31mMemoryError\u001b[0m: Unable to allocate 159. MiB for an array with shape (799, 26048) and data type float64"
     ]
    }
   ],
   "source": [
    "%%time\n",
    "grid_cat = GridSearchCV(model_cat, params, cv=2, n_jobs=-1)\n",
    "grid_cat.fit(features_train, target_train);"
   ]
  },
  {
   "cell_type": "code",
   "execution_count": 230,
   "id": "c18ea828",
   "metadata": {},
   "outputs": [
    {
     "ename": "TypeError",
     "evalue": "Singleton array array(<catboost.core.Pool object at 0x00000221383DB3B0>, dtype=object) cannot be considered a valid collection.",
     "output_type": "error",
     "traceback": [
      "\u001b[1;31m---------------------------------------------------------------------------\u001b[0m",
      "\u001b[1;31mTypeError\u001b[0m                                 Traceback (most recent call last)",
      "File \u001b[1;32m<timed exec>:2\u001b[0m\n",
      "File \u001b[1;32mC:\\ProgramData\\anaconda3\\Lib\\site-packages\\sklearn\\base.py:1151\u001b[0m, in \u001b[0;36m_fit_context.<locals>.decorator.<locals>.wrapper\u001b[1;34m(estimator, *args, **kwargs)\u001b[0m\n\u001b[0;32m   1144\u001b[0m     estimator\u001b[38;5;241m.\u001b[39m_validate_params()\n\u001b[0;32m   1146\u001b[0m \u001b[38;5;28;01mwith\u001b[39;00m config_context(\n\u001b[0;32m   1147\u001b[0m     skip_parameter_validation\u001b[38;5;241m=\u001b[39m(\n\u001b[0;32m   1148\u001b[0m         prefer_skip_nested_validation \u001b[38;5;129;01mor\u001b[39;00m global_skip_validation\n\u001b[0;32m   1149\u001b[0m     )\n\u001b[0;32m   1150\u001b[0m ):\n\u001b[1;32m-> 1151\u001b[0m     \u001b[38;5;28;01mreturn\u001b[39;00m fit_method(estimator, \u001b[38;5;241m*\u001b[39margs, \u001b[38;5;241m*\u001b[39m\u001b[38;5;241m*\u001b[39mkwargs)\n",
      "File \u001b[1;32mC:\\ProgramData\\anaconda3\\Lib\\site-packages\\sklearn\\model_selection\\_search.py:806\u001b[0m, in \u001b[0;36mBaseSearchCV.fit\u001b[1;34m(self, X, y, groups, **fit_params)\u001b[0m\n\u001b[0;32m    803\u001b[0m     \u001b[38;5;28mself\u001b[39m\u001b[38;5;241m.\u001b[39m_check_refit_for_multimetric(scorers)\n\u001b[0;32m    804\u001b[0m     refit_metric \u001b[38;5;241m=\u001b[39m \u001b[38;5;28mself\u001b[39m\u001b[38;5;241m.\u001b[39mrefit\n\u001b[1;32m--> 806\u001b[0m X, y, groups \u001b[38;5;241m=\u001b[39m indexable(X, y, groups)\n\u001b[0;32m    807\u001b[0m fit_params \u001b[38;5;241m=\u001b[39m _check_fit_params(X, fit_params)\n\u001b[0;32m    809\u001b[0m cv_orig \u001b[38;5;241m=\u001b[39m check_cv(\u001b[38;5;28mself\u001b[39m\u001b[38;5;241m.\u001b[39mcv, y, classifier\u001b[38;5;241m=\u001b[39mis_classifier(estimator))\n",
      "File \u001b[1;32mC:\\ProgramData\\anaconda3\\Lib\\site-packages\\sklearn\\utils\\validation.py:455\u001b[0m, in \u001b[0;36mindexable\u001b[1;34m(*iterables)\u001b[0m\n\u001b[0;32m    436\u001b[0m \u001b[38;5;250m\u001b[39m\u001b[38;5;124;03m\"\"\"Make arrays indexable for cross-validation.\u001b[39;00m\n\u001b[0;32m    437\u001b[0m \n\u001b[0;32m    438\u001b[0m \u001b[38;5;124;03mChecks consistent length, passes through None, and ensures that everything\u001b[39;00m\n\u001b[1;32m   (...)\u001b[0m\n\u001b[0;32m    451\u001b[0m \u001b[38;5;124;03m    sparse matrix, or dataframe) or `None`.\u001b[39;00m\n\u001b[0;32m    452\u001b[0m \u001b[38;5;124;03m\"\"\"\u001b[39;00m\n\u001b[0;32m    454\u001b[0m result \u001b[38;5;241m=\u001b[39m [_make_indexable(X) \u001b[38;5;28;01mfor\u001b[39;00m X \u001b[38;5;129;01min\u001b[39;00m iterables]\n\u001b[1;32m--> 455\u001b[0m check_consistent_length(\u001b[38;5;241m*\u001b[39mresult)\n\u001b[0;32m    456\u001b[0m \u001b[38;5;28;01mreturn\u001b[39;00m result\n",
      "File \u001b[1;32mC:\\ProgramData\\anaconda3\\Lib\\site-packages\\sklearn\\utils\\validation.py:406\u001b[0m, in \u001b[0;36mcheck_consistent_length\u001b[1;34m(*arrays)\u001b[0m\n\u001b[0;32m    395\u001b[0m \u001b[38;5;28;01mdef\u001b[39;00m \u001b[38;5;21mcheck_consistent_length\u001b[39m(\u001b[38;5;241m*\u001b[39marrays):\n\u001b[0;32m    396\u001b[0m \u001b[38;5;250m    \u001b[39m\u001b[38;5;124;03m\"\"\"Check that all arrays have consistent first dimensions.\u001b[39;00m\n\u001b[0;32m    397\u001b[0m \n\u001b[0;32m    398\u001b[0m \u001b[38;5;124;03m    Checks whether all objects in arrays have the same shape or length.\u001b[39;00m\n\u001b[1;32m   (...)\u001b[0m\n\u001b[0;32m    403\u001b[0m \u001b[38;5;124;03m        Objects that will be checked for consistent length.\u001b[39;00m\n\u001b[0;32m    404\u001b[0m \u001b[38;5;124;03m    \"\"\"\u001b[39;00m\n\u001b[1;32m--> 406\u001b[0m     lengths \u001b[38;5;241m=\u001b[39m [_num_samples(X) \u001b[38;5;28;01mfor\u001b[39;00m X \u001b[38;5;129;01min\u001b[39;00m arrays \u001b[38;5;28;01mif\u001b[39;00m X \u001b[38;5;129;01mis\u001b[39;00m \u001b[38;5;129;01mnot\u001b[39;00m \u001b[38;5;28;01mNone\u001b[39;00m]\n\u001b[0;32m    407\u001b[0m     uniques \u001b[38;5;241m=\u001b[39m np\u001b[38;5;241m.\u001b[39munique(lengths)\n\u001b[0;32m    408\u001b[0m     \u001b[38;5;28;01mif\u001b[39;00m \u001b[38;5;28mlen\u001b[39m(uniques) \u001b[38;5;241m>\u001b[39m \u001b[38;5;241m1\u001b[39m:\n",
      "File \u001b[1;32mC:\\ProgramData\\anaconda3\\Lib\\site-packages\\sklearn\\utils\\validation.py:406\u001b[0m, in \u001b[0;36m<listcomp>\u001b[1;34m(.0)\u001b[0m\n\u001b[0;32m    395\u001b[0m \u001b[38;5;28;01mdef\u001b[39;00m \u001b[38;5;21mcheck_consistent_length\u001b[39m(\u001b[38;5;241m*\u001b[39marrays):\n\u001b[0;32m    396\u001b[0m \u001b[38;5;250m    \u001b[39m\u001b[38;5;124;03m\"\"\"Check that all arrays have consistent first dimensions.\u001b[39;00m\n\u001b[0;32m    397\u001b[0m \n\u001b[0;32m    398\u001b[0m \u001b[38;5;124;03m    Checks whether all objects in arrays have the same shape or length.\u001b[39;00m\n\u001b[1;32m   (...)\u001b[0m\n\u001b[0;32m    403\u001b[0m \u001b[38;5;124;03m        Objects that will be checked for consistent length.\u001b[39;00m\n\u001b[0;32m    404\u001b[0m \u001b[38;5;124;03m    \"\"\"\u001b[39;00m\n\u001b[1;32m--> 406\u001b[0m     lengths \u001b[38;5;241m=\u001b[39m [_num_samples(X) \u001b[38;5;28;01mfor\u001b[39;00m X \u001b[38;5;129;01min\u001b[39;00m arrays \u001b[38;5;28;01mif\u001b[39;00m X \u001b[38;5;129;01mis\u001b[39;00m \u001b[38;5;129;01mnot\u001b[39;00m \u001b[38;5;28;01mNone\u001b[39;00m]\n\u001b[0;32m    407\u001b[0m     uniques \u001b[38;5;241m=\u001b[39m np\u001b[38;5;241m.\u001b[39munique(lengths)\n\u001b[0;32m    408\u001b[0m     \u001b[38;5;28;01mif\u001b[39;00m \u001b[38;5;28mlen\u001b[39m(uniques) \u001b[38;5;241m>\u001b[39m \u001b[38;5;241m1\u001b[39m:\n",
      "File \u001b[1;32mC:\\ProgramData\\anaconda3\\Lib\\site-packages\\sklearn\\utils\\validation.py:347\u001b[0m, in \u001b[0;36m_num_samples\u001b[1;34m(x)\u001b[0m\n\u001b[0;32m    345\u001b[0m \u001b[38;5;28;01mif\u001b[39;00m \u001b[38;5;28mhasattr\u001b[39m(x, \u001b[38;5;124m\"\u001b[39m\u001b[38;5;124mshape\u001b[39m\u001b[38;5;124m\"\u001b[39m) \u001b[38;5;129;01mand\u001b[39;00m x\u001b[38;5;241m.\u001b[39mshape \u001b[38;5;129;01mis\u001b[39;00m \u001b[38;5;129;01mnot\u001b[39;00m \u001b[38;5;28;01mNone\u001b[39;00m:\n\u001b[0;32m    346\u001b[0m     \u001b[38;5;28;01mif\u001b[39;00m \u001b[38;5;28mlen\u001b[39m(x\u001b[38;5;241m.\u001b[39mshape) \u001b[38;5;241m==\u001b[39m \u001b[38;5;241m0\u001b[39m:\n\u001b[1;32m--> 347\u001b[0m         \u001b[38;5;28;01mraise\u001b[39;00m \u001b[38;5;167;01mTypeError\u001b[39;00m(\n\u001b[0;32m    348\u001b[0m             \u001b[38;5;124m\"\u001b[39m\u001b[38;5;124mSingleton array \u001b[39m\u001b[38;5;132;01m%r\u001b[39;00m\u001b[38;5;124m cannot be considered a valid collection.\u001b[39m\u001b[38;5;124m\"\u001b[39m \u001b[38;5;241m%\u001b[39m x\n\u001b[0;32m    349\u001b[0m         )\n\u001b[0;32m    350\u001b[0m     \u001b[38;5;66;03m# Check that shape is returning an integer or default to len\u001b[39;00m\n\u001b[0;32m    351\u001b[0m     \u001b[38;5;66;03m# Dask dataframes may not return numeric shape[0] value\u001b[39;00m\n\u001b[0;32m    352\u001b[0m     \u001b[38;5;28;01mif\u001b[39;00m \u001b[38;5;28misinstance\u001b[39m(x\u001b[38;5;241m.\u001b[39mshape[\u001b[38;5;241m0\u001b[39m], numbers\u001b[38;5;241m.\u001b[39mIntegral):\n",
      "\u001b[1;31mTypeError\u001b[0m: Singleton array array(<catboost.core.Pool object at 0x00000221383DB3B0>, dtype=object) cannot be considered a valid collection."
     ]
    }
   ],
   "source": [
    "%%time\n",
    "grid_cat = GridSearchCV(model_cat, params, cv=2, n_jobs=-1)\n",
    "grid_cat.fit(train_pool)"
   ]
  },
  {
   "cell_type": "code",
   "execution_count": null,
   "id": "84d87788",
   "metadata": {},
   "outputs": [],
   "source": []
  },
  {
   "cell_type": "code",
   "execution_count": null,
   "id": "f9ccb4d1",
   "metadata": {},
   "outputs": [],
   "source": []
  },
  {
   "cell_type": "code",
   "execution_count": null,
   "id": "b149538c",
   "metadata": {},
   "outputs": [],
   "source": []
  },
  {
   "cell_type": "code",
   "execution_count": null,
   "id": "f54922c4",
   "metadata": {},
   "outputs": [],
   "source": []
  },
  {
   "cell_type": "markdown",
   "id": "b52765e5",
   "metadata": {},
   "source": [
    "### Net"
   ]
  },
  {
   "cell_type": "code",
   "execution_count": 127,
   "id": "0d819b45",
   "metadata": {},
   "outputs": [],
   "source": [
    "# X_train = torch.FloatTensor(np.array(X_train))\n",
    "# X_test = torch.FloatTensor(np.array(X_test))\n",
    "# y_train = torch.FloatTensor(np.array(y_train))\n",
    "# y_test = torch.FloatTensor(np.array(y_test))\n",
    "\n",
    "X_train = torch.FloatTensor(np.array(features_train))\n",
    "X_test = torch.FloatTensor(np.array(features_valid))\n",
    "y_train = torch.FloatTensor(np.array(target_train))\n",
    "y_test = torch.FloatTensor(np.array(target_valid))"
   ]
  },
  {
   "cell_type": "code",
   "execution_count": 161,
   "id": "404f158e",
   "metadata": {},
   "outputs": [],
   "source": [
    "#Batch Normalization\n",
    "class Net(nn.Module):\n",
    "    def __init__(self, n_in_neurons, n_hidden_neurons_1, n_hidden_neurons_2, n_out_neurons):\n",
    "        super(Net, self).__init__()\n",
    "        self.fc1 = nn.Linear(n_in_neurons, n_hidden_neurons_1)\n",
    "        self.bn1 = nn.BatchNorm1d(n_hidden_neurons_1)\n",
    "        self.act1 = nn.ReLU()\n",
    "        \n",
    "        \n",
    "        \n",
    "        self.fc2 = nn.Linear(n_hidden_neurons_1, n_hidden_neurons_2)\n",
    "        self.bn2 = nn.BatchNorm1d(n_hidden_neurons_2)\n",
    "        self.act2 = nn.ReLU()\n",
    "        \n",
    "        \n",
    "\n",
    "        self.fc3 = nn.Linear(n_hidden_neurons_2, n_out_neurons)\n",
    "        self.act3 = nn.ReLU()\n",
    "        \n",
    "        self.flatten = nn.Flatten(start_dim=0)\n",
    "\n",
    "    def forward(self, x):\n",
    "        x = self.fc1(x)\n",
    "        x = self.bn1(x)\n",
    "        x = self.act1(x)\n",
    "        \n",
    "        x = self.fc2(x)\n",
    "        x = self.bn2(x)\n",
    "        x = self.act2(x)\n",
    "\n",
    "        x = self.fc3(x)\n",
    "        x = self.act3(x)\n",
    "        \n",
    "        return self.flatten(x)"
   ]
  },
  {
   "cell_type": "code",
   "execution_count": null,
   "id": "cc988983",
   "metadata": {},
   "outputs": [],
   "source": [
    "#Dropout\n",
    "class Net(nn.Module):\n",
    "    def __init__(self, n_in_neurons, n_hidden_neurons_1, n_hidden_neurons_2, n_out_neurons):\n",
    "        super(Net, self).__init__()\n",
    "        self.fc1 = nn.Linear(n_in_neurons, n_hidden_neurons_1)\n",
    "        self.act1 = nn.ReLU()\n",
    "        \n",
    "        self.dp1 = nn.Dropout(p=0.4)\n",
    "        \n",
    "        self.fc2 = nn.Linear(n_hidden_neurons_1, n_hidden_neurons_2)\n",
    "        self.act2 = nn.ReLU()\n",
    "        \n",
    "        self.dp2 = nn.Dropout(p=0.4)\n",
    "\n",
    "        self.fc3 = nn.Linear(n_hidden_neurons_2, n_out_neurons)\n",
    "        self.act3 = nn.ReLU()\n",
    "        \n",
    "        self.flatten = nn.Flatten(start_dim=0)\n",
    "\n",
    "    def forward(self, x):\n",
    "        x = self.fc1(x)\n",
    "        x = self.act1(x)\n",
    "        x = self.dp1(x)\n",
    "    \n",
    "        x = self.fc2(x)\n",
    "        x = self.act2(x)\n",
    "        x = self.dp2(x)\n",
    "\n",
    "        x = self.fc3(x)\n",
    "        x = self.act3(x)\n",
    "        \n",
    "        return self.flatten(x)"
   ]
  },
  {
   "cell_type": "code",
   "execution_count": 130,
   "id": "d8393ce8",
   "metadata": {},
   "outputs": [
    {
     "data": {
      "text/plain": [
       "torch.Size([1597, 26048])"
      ]
     },
     "execution_count": 130,
     "metadata": {},
     "output_type": "execute_result"
    }
   ],
   "source": [
    "X_train.shape"
   ]
  },
  {
   "cell_type": "code",
   "execution_count": 145,
   "id": "580c2271",
   "metadata": {},
   "outputs": [],
   "source": [
    "import random\n"
   ]
  },
  {
   "cell_type": "code",
   "execution_count": 136,
   "id": "e34a3228",
   "metadata": {},
   "outputs": [],
   "source": [
    "def set_random_seed(seed):\n",
    "    torch.backends.cudnn.deterministic = True\n",
    "    torch.manual_seed(seed)\n",
    "    torch.cuda.manual_seed(seed)\n",
    "    np.random.seed(seed)\n",
    "    random.seed(seed)  "
   ]
  },
  {
   "cell_type": "code",
   "execution_count": 137,
   "id": "7e735473",
   "metadata": {},
   "outputs": [],
   "source": [
    "class Net(nn.Module):\n",
    "    def __init__(self, n_in_neurons, n_hidden_neurons_1, n_hidden_neurons_2, n_out_neurons):\n",
    "        super(Net, self).__init__()\n",
    "        self.fc1 = nn.Linear(n_in_neurons, n_hidden_neurons_1)\n",
    "        self.act1 = nn.ReLU()\n",
    "        \n",
    "        self.fc2 = nn.Linear(n_hidden_neurons_1, n_hidden_neurons_2)\n",
    "        self.act2 = nn.ReLU()\n",
    "\n",
    "        self.fc3 = nn.Linear(n_hidden_neurons_2, n_out_neurons)\n",
    "        self.act3 = nn.ReLU()\n",
    "        \n",
    "        self.flatten = nn.Flatten(start_dim=0)\n",
    "\n",
    "    def forward(self, x):\n",
    "        x = self.fc1(x)\n",
    "        x = self.act1(x)\n",
    "    \n",
    "        x = self.fc2(x)\n",
    "        x = self.act2(x)\n",
    "\n",
    "        x = self.fc3(x)\n",
    "        x = self.act3(x)\n",
    "        \n",
    "        return self.flatten(x)"
   ]
  },
  {
   "cell_type": "code",
   "execution_count": 138,
   "id": "ec10814c",
   "metadata": {},
   "outputs": [],
   "source": [
    "# Функция обучения модели\n",
    "def net_training(X_train, y_train):\n",
    "    net.train()\n",
    "# Обнуляем накопленный градиент\n",
    "    optimizer.zero_grad()\n",
    "# Получаем предсказания с текущими весами, прогнав признаки через сеть    \n",
    "    preds = net.forward(X_train).flatten()\n",
    "# Получаем значение функции потерь для предсказаний и истинных значений            \n",
    "    loss_value = loss(preds, y_train)\n",
    "# Вычисляем градиенты функции потерь\n",
    "    loss_value.backward()\n",
    "# Сделать шаг оптимизации            \n",
    "    optimizer.step()"
   ]
  },
  {
   "cell_type": "code",
   "execution_count": 139,
   "id": "8119d9bb",
   "metadata": {},
   "outputs": [],
   "source": [
    "# Функция тестирования модели\n",
    "def net_testing(epoch):\n",
    "    net.eval()\n",
    "    test_preds = net.forward(X_test).flatten()\n",
    "    rmse_test = torch.sqrt(pow((y_test - test_preds), 2).sum() / y_test.size()[0])\n",
    "    print(f'Эпоха {epoch}, RMSE на тестовых данных', rmse_test)\n",
    "    return test_preds, rmse_test"
   ]
  },
  {
   "cell_type": "code",
   "execution_count": 140,
   "id": "bce4c5c8",
   "metadata": {},
   "outputs": [],
   "source": [
    "def init_weights(layer):\n",
    "    if type(layer) == nn.Linear: # Проверка, что слой – полносвязный\n",
    "#         nn.init.xavier_uniform_(layer.weight)\n",
    "#         nn.init.normal_(layer.weight, mean=0.5, std=1)\n",
    "#         nn.init.normal_(layer.bias, mean=0.5, std=1)\n",
    "        nn.init.kaiming_normal_(layer.weight, mode='fan_in', nonlinearity='relu')\n",
    "        nn.init.zeros_(layer.bias)\n",
    "#         nn.init.xavier_uniform_(layer.weight)\n",
    "#         nn.init.zeros_(layer.bias)\n",
    "def init_weights(layer):\n",
    "    if isinstance(layer, nn.Linear):\n",
    "        nn.init.kaiming_uniform_(layer.weight, nonlinearity='relu')\n",
    "        nn.init.zeros_(layer.bias)"
   ]
  },
  {
   "cell_type": "code",
   "execution_count": 141,
   "id": "668e4e1a",
   "metadata": {},
   "outputs": [],
   "source": [
    "# Функция для построения графика \"Факт-прогноз\"\n",
    "\n",
    "def show_preds(preds):\n",
    "    preds = pd.DataFrame(test_preds.detach().numpy(), index=features_test.index.to_list())\n",
    "    data_final = data.join(preds, how='right').rename(columns = {0:'preds'})\n",
    "    data_final = data_final.sort_index(ascending=True)\n",
    "    \n",
    "    #fig, axs = plt.subplots(2, figsize=(20, 15))\n",
    "    fig, ax = plt.subplots(figsize=(20, 5))\n",
    "    \n",
    "    sns.barplot(data_final.index.to_list(), data_final['preds'], label = 'Прогноз', data = data_final,\n",
    "            ax=ax, color = 'r')\n",
    "    sns.barplot(data_final.index.to_list(),  data_final['Temperature_K'],\n",
    "            label = 'Факт', data = data_final,  ax=ax, color = 'b', alpha=0.5)\n",
    "    \n",
    "#     axs[1].bar(range(start, end), data_final['preds'], label='Прогноз',\n",
    "#             color='cyan', edgecolor='grey')\n",
    "#     axs[1].bar(range(start, end), data_final['Temperature_K'], label='Факт',\n",
    "#             color='orange', edgecolor='grey', width=0.5)\n",
    "\n",
    "    plt.title(\"Факт-прогноз\", fontsize=20)\n",
    "    plt.xlabel(\"Номер звезды в талице данных\", fontsize=16)\n",
    "    plt.ylabel(\"Температура звезды\", fontsize=16)\n",
    "    plt.xticks(rotation=90)\n",
    "    ax.legend(ncol = 2, loc = 'upper left')\n",
    "    plt.show()"
   ]
  },
  {
   "cell_type": "code",
   "execution_count": 152,
   "id": "a6c0fd76",
   "metadata": {},
   "outputs": [
    {
     "data": {
      "text/plain": [
       "26048"
      ]
     },
     "execution_count": 152,
     "metadata": {},
     "output_type": "execute_result"
    }
   ],
   "source": [
    "X_train.size()[1]"
   ]
  },
  {
   "cell_type": "code",
   "execution_count": 162,
   "id": "5354edae",
   "metadata": {},
   "outputs": [
    {
     "name": "stdout",
     "output_type": "stream",
     "text": [
      "Эпоха 0, RMSE на тестовых данных tensor(4.4541, grad_fn=<SqrtBackward0>)\n",
      "Эпоха 100, RMSE на тестовых данных tensor(0.4950, grad_fn=<SqrtBackward0>)\n",
      "Эпоха 200, RMSE на тестовых данных tensor(0.4974, grad_fn=<SqrtBackward0>)\n",
      "Эпоха 300, RMSE на тестовых данных tensor(0.5026, grad_fn=<SqrtBackward0>)\n",
      "Эпоха 400, RMSE на тестовых данных tensor(0.5130, grad_fn=<SqrtBackward0>)\n",
      "Эпоха 500, RMSE на тестовых данных tensor(0.5299, grad_fn=<SqrtBackward0>)\n",
      "Эпоха 600, RMSE на тестовых данных tensor(0.5636, grad_fn=<SqrtBackward0>)\n",
      "CPU times: total: 2h 4min 2s\n",
      "Wall time: 15min 38s\n"
     ]
    }
   ],
   "source": [
    "%%time\n",
    "\n",
    "n_in_neurons = X_train.size()[1]\n",
    "n_hidden_neurons_1 = 1200\n",
    "n_hidden_neurons_2 = 120\n",
    "n_out_neurons = 1\n",
    "\n",
    "n_in_neurons = X_train.size()[1]\n",
    "n_hidden_neurons_1 = 240\n",
    "n_hidden_neurons_2 = 100\n",
    "n_out_neurons = 1\n",
    "\n",
    "# n_in_neurons = X_train.shape[1]\n",
    "# n_hidden_neurons_1 = 1200\n",
    "# n_hidden_neurons_2 = 600\n",
    "# n_hidden_neurons_3 = 200\n",
    "# n_hidden_neurons_4 = 10\n",
    "# n_out_neurons = 1\n",
    "\n",
    "\n",
    "set_random_seed(42)\n",
    "\n",
    "net = Net(n_in_neurons, n_hidden_neurons_1, n_hidden_neurons_2, n_out_neurons)\n",
    "# net = Net(n_in_neurons, n_hidden_neurons_1, n_hidden_neurons_2, n_hidden_neurons_3, n_hidden_neurons_4, n_out_neurons)\n",
    "\n",
    "\n",
    "net.apply(init_weights)\n",
    "\n",
    "optimizer = torch.optim.Adam(net.parameters(), lr=1e-3)\n",
    "\n",
    "loss = nn.MSELoss()\n",
    "\n",
    "# определим количество эпох обучения\n",
    "num_epochs = 601\n",
    "\n",
    "\n",
    "for epoch in range(num_epochs):\n",
    "    net_training(X_train, y_train)\n",
    "    \n",
    "# для каждой n-ой эпохи считаем RMSE для тестовой выборки  \n",
    "    if epoch % 100 == 0:\n",
    "        test_preds, rmse_test = net_testing(epoch)  "
   ]
  },
  {
   "cell_type": "code",
   "execution_count": null,
   "id": "82d8a867",
   "metadata": {},
   "outputs": [],
   "source": []
  },
  {
   "cell_type": "code",
   "execution_count": null,
   "id": "d2ddc3a2",
   "metadata": {},
   "outputs": [],
   "source": []
  },
  {
   "cell_type": "code",
   "execution_count": 161,
   "id": "cf460212",
   "metadata": {},
   "outputs": [],
   "source": [
    "class Net(nn.Module):\n",
    "    def __init__(self, n_in_neurons, n_hidden_neurons_1, n_hidden_neurons_2, n_out_neurons):\n",
    "        super(Net, self).__init__()\n",
    "        self.fc1 = nn.Linear(n_in_neurons, n_hidden_neurons_1)\n",
    "        self.bn1 = nn.BatchNorm1d(n_hidden_neurons_1)\n",
    "        self.act1 = nn.ReLU()\n",
    "        \n",
    "        \n",
    "        \n",
    "        self.fc2 = nn.Linear(n_hidden_neurons_1, n_hidden_neurons_2)\n",
    "        self.bn2 = nn.BatchNorm1d(n_hidden_neurons_2)\n",
    "        self.act2 = nn.ReLU()\n",
    "        \n",
    "        \n",
    "\n",
    "        self.fc3 = nn.Linear(n_hidden_neurons_2, n_out_neurons)\n",
    "        self.act3 = nn.ReLU()\n",
    "        \n",
    "        self.flatten = nn.Flatten(start_dim=0)\n",
    "\n",
    "    def forward(self, x):\n",
    "        x = self.fc1(x)\n",
    "        x = self.bn1(x)\n",
    "        x = self.act1(x)\n",
    "        \n",
    "        x = self.fc2(x)\n",
    "        x = self.bn2(x)\n",
    "        x = self.act2(x)\n",
    "\n",
    "        x = self.fc3(x)\n",
    "        x = self.act3(x)\n",
    "        \n",
    "        return self.flatten(x)"
   ]
  },
  {
   "cell_type": "code",
   "execution_count": null,
   "id": "5122ce1a",
   "metadata": {},
   "outputs": [],
   "source": [
    "class Net(nn.Module):\n",
    "    def __init__(self, n_in_neurons, n_hidden_neurons_1, n_hidden_neurons_2, n_out_neurons):\n",
    "        super(Net, self).__init__()\n",
    "        self.fc1 = nn.Linear(n_in_neurons, n_hidden_neurons_1)\n",
    "        self.act1 = nn.ReLU()\n",
    "        \n",
    "        self.fc2 = nn.Linear(n_hidden_neurons_1, n_hidden_neurons_2)\n",
    "        self.act2 = nn.ReLU()\n",
    "\n",
    "        self.fc3 = nn.Linear(n_hidden_neurons_2, n_out_neurons)\n",
    "        self.act3 = nn.ReLU()\n",
    "        \n",
    "        self.flatten = nn.Flatten(start_dim=0)\n",
    "\n",
    "    def forward(self, x):\n",
    "        x = self.fc1(x)\n",
    "        x = self.act1(x)\n",
    "    \n",
    "        x = self.fc2(x)\n",
    "        x = self.act2(x)\n",
    "\n",
    "        x = self.fc3(x)\n",
    "        x = self.act3(x)\n",
    "        \n",
    "        return self.flatten(x)"
   ]
  },
  {
   "cell_type": "code",
   "execution_count": 156,
   "id": "3bf0e71e",
   "metadata": {},
   "outputs": [],
   "source": [
    "class Net(nn.Module):\n",
    "    def __init__(self, n_in_neurons, n_hidden_neurons_1, n_hidden_neurons_2, n_hidden_neurons_3, n_hidden_neurons_4, n_out_neurons):\n",
    "            super(Net, self).__init__()\n",
    "            \n",
    "            self.fc1 = nn.Linear(n_in_neurons, n_hidden_neurons_1)\n",
    "            self.act1 = nn.ReLU()\n",
    "            #self.do1 = nn.Dropout(p=0.7)\n",
    "            self.fc2 = nn.Linear(n_hidden_neurons_1, n_hidden_neurons_2)\n",
    "            self.act2 = nn.ReLU()\n",
    "            self.fc3 = nn.Linear(n_hidden_neurons_2, n_hidden_neurons_3)\n",
    "            self.act3 = nn.ReLU()\n",
    "            self.fc4 = nn.Linear(n_hidden_neurons_3, n_hidden_neurons_4)\n",
    "            self.act4 = nn.ReLU()\n",
    "            self.fc5 = nn.Linear(n_hidden_neurons_4, n_out_neurons)\n",
    "            self.act5 = nn.Sigmoid()\n",
    "            \n",
    "            nn.init.kaiming_uniform_(self.fc1.weight, mode='fan_in', nonlinearity='relu')\n",
    "            nn.init.kaiming_uniform_(self.fc2.weight, mode='fan_in', nonlinearity='relu')\n",
    "            nn.init.kaiming_uniform_(self.fc3.weight, mode='fan_in', nonlinearity='relu')\n",
    "            nn.init.kaiming_uniform_(self.fc4.weight, mode='fan_in', nonlinearity='relu')\n",
    "            nn.init.kaiming_uniform_(self.fc5.weight, mode='fan_in', nonlinearity='sigmoid')\n",
    "            \n",
    "    def forward(self, x):\n",
    "        x = self.fc1(x)\n",
    "        x = self.act1(x)\n",
    "        #x = self.do1(x)\n",
    "        x = self.fc2(x)\n",
    "        x = self.act2(x)\n",
    "        x = self.fc3(x)\n",
    "        x = self.act3(x)\n",
    "        x = self.fc4(x)\n",
    "        x = self.act4(x)\n",
    "        x = self.fc5(x)\n",
    "        x = self.act5(x)\n",
    "        \n",
    "        return x"
   ]
  },
  {
   "cell_type": "code",
   "execution_count": 108,
   "id": "5bb60142",
   "metadata": {},
   "outputs": [],
   "source": [
    "n_in_neurons = X_train.shape[1]\n",
    "n_hidden_neurons_1 = 1200\n",
    "n_hidden_neurons_2 = 600\n",
    "n_hidden_neurons_3 = 200\n",
    "n_hidden_neurons_4 = 10\n",
    "n_out_neurons = 1\n",
    "\n",
    "\n",
    "\n",
    "net = Net(n_in_neurons, n_hidden_neurons_1, n_hidden_neurons_2, n_hidden_neurons_3, n_hidden_neurons_4, n_out_neurons)\n",
    "\n",
    "#net = nn.Sequential(\n",
    "#    nn.Linear(n_in_neurons, n_hidden_neurons_1),\n",
    "#    nn.ReLU(),\n",
    "#    nn.Linear(n_hidden_neurons_1, n_hidden_neurons_2),\n",
    "#    nn.ReLU(),\n",
    "#    nn.Linear(n_hidden_neurons_2, n_out_neurons)\n",
    "#)\n",
    "\n",
    "optimizer2 = torch.optim.SGD(net.parameters(), lr=1e-3, momentum=0.8)\n",
    "\n",
    "optimizers = [optimizer2]\n",
    "\n",
    "loss = nn.MSELoss()"
   ]
  },
  {
   "cell_type": "code",
   "execution_count": 109,
   "id": "d30813b3",
   "metadata": {},
   "outputs": [
    {
     "name": "stdout",
     "output_type": "stream",
     "text": [
      "Оптимизатор SGD (\n",
      "Parameter Group 0\n",
      "    dampening: 0\n",
      "    differentiable: False\n",
      "    foreach: None\n",
      "    lr: 0.001\n",
      "    maximize: False\n",
      "    momentum: 0.8\n",
      "    nesterov: False\n",
      "    weight_decay: 0\n",
      "):\n",
      "Метрика RMSE на 0 итерации = 0.31\n",
      "Метрика RMSE на 10 итерации = 0.28\n",
      "Метрика RMSE на 20 итерации = 0.28\n",
      "Метрика RMSE на 30 итерации = 0.28\n",
      "Метрика RMSE на 40 итерации = 0.28\n",
      "Метрика RMSE на 50 итерации = 0.28\n",
      "Метрика RMSE на 60 итерации = 0.28\n",
      "Метрика RMSE на 70 итерации = 0.28\n",
      "Метрика RMSE на 80 итерации = 0.28\n",
      "Метрика RMSE на 90 итерации = 0.28\n",
      "Метрика RMSE на 100 итерации = 0.28\n",
      "Метрика RMSE на 110 итерации = 0.28\n",
      "Метрика RMSE на 120 итерации = 0.28\n",
      "Метрика RMSE на 130 итерации = 0.28\n",
      "Метрика RMSE на 140 итерации = 0.28\n",
      "Метрика RMSE на 150 итерации = 0.28\n",
      "Метрика RMSE на 160 итерации = 0.28\n",
      "Метрика RMSE на 170 итерации = 0.28\n",
      "Метрика RMSE на 180 итерации = 0.28\n",
      "Метрика RMSE на 190 итерации = 0.28\n",
      "Метрика RMSE на 200 итерации = 0.28\n",
      "Метрика RMSE на 210 итерации = 0.28\n",
      "Метрика RMSE на 220 итерации = 0.28\n",
      "Метрика RMSE на 230 итерации = 0.28\n",
      "Метрика RMSE на 240 итерации = 0.28\n",
      "Метрика RMSE на 250 итерации = 0.28\n",
      "Метрика RMSE на 260 итерации = 0.28\n",
      "Метрика RMSE на 270 итерации = 0.28\n",
      "Метрика RMSE на 280 итерации = 0.28\n",
      "Метрика RMSE на 290 итерации = 0.28\n",
      "Метрика RMSE на 300 итерации = 0.28\n",
      "Метрика RMSE на 310 итерации = 0.28\n",
      "Метрика RMSE на 320 итерации = 0.28\n",
      "Метрика RMSE на 330 итерации = 0.28\n",
      "Метрика RMSE на 340 итерации = 0.28\n",
      "Метрика RMSE на 350 итерации = 0.28\n",
      "Метрика RMSE на 360 итерации = 0.28\n",
      "Метрика RMSE на 370 итерации = 0.28\n",
      "Метрика RMSE на 380 итерации = 0.28\n",
      "Метрика RMSE на 390 итерации = 0.28\n",
      "Метрика RMSE на 400 итерации = 0.29\n",
      "Метрика RMSE на 410 итерации = 0.29\n",
      "Метрика RMSE на 420 итерации = 0.29\n",
      "Метрика RMSE на 430 итерации = 0.29\n",
      "Метрика RMSE на 440 итерации = 0.29\n",
      "Метрика RMSE на 450 итерации = 0.29\n",
      "Метрика RMSE на 460 итерации = 0.29\n",
      "Метрика RMSE на 470 итерации = 0.29\n",
      "Метрика RMSE на 480 итерации = 0.29\n",
      "Метрика RMSE на 490 итерации = 0.29\n",
      "Метрика RMSE на 500 итерации = 0.29\n",
      "Метрика RMSE на 510 итерации = 0.29\n",
      "Метрика RMSE на 520 итерации = 0.29\n",
      "Метрика RMSE на 530 итерации = 0.29\n",
      "Метрика RMSE на 540 итерации = 0.29\n",
      "Метрика RMSE на 550 итерации = 0.29\n",
      "Метрика RMSE на 560 итерации = 0.29\n",
      "Метрика RMSE на 570 итерации = 0.29\n",
      "Метрика RMSE на 580 итерации = 0.29\n",
      "Метрика RMSE на 590 итерации = 0.29\n",
      "Метрика RMSE на 600 итерации = 0.29\n",
      "Метрика RMSE на 610 итерации = 0.29\n",
      "Метрика RMSE на 620 итерации = 0.29\n",
      "Метрика RMSE на 630 итерации = 0.29\n",
      "Метрика RMSE на 640 итерации = 0.29\n",
      "Метрика RMSE на 650 итерации = 0.29\n",
      "Метрика RMSE на 660 итерации = 0.29\n",
      "Метрика RMSE на 670 итерации = 0.29\n",
      "Метрика RMSE на 680 итерации = 0.29\n",
      "Метрика RMSE на 690 итерации = 0.29\n",
      "Метрика RMSE на 700 итерации = 0.29\n",
      "Метрика RMSE на 710 итерации = 0.29\n",
      "Метрика RMSE на 720 итерации = 0.29\n",
      "Метрика RMSE на 730 итерации = 0.29\n",
      "Метрика RMSE на 740 итерации = 0.29\n",
      "Метрика RMSE на 750 итерации = 0.29\n",
      "Метрика RMSE на 760 итерации = 0.29\n",
      "Метрика RMSE на 770 итерации = 0.29\n",
      "Метрика RMSE на 780 итерации = 0.29\n",
      "Метрика RMSE на 790 итерации = 0.29\n",
      "Метрика RMSE на 800 итерации = 0.29\n",
      "Метрика RMSE на 810 итерации = 0.29\n",
      "Метрика RMSE на 820 итерации = 0.29\n",
      "Метрика RMSE на 830 итерации = 0.29\n",
      "Метрика RMSE на 840 итерации = 0.29\n",
      "Метрика RMSE на 850 итерации = 0.29\n",
      "Метрика RMSE на 860 итерации = 0.29\n",
      "Метрика RMSE на 870 итерации = 0.29\n",
      "Метрика RMSE на 880 итерации = 0.29\n",
      "Метрика RMSE на 890 итерации = 0.29\n",
      "Метрика RMSE на 899 итерации = 0.29\n",
      "\n",
      "Лучшая метрика RMSE = 0.28 обнаружена на 1 эпохе\n",
      "Средняя метрика RMSE = 0.29\n",
      "--------------------------------------------------------------------------------------------- \n",
      "\n"
     ]
    }
   ],
   "source": [
    "%%time\n",
    "num_epochs = 900\n",
    "batch_size = 150\n",
    "num_batches = ceil(len(X_train)/batch_size)\n",
    "\n",
    "for optimizer in optimizers:\n",
    "    optimizer_rmse = []\n",
    "    print(f'Оптимизатор {optimizer}:')\n",
    "\n",
    "    for epoch in range(num_epochs):\n",
    "        net.train()\n",
    "        order = np.random.permutation(len(X_train))\n",
    "        \n",
    "        for batch_idx in range(num_batches):\n",
    "            \n",
    "            start_index = batch_idx * batch_size\n",
    "            optimizer.zero_grad()\n",
    "\n",
    "            batch_indexes = order[start_index : start_index + batch_size]\n",
    "            X_batch = X_train[batch_indexes]\n",
    "            y_batch = y_train[batch_indexes]\n",
    "\n",
    "            preds = net.forward(X_batch.float()).flatten()\n",
    "\n",
    "            loss_value = loss(preds, y_batch)\n",
    "\n",
    "            loss_value.backward()\n",
    "\n",
    "            optimizer.step()\n",
    "\n",
    "        if epoch % 10 == 0 or epoch == num_epochs - 1:\n",
    "            with torch.no_grad():\n",
    "                net.eval()\n",
    "                test_preds = net.forward(X_test).flatten()\n",
    "                #print(test_preds.numpy())\n",
    "                ans = round(float(torch.sqrt(loss(test_preds, y_test))), 2)\n",
    "                print(f'Метрика RMSE на {epoch} итерации =', ans)\n",
    "                optimizer_rmse.append(ans)\n",
    "    print()\n",
    "    print(f'Лучшая метрика RMSE = {min(optimizer_rmse)} обнаружена на {optimizer_rmse.index(min(optimizer_rmse))} эпохе')\n",
    "    print(f'Средняя метрика RMSE = {round(np.mean(optimizer_rmse), 2)}')\n",
    "    print('---------------------------------------------------------------------------------------------', '\\n')"
   ]
  },
  {
   "cell_type": "code",
   "execution_count": null,
   "id": "c4d16202",
   "metadata": {},
   "outputs": [],
   "source": []
  },
  {
   "cell_type": "code",
   "execution_count": null,
   "id": "c29032c7",
   "metadata": {},
   "outputs": [],
   "source": []
  },
  {
   "cell_type": "code",
   "execution_count": null,
   "id": "326dc3fe",
   "metadata": {},
   "outputs": [],
   "source": []
  },
  {
   "cell_type": "markdown",
   "id": "2f870d77",
   "metadata": {
    "cellId": "tbnfwg686jpxjdsw7cqbl",
    "execution_id": "5e14c3be-a481-438e-a979-0f4621acea44",
    "id": "2f870d77"
   },
   "source": [
    "## 7. Тестирование модели\n",
    "\n",
    "Настало время протестировать модель. Для этого получите эмбеддинги для всех тестовых изображений из папки `test_images`, выберите случайные 10 запросов из файла `test_queries.csv` и для каждого запроса выведите наиболее релевантное изображение. Сравните визуально качество поиска."
   ]
  },
  {
   "cell_type": "code",
   "execution_count": 185,
   "id": "13bf9f2c",
   "metadata": {},
   "outputs": [
    {
     "name": "stdout",
     "output_type": "stream",
     "text": [
      "CPU times: total: 1min 42s\n",
      "Wall time: 12.9 s\n"
     ]
    },
    {
     "data": {
      "text/plain": [
       "(500,)"
      ]
     },
     "execution_count": 185,
     "metadata": {},
     "output_type": "execute_result"
    }
   ],
   "source": [
    "%%time\n",
    "path=\"dsplus_integrated_project_4/to_upload/test_images/\"\n",
    "test_img_vec = np.array(test_queries.apply(img_to_vec, axis=1))\n",
    "\n",
    "test_img_vec.shape"
   ]
  },
  {
   "cell_type": "code",
   "execution_count": null,
   "id": "2919a6a6",
   "metadata": {},
   "outputs": [],
   "source": [
    "def get_picture(text) -> None:\n",
    "\n",
    "    '''Проверяем легальность запроса, получаем наиболее похожие картинки,\n",
    "    если описание среди оригинальных картинок - добавляем последней верную'''\n",
    "    \n",
    "    if [i for i in get_lemmas(text) if i in BLOCK]: #проверяем не нужно ли вывести на экран заглушку\n",
    "        print('')\n",
    "        print('-' * 20, text, '-' * 20)\n",
    "        print('')\n",
    "        print('This image is unavailable in your country in compliance with local laws.')\n",
    "        print('')\n",
    "    else:\n",
    "        text_embed = vectorize_text(model=bert, data=[text], bar=False) #получаем эмбеддинг текста\n",
    "        X = np.concatenate(( #объединяем вектора тестовых картинок с эмбеддингом текста\n",
    "            pict_embeds_test,\n",
    "            np.resize(text_embed, (pict_embeds_test.shape[0],768))),\n",
    "            axis=1)\n",
    "        X = scaler.transform(X)\n",
    "        predictions = NN.predict(X) #получаем предсказания оценок экспертов\n",
    "        df = pd.concat((df_images, pd.Series(np.reshape(predictions, (predictions.shape[0],)), name='pred')), axis=1) #добавляем оценки к номерам картинок\n",
    "        top = list(df.sort_values(by='pred', ascending=False)['image'].head(5)) #получили топ 5 имён файлов с картинками\n",
    "        top_score = list(df.sort_values(by='pred', ascending=False)['pred'].head(5)) #получили топ 5 оценок\n",
    "        \n",
    "        print('')\n",
    "        print('-' * 20, text, '-' * 20)\n",
    "        print('')\n",
    "        \n",
    "        fig = plt.figure(figsize=(15,5)) #выводим на экран 5 наиболее похожих картинок\n",
    "        plt.rcParams['axes.edgecolor'] = 'black'\n",
    "        plt.rcParams['axes.linewidth'] = 0\n",
    "        for i in range(5):\n",
    "            fig.add_subplot(1, 6, i+1, title=round(top_score[i], 2))\n",
    "            image = Image.open(Path(PATH, 'test_images', top[i]))\n",
    "            plt.imshow(image)\n",
    "            plt.xticks([])\n",
    "            plt.yticks([])\n",
    "            plt.tight_layout()\n",
    "        \n",
    "        if text in list(df_queries['query_text']): #если текст был в исходном файле с описаниями - добавляем оригинальную картинку\n",
    "            plt.rcParams['axes.edgecolor'] = 'green'\n",
    "            plt.rcParams['axes.linewidth'] = 5\n",
    "            fig.add_subplot(1, 6, 6)\n",
    "            image = Image.open(Path(PATH, 'test_images', df_queries.iloc[df_queries[df_queries['query_text'] == text].index[0]]['image']))\n",
    "            plt.imshow(image)\n",
    "            plt.xticks([])\n",
    "            plt.yticks([])\n",
    "            plt.tight_layout()\n",
    "        \n",
    "        plt.show()\n",
    "\n",
    "    return None"
   ]
  },
  {
   "cell_type": "code",
   "execution_count": null,
   "id": "801e0c32",
   "metadata": {
    "cellId": "q6sn9kh039f4a6xvu66y7",
    "id": "801e0c32"
   },
   "outputs": [],
   "source": [
    "# path=\"to_upload/test_images/\"\n",
    "# test_images_vec = np.vstack(np.array(test_images.apply(vect_gen_train, axis=1)))"
   ]
  },
  {
   "cell_type": "code",
   "execution_count": 132,
   "id": "d4ab4bd0",
   "metadata": {},
   "outputs": [
    {
     "data": {
      "text/html": [
       "<div>\n",
       "<style scoped>\n",
       "    .dataframe tbody tr th:only-of-type {\n",
       "        vertical-align: middle;\n",
       "    }\n",
       "\n",
       "    .dataframe tbody tr th {\n",
       "        vertical-align: top;\n",
       "    }\n",
       "\n",
       "    .dataframe thead th {\n",
       "        text-align: right;\n",
       "    }\n",
       "</style>\n",
       "<table border=\"1\" class=\"dataframe\">\n",
       "  <thead>\n",
       "    <tr style=\"text-align: right;\">\n",
       "      <th></th>\n",
       "      <th>query_id</th>\n",
       "      <th>query_text</th>\n",
       "      <th>image</th>\n",
       "      <th>lemmatized</th>\n",
       "    </tr>\n",
       "  </thead>\n",
       "  <tbody>\n",
       "    <tr>\n",
       "      <th>78</th>\n",
       "      <td>2201192417_d934730fea.jpg#3</td>\n",
       "      <td>A little boy wearing a green soccer strip is r...</td>\n",
       "      <td>2201192417_d934730fea.jpg</td>\n",
       "      <td>a little boy wear a green soccer strip be run ...</td>\n",
       "    </tr>\n",
       "    <tr>\n",
       "      <th>108</th>\n",
       "      <td>2431120202_b24fe2333a.jpg#3</td>\n",
       "      <td>Little girl on skis</td>\n",
       "      <td>2431120202_b24fe2333a.jpg</td>\n",
       "      <td>little girl on ski</td>\n",
       "    </tr>\n",
       "    <tr>\n",
       "      <th>199</th>\n",
       "      <td>3030079705_0dee8a3e89.jpg#4</td>\n",
       "      <td>The little girl tackles a man and makes the un...</td>\n",
       "      <td>3030079705_0dee8a3e89.jpg</td>\n",
       "      <td>the little girl tackle a man and make the univ...</td>\n",
       "    </tr>\n",
       "    <tr>\n",
       "      <th>50</th>\n",
       "      <td>1991806812_065f747689.jpg#0</td>\n",
       "      <td>a boxer punches a boxer in the face .</td>\n",
       "      <td>1991806812_065f747689.jpg</td>\n",
       "      <td>a boxer punch a boxer in the face</td>\n",
       "    </tr>\n",
       "    <tr>\n",
       "      <th>282</th>\n",
       "      <td>3262849619_0bc4f88ef9.jpg#2</td>\n",
       "      <td>A brown and white dog is carrying a snowball .</td>\n",
       "      <td>3262849619_0bc4f88ef9.jpg</td>\n",
       "      <td>a brown and white dog be carry a snowball</td>\n",
       "    </tr>\n",
       "    <tr>\n",
       "      <th>224</th>\n",
       "      <td>3089107423_81a24eaf18.jpg#4</td>\n",
       "      <td>The man in the black shirt is pointing his cam...</td>\n",
       "      <td>3089107423_81a24eaf18.jpg</td>\n",
       "      <td>the man in the black shirt be point his camera...</td>\n",
       "    </tr>\n",
       "    <tr>\n",
       "      <th>148</th>\n",
       "      <td>2670637584_d96efb8afa.jpg#3</td>\n",
       "      <td>A young girl sits on the forest floor and look...</td>\n",
       "      <td>2670637584_d96efb8afa.jpg</td>\n",
       "      <td>a young girl sit on the forest floor and look ...</td>\n",
       "    </tr>\n",
       "    <tr>\n",
       "      <th>304</th>\n",
       "      <td>3356748019_2251399314.jpg#4</td>\n",
       "      <td>Three riders wearing black jerseys jump their ...</td>\n",
       "      <td>3356748019_2251399314.jpg</td>\n",
       "      <td>three rider wear black jersey jump their bmx b...</td>\n",
       "    </tr>\n",
       "    <tr>\n",
       "      <th>312</th>\n",
       "      <td>3393035454_2d2370ffd4.jpg#2</td>\n",
       "      <td>A boy jumps up in a field in the woods .</td>\n",
       "      <td>3393035454_2d2370ffd4.jpg</td>\n",
       "      <td>a boy jump up in a field in the wood</td>\n",
       "    </tr>\n",
       "    <tr>\n",
       "      <th>63</th>\n",
       "      <td>2107838729_a527e434bd.jpg#3</td>\n",
       "      <td>A young boy throwing a rock into a pond in fro...</td>\n",
       "      <td>2107838729_a527e434bd.jpg</td>\n",
       "      <td>a young boy throw a rock into a pond in front ...</td>\n",
       "    </tr>\n",
       "  </tbody>\n",
       "</table>\n",
       "</div>"
      ],
      "text/plain": [
       "                        query_id  \\\n",
       "78   2201192417_d934730fea.jpg#3   \n",
       "108  2431120202_b24fe2333a.jpg#3   \n",
       "199  3030079705_0dee8a3e89.jpg#4   \n",
       "50   1991806812_065f747689.jpg#0   \n",
       "282  3262849619_0bc4f88ef9.jpg#2   \n",
       "224  3089107423_81a24eaf18.jpg#4   \n",
       "148  2670637584_d96efb8afa.jpg#3   \n",
       "304  3356748019_2251399314.jpg#4   \n",
       "312  3393035454_2d2370ffd4.jpg#2   \n",
       "63   2107838729_a527e434bd.jpg#3   \n",
       "\n",
       "                                            query_text  \\\n",
       "78   A little boy wearing a green soccer strip is r...   \n",
       "108                                Little girl on skis   \n",
       "199  The little girl tackles a man and makes the un...   \n",
       "50               a boxer punches a boxer in the face .   \n",
       "282     A brown and white dog is carrying a snowball .   \n",
       "224  The man in the black shirt is pointing his cam...   \n",
       "148  A young girl sits on the forest floor and look...   \n",
       "304  Three riders wearing black jerseys jump their ...   \n",
       "312           A boy jumps up in a field in the woods .   \n",
       "63   A young boy throwing a rock into a pond in fro...   \n",
       "\n",
       "                         image  \\\n",
       "78   2201192417_d934730fea.jpg   \n",
       "108  2431120202_b24fe2333a.jpg   \n",
       "199  3030079705_0dee8a3e89.jpg   \n",
       "50   1991806812_065f747689.jpg   \n",
       "282  3262849619_0bc4f88ef9.jpg   \n",
       "224  3089107423_81a24eaf18.jpg   \n",
       "148  2670637584_d96efb8afa.jpg   \n",
       "304  3356748019_2251399314.jpg   \n",
       "312  3393035454_2d2370ffd4.jpg   \n",
       "63   2107838729_a527e434bd.jpg   \n",
       "\n",
       "                                            lemmatized  \n",
       "78   a little boy wear a green soccer strip be run ...  \n",
       "108                                 little girl on ski  \n",
       "199  the little girl tackle a man and make the univ...  \n",
       "50                 a boxer punch a boxer in the face    \n",
       "282        a brown and white dog be carry a snowball    \n",
       "224  the man in the black shirt be point his camera...  \n",
       "148  a young girl sit on the forest floor and look ...  \n",
       "304  three rider wear black jersey jump their bmx b...  \n",
       "312             a boy jump up in a field in the wood    \n",
       "63   a young boy throw a rock into a pond in front ...  "
      ]
     },
     "execution_count": 132,
     "metadata": {},
     "output_type": "execute_result"
    }
   ],
   "source": [
    "df_sample = test_queries.sample(10)\n",
    "df_sample"
   ]
  },
  {
   "cell_type": "code",
   "execution_count": 133,
   "id": "c67068af",
   "metadata": {},
   "outputs": [
    {
     "name": "stdout",
     "output_type": "stream",
     "text": [
      "Размер матрицы: (10, 960)\n"
     ]
    }
   ],
   "source": [
    "df_sample['lemmatized'] = df_sample['query_text'].apply(lambda x: data_preprocessing(x))\n",
    "corpus = df_sample['lemmatized'].values\n",
    "tf_idf_test = count_tf_idf.transform(corpus)\n",
    "print(\"Размер матрицы:\", tf_idf_test.shape)"
   ]
  },
  {
   "cell_type": "code",
   "execution_count": 156,
   "id": "8ea2ecc0",
   "metadata": {},
   "outputs": [
    {
     "name": "stdout",
     "output_type": "stream",
     "text": [
      "CPU times: total: 0 ns\n",
      "Wall time: 1.01 ms\n"
     ]
    }
   ],
   "source": [
    "%%time\n",
    "df_sample['is_available'] = df_sample['lemmatized'].apply(find_exc_word)"
   ]
  },
  {
   "cell_type": "code",
   "execution_count": 157,
   "id": "4bc7a88b",
   "metadata": {},
   "outputs": [
    {
     "data": {
      "text/html": [
       "<div>\n",
       "<style scoped>\n",
       "    .dataframe tbody tr th:only-of-type {\n",
       "        vertical-align: middle;\n",
       "    }\n",
       "\n",
       "    .dataframe tbody tr th {\n",
       "        vertical-align: top;\n",
       "    }\n",
       "\n",
       "    .dataframe thead th {\n",
       "        text-align: right;\n",
       "    }\n",
       "</style>\n",
       "<table border=\"1\" class=\"dataframe\">\n",
       "  <thead>\n",
       "    <tr style=\"text-align: right;\">\n",
       "      <th></th>\n",
       "      <th>query_id</th>\n",
       "      <th>query_text</th>\n",
       "      <th>image</th>\n",
       "      <th>lemmatized</th>\n",
       "      <th>is_available</th>\n",
       "    </tr>\n",
       "  </thead>\n",
       "  <tbody>\n",
       "    <tr>\n",
       "      <th>78</th>\n",
       "      <td>2201192417_d934730fea.jpg#3</td>\n",
       "      <td>A little boy wearing a green soccer strip is r...</td>\n",
       "      <td>2201192417_d934730fea.jpg</td>\n",
       "      <td>a little boy wear a green soccer strip be run ...</td>\n",
       "      <td>False</td>\n",
       "    </tr>\n",
       "    <tr>\n",
       "      <th>108</th>\n",
       "      <td>2431120202_b24fe2333a.jpg#3</td>\n",
       "      <td>Little girl on skis</td>\n",
       "      <td>2431120202_b24fe2333a.jpg</td>\n",
       "      <td>little girl on ski</td>\n",
       "      <td>False</td>\n",
       "    </tr>\n",
       "    <tr>\n",
       "      <th>199</th>\n",
       "      <td>3030079705_0dee8a3e89.jpg#4</td>\n",
       "      <td>The little girl tackles a man and makes the un...</td>\n",
       "      <td>3030079705_0dee8a3e89.jpg</td>\n",
       "      <td>the little girl tackle a man and make the univ...</td>\n",
       "      <td>False</td>\n",
       "    </tr>\n",
       "    <tr>\n",
       "      <th>50</th>\n",
       "      <td>1991806812_065f747689.jpg#0</td>\n",
       "      <td>a boxer punches a boxer in the face .</td>\n",
       "      <td>1991806812_065f747689.jpg</td>\n",
       "      <td>a boxer punch a boxer in the face</td>\n",
       "      <td>True</td>\n",
       "    </tr>\n",
       "    <tr>\n",
       "      <th>282</th>\n",
       "      <td>3262849619_0bc4f88ef9.jpg#2</td>\n",
       "      <td>A brown and white dog is carrying a snowball .</td>\n",
       "      <td>3262849619_0bc4f88ef9.jpg</td>\n",
       "      <td>a brown and white dog be carry a snowball</td>\n",
       "      <td>True</td>\n",
       "    </tr>\n",
       "    <tr>\n",
       "      <th>224</th>\n",
       "      <td>3089107423_81a24eaf18.jpg#4</td>\n",
       "      <td>The man in the black shirt is pointing his cam...</td>\n",
       "      <td>3089107423_81a24eaf18.jpg</td>\n",
       "      <td>the man in the black shirt be point his camera...</td>\n",
       "      <td>True</td>\n",
       "    </tr>\n",
       "    <tr>\n",
       "      <th>148</th>\n",
       "      <td>2670637584_d96efb8afa.jpg#3</td>\n",
       "      <td>A young girl sits on the forest floor and look...</td>\n",
       "      <td>2670637584_d96efb8afa.jpg</td>\n",
       "      <td>a young girl sit on the forest floor and look ...</td>\n",
       "      <td>False</td>\n",
       "    </tr>\n",
       "    <tr>\n",
       "      <th>304</th>\n",
       "      <td>3356748019_2251399314.jpg#4</td>\n",
       "      <td>Three riders wearing black jerseys jump their ...</td>\n",
       "      <td>3356748019_2251399314.jpg</td>\n",
       "      <td>three rider wear black jersey jump their bmx b...</td>\n",
       "      <td>True</td>\n",
       "    </tr>\n",
       "    <tr>\n",
       "      <th>312</th>\n",
       "      <td>3393035454_2d2370ffd4.jpg#2</td>\n",
       "      <td>A boy jumps up in a field in the woods .</td>\n",
       "      <td>3393035454_2d2370ffd4.jpg</td>\n",
       "      <td>a boy jump up in a field in the wood</td>\n",
       "      <td>False</td>\n",
       "    </tr>\n",
       "    <tr>\n",
       "      <th>63</th>\n",
       "      <td>2107838729_a527e434bd.jpg#3</td>\n",
       "      <td>A young boy throwing a rock into a pond in fro...</td>\n",
       "      <td>2107838729_a527e434bd.jpg</td>\n",
       "      <td>a young boy throw a rock into a pond in front ...</td>\n",
       "      <td>False</td>\n",
       "    </tr>\n",
       "  </tbody>\n",
       "</table>\n",
       "</div>"
      ],
      "text/plain": [
       "                        query_id  \\\n",
       "78   2201192417_d934730fea.jpg#3   \n",
       "108  2431120202_b24fe2333a.jpg#3   \n",
       "199  3030079705_0dee8a3e89.jpg#4   \n",
       "50   1991806812_065f747689.jpg#0   \n",
       "282  3262849619_0bc4f88ef9.jpg#2   \n",
       "224  3089107423_81a24eaf18.jpg#4   \n",
       "148  2670637584_d96efb8afa.jpg#3   \n",
       "304  3356748019_2251399314.jpg#4   \n",
       "312  3393035454_2d2370ffd4.jpg#2   \n",
       "63   2107838729_a527e434bd.jpg#3   \n",
       "\n",
       "                                            query_text  \\\n",
       "78   A little boy wearing a green soccer strip is r...   \n",
       "108                                Little girl on skis   \n",
       "199  The little girl tackles a man and makes the un...   \n",
       "50               a boxer punches a boxer in the face .   \n",
       "282     A brown and white dog is carrying a snowball .   \n",
       "224  The man in the black shirt is pointing his cam...   \n",
       "148  A young girl sits on the forest floor and look...   \n",
       "304  Three riders wearing black jerseys jump their ...   \n",
       "312           A boy jumps up in a field in the woods .   \n",
       "63   A young boy throwing a rock into a pond in fro...   \n",
       "\n",
       "                         image  \\\n",
       "78   2201192417_d934730fea.jpg   \n",
       "108  2431120202_b24fe2333a.jpg   \n",
       "199  3030079705_0dee8a3e89.jpg   \n",
       "50   1991806812_065f747689.jpg   \n",
       "282  3262849619_0bc4f88ef9.jpg   \n",
       "224  3089107423_81a24eaf18.jpg   \n",
       "148  2670637584_d96efb8afa.jpg   \n",
       "304  3356748019_2251399314.jpg   \n",
       "312  3393035454_2d2370ffd4.jpg   \n",
       "63   2107838729_a527e434bd.jpg   \n",
       "\n",
       "                                            lemmatized  is_available  \n",
       "78   a little boy wear a green soccer strip be run ...         False  \n",
       "108                                 little girl on ski         False  \n",
       "199  the little girl tackle a man and make the univ...         False  \n",
       "50                 a boxer punch a boxer in the face            True  \n",
       "282        a brown and white dog be carry a snowball            True  \n",
       "224  the man in the black shirt be point his camera...          True  \n",
       "148  a young girl sit on the forest floor and look ...         False  \n",
       "304  three rider wear black jersey jump their bmx b...          True  \n",
       "312             a boy jump up in a field in the wood           False  \n",
       "63   a young boy throw a rock into a pond in front ...         False  "
      ]
     },
     "execution_count": 157,
     "metadata": {},
     "output_type": "execute_result"
    }
   ],
   "source": [
    "df_sample"
   ]
  },
  {
   "cell_type": "code",
   "execution_count": 181,
   "id": "f16480ad",
   "metadata": {},
   "outputs": [],
   "source": [
    "# texts = []\n",
    "\n",
    "# for i in df_sample.index.to_list():\n",
    "#     if df_sample.loc[i]['is_available'] == True:\n",
    "#         texts.append(df_sample.loc[i]['lemmatized'])\n",
    "#     else:\n",
    "#         print('error')\n",
    "        \n",
    "        \n",
    "# texts"
   ]
  },
  {
   "cell_type": "code",
   "execution_count": 178,
   "id": "6673f50f",
   "metadata": {},
   "outputs": [
    {
     "name": "stdout",
     "output_type": "stream",
     "text": [
      "error\n",
      "error\n",
      "error\n",
      "error\n"
     ]
    },
    {
     "data": {
      "text/html": [
       "<div>\n",
       "<style scoped>\n",
       "    .dataframe tbody tr th:only-of-type {\n",
       "        vertical-align: middle;\n",
       "    }\n",
       "\n",
       "    .dataframe tbody tr th {\n",
       "        vertical-align: top;\n",
       "    }\n",
       "\n",
       "    .dataframe thead th {\n",
       "        text-align: right;\n",
       "    }\n",
       "</style>\n",
       "<table border=\"1\" class=\"dataframe\">\n",
       "  <thead>\n",
       "    <tr style=\"text-align: right;\">\n",
       "      <th></th>\n",
       "      <th>query_id</th>\n",
       "      <th>query_text</th>\n",
       "      <th>image</th>\n",
       "      <th>lemmatized</th>\n",
       "      <th>is_available</th>\n",
       "    </tr>\n",
       "  </thead>\n",
       "  <tbody>\n",
       "    <tr>\n",
       "      <th>50</th>\n",
       "      <td>1991806812_065f747689.jpg#0</td>\n",
       "      <td>a boxer punches a boxer in the face .</td>\n",
       "      <td>1991806812_065f747689.jpg</td>\n",
       "      <td>a boxer punch a boxer in the face</td>\n",
       "      <td>True</td>\n",
       "    </tr>\n",
       "    <tr>\n",
       "      <th>282</th>\n",
       "      <td>3262849619_0bc4f88ef9.jpg#2</td>\n",
       "      <td>A brown and white dog is carrying a snowball .</td>\n",
       "      <td>3262849619_0bc4f88ef9.jpg</td>\n",
       "      <td>a brown and white dog be carry a snowball</td>\n",
       "      <td>True</td>\n",
       "    </tr>\n",
       "    <tr>\n",
       "      <th>224</th>\n",
       "      <td>3089107423_81a24eaf18.jpg#4</td>\n",
       "      <td>The man in the black shirt is pointing his cam...</td>\n",
       "      <td>3089107423_81a24eaf18.jpg</td>\n",
       "      <td>the man in the black shirt be point his camera...</td>\n",
       "      <td>True</td>\n",
       "    </tr>\n",
       "    <tr>\n",
       "      <th>304</th>\n",
       "      <td>3356748019_2251399314.jpg#4</td>\n",
       "      <td>Three riders wearing black jerseys jump their ...</td>\n",
       "      <td>3356748019_2251399314.jpg</td>\n",
       "      <td>three rider wear black jersey jump their bmx b...</td>\n",
       "      <td>True</td>\n",
       "    </tr>\n",
       "  </tbody>\n",
       "</table>\n",
       "</div>"
      ],
      "text/plain": [
       "                        query_id  \\\n",
       "50   1991806812_065f747689.jpg#0   \n",
       "282  3262849619_0bc4f88ef9.jpg#2   \n",
       "224  3089107423_81a24eaf18.jpg#4   \n",
       "304  3356748019_2251399314.jpg#4   \n",
       "\n",
       "                                            query_text  \\\n",
       "50               a boxer punches a boxer in the face .   \n",
       "282     A brown and white dog is carrying a snowball .   \n",
       "224  The man in the black shirt is pointing his cam...   \n",
       "304  Three riders wearing black jerseys jump their ...   \n",
       "\n",
       "                         image  \\\n",
       "50   1991806812_065f747689.jpg   \n",
       "282  3262849619_0bc4f88ef9.jpg   \n",
       "224  3089107423_81a24eaf18.jpg   \n",
       "304  3356748019_2251399314.jpg   \n",
       "\n",
       "                                            lemmatized  is_available  \n",
       "50                 a boxer punch a boxer in the face            True  \n",
       "282        a brown and white dog be carry a snowball            True  \n",
       "224  the man in the black shirt be point his camera...          True  \n",
       "304  three rider wear black jersey jump their bmx b...          True  "
      ]
     },
     "execution_count": 178,
     "metadata": {},
     "output_type": "execute_result"
    }
   ],
   "source": [
    "for i in df_sample.index.to_list():\n",
    "    if df_sample.loc[i]['is_available'] == False:\n",
    "        df_sample = df_sample.drop(i)\n",
    "    else:\n",
    "        print('error')\n",
    "df_sample"
   ]
  },
  {
   "cell_type": "code",
   "execution_count": 184,
   "id": "7009a03a",
   "metadata": {},
   "outputs": [
    {
     "name": "stdout",
     "output_type": "stream",
     "text": [
      "Размер матрицы: (4, 960)\n"
     ]
    }
   ],
   "source": [
    "corpus = df_sample['lemmatized'].values\n",
    "tf_idf_test = count_tf_idf.transform(corpus)\n",
    "print(\"Размер матрицы:\", tf_idf_test.shape)"
   ]
  },
  {
   "cell_type": "code",
   "execution_count": null,
   "id": "bdaef494",
   "metadata": {},
   "outputs": [],
   "source": []
  },
  {
   "cell_type": "code",
   "execution_count": 152,
   "id": "9cf0c3df",
   "metadata": {},
   "outputs": [],
   "source": [
    "def ten_texts(df):\n",
    "    texts = []\n",
    "    for i in range(0,10):\n",
    "        texts.append(df.iloc[rd.randint(0, 499)]['lemmatized'])\n",
    "    return texts"
   ]
  },
  {
   "cell_type": "code",
   "execution_count": 153,
   "id": "b221824f",
   "metadata": {},
   "outputs": [
    {
     "data": {
      "text/plain": [
       "['a little boy wear a green soccer strip be run on the grass  ',\n",
       " 'little girl on ski',\n",
       " 'the little girl tackle a man and make the universal sign for    touchdown    ',\n",
       " 'a boxer punch a boxer in the face  ',\n",
       " 'a brown and white dog be carry a snowball  ',\n",
       " 'the man in the black shirt be point his camera at the arena  ',\n",
       " 'a young girl sit on the forest floor and look up through binocular  ',\n",
       " 'three rider wear black jersey jump their bmx bike into the air  ',\n",
       " 'a boy jump up in a field in the wood  ',\n",
       " 'a young boy throw a rock into a pond in front of a large building  ']"
      ]
     },
     "execution_count": 153,
     "metadata": {},
     "output_type": "execute_result"
    }
   ],
   "source": [
    "test_texts = []\n",
    "\n",
    "for i in range(0,10):\n",
    "    test_texts.append(df_sample.iloc[i]['lemmatized'])\n",
    "test_texts"
   ]
  },
  {
   "cell_type": "code",
   "execution_count": null,
   "id": "7d613405",
   "metadata": {},
   "outputs": [],
   "source": [
    "corpus = data_train['lemmatized'].values\n",
    "\n",
    "count_tf_idf = TfidfVectorizer(stop_words=list(stopwords), tokenizer=tok)\n",
    "\n",
    "count_tf_idf.fit(corpus)\n",
    "\n",
    "tf_idf_train = count_tf_idf.transform(corpus)\n",
    "print(\"Размер матрицы:\", tf_idf_train.shape)"
   ]
  },
  {
   "cell_type": "code",
   "execution_count": 140,
   "id": "73d379bc",
   "metadata": {},
   "outputs": [
    {
     "name": "stdout",
     "output_type": "stream",
     "text": [
      "A little boy wearing a green soccer strip is running on the grass .\n"
     ]
    },
    {
     "ename": "AttributeError",
     "evalue": "'CatBoostRegressor' object has no attribute 'predict_proba'",
     "output_type": "error",
     "traceback": [
      "\u001b[1;31m---------------------------------------------------------------------------\u001b[0m",
      "\u001b[1;31mAttributeError\u001b[0m                            Traceback (most recent call last)",
      "Cell \u001b[1;32mIn[140], line 6\u001b[0m\n\u001b[0;32m      2\u001b[0m     \u001b[38;5;28mprint\u001b[39m(text)\n\u001b[0;32m      4\u001b[0m \u001b[38;5;66;03m#     mass = conv_text(text)\u001b[39;00m\n\u001b[0;32m      5\u001b[0m \u001b[38;5;66;03m#     res = net.forward(torch.FloatTensor(mass)).flatten().detach().numpy()\u001b[39;00m\n\u001b[1;32m----> 6\u001b[0m     grid_cat\u001b[38;5;241m.\u001b[39mpredict_proba(text)\n",
      "File \u001b[1;32mC:\\ProgramData\\anaconda3\\Lib\\site-packages\\sklearn\\utils\\_available_if.py:31\u001b[0m, in \u001b[0;36m_AvailableIfDescriptor.__get__\u001b[1;34m(self, obj, owner)\u001b[0m\n\u001b[0;32m     25\u001b[0m attr_err \u001b[38;5;241m=\u001b[39m \u001b[38;5;167;01mAttributeError\u001b[39;00m(\n\u001b[0;32m     26\u001b[0m     \u001b[38;5;124mf\u001b[39m\u001b[38;5;124m\"\u001b[39m\u001b[38;5;124mThis \u001b[39m\u001b[38;5;132;01m{\u001b[39;00m\u001b[38;5;28mrepr\u001b[39m(owner\u001b[38;5;241m.\u001b[39m\u001b[38;5;18m__name__\u001b[39m)\u001b[38;5;132;01m}\u001b[39;00m\u001b[38;5;124m has no attribute \u001b[39m\u001b[38;5;132;01m{\u001b[39;00m\u001b[38;5;28mrepr\u001b[39m(\u001b[38;5;28mself\u001b[39m\u001b[38;5;241m.\u001b[39mattribute_name)\u001b[38;5;132;01m}\u001b[39;00m\u001b[38;5;124m\"\u001b[39m\n\u001b[0;32m     27\u001b[0m )\n\u001b[0;32m     28\u001b[0m \u001b[38;5;28;01mif\u001b[39;00m obj \u001b[38;5;129;01mis\u001b[39;00m \u001b[38;5;129;01mnot\u001b[39;00m \u001b[38;5;28;01mNone\u001b[39;00m:\n\u001b[0;32m     29\u001b[0m     \u001b[38;5;66;03m# delegate only on instances, not the classes.\u001b[39;00m\n\u001b[0;32m     30\u001b[0m     \u001b[38;5;66;03m# this is to allow access to the docstrings.\u001b[39;00m\n\u001b[1;32m---> 31\u001b[0m     \u001b[38;5;28;01mif\u001b[39;00m \u001b[38;5;129;01mnot\u001b[39;00m \u001b[38;5;28mself\u001b[39m\u001b[38;5;241m.\u001b[39mcheck(obj):\n\u001b[0;32m     32\u001b[0m         \u001b[38;5;28;01mraise\u001b[39;00m attr_err\n\u001b[0;32m     33\u001b[0m     out \u001b[38;5;241m=\u001b[39m MethodType(\u001b[38;5;28mself\u001b[39m\u001b[38;5;241m.\u001b[39mfn, obj)\n",
      "File \u001b[1;32mC:\\ProgramData\\anaconda3\\Lib\\site-packages\\sklearn\\model_selection\\_search.py:364\u001b[0m, in \u001b[0;36m_estimator_has.<locals>.check\u001b[1;34m(self)\u001b[0m\n\u001b[0;32m    361\u001b[0m _check_refit(\u001b[38;5;28mself\u001b[39m, attr)\n\u001b[0;32m    362\u001b[0m \u001b[38;5;28;01mif\u001b[39;00m \u001b[38;5;28mhasattr\u001b[39m(\u001b[38;5;28mself\u001b[39m, \u001b[38;5;124m\"\u001b[39m\u001b[38;5;124mbest_estimator_\u001b[39m\u001b[38;5;124m\"\u001b[39m):\n\u001b[0;32m    363\u001b[0m     \u001b[38;5;66;03m# raise an AttributeError if `attr` does not exist\u001b[39;00m\n\u001b[1;32m--> 364\u001b[0m     \u001b[38;5;28mgetattr\u001b[39m(\u001b[38;5;28mself\u001b[39m\u001b[38;5;241m.\u001b[39mbest_estimator_, attr)\n\u001b[0;32m    365\u001b[0m     \u001b[38;5;28;01mreturn\u001b[39;00m \u001b[38;5;28;01mTrue\u001b[39;00m\n\u001b[0;32m    366\u001b[0m \u001b[38;5;66;03m# raise an AttributeError if `attr` does not exist\u001b[39;00m\n",
      "\u001b[1;31mAttributeError\u001b[0m: 'CatBoostRegressor' object has no attribute 'predict_proba'"
     ]
    }
   ],
   "source": [
    "for text in test_texts:\n",
    "    print(text)\n",
    "\n",
    "#     mass = conv_text(text)\n",
    "#     res = net.forward(torch.FloatTensor(mass)).flatten().detach().numpy()\n",
    "    grid_cat.predict_proba(text)\n",
    "    #print(res)\n",
    "#     print(res.argmax())\n",
    "    #print(mass.shape)\n"
   ]
  },
  {
   "cell_type": "code",
   "execution_count": null,
   "id": "da58d1b4",
   "metadata": {},
   "outputs": [],
   "source": [
    "grid_cat.predict_proba()"
   ]
  },
  {
   "cell_type": "code",
   "execution_count": null,
   "id": "02710c9b",
   "metadata": {},
   "outputs": [],
   "source": [
    "for item in ten_texts():\n",
    "    print(item)\n",
    "    try:\n",
    "        mass = conv_text(item)\n",
    "        res = net.forward(torch.FloatTensor(mass)).flatten().detach().numpy()\n",
    "        #print(res)\n",
    "        print(res.argmax())\n",
    "        #print(mass.shape)\n",
    "    except:\n",
    "        print('В запросе присутствует запретное слово!')"
   ]
  },
  {
   "cell_type": "code",
   "execution_count": null,
   "id": "441e64c9",
   "metadata": {},
   "outputs": [],
   "source": []
  },
  {
   "cell_type": "code",
   "execution_count": 120,
   "id": "98d5488f",
   "metadata": {},
   "outputs": [
    {
     "ename": "NameError",
     "evalue": "name 'tokenizer' is not defined",
     "output_type": "error",
     "traceback": [
      "\u001b[1;31m---------------------------------------------------------------------------\u001b[0m",
      "\u001b[1;31mNameError\u001b[0m                                 Traceback (most recent call last)",
      "Cell \u001b[1;32mIn[120], line 6\u001b[0m\n\u001b[0;32m      3\u001b[0m input_text_test_tensor \u001b[38;5;241m=\u001b[39m []\n\u001b[0;32m      5\u001b[0m \u001b[38;5;28;01mfor\u001b[39;00m i \u001b[38;5;129;01min\u001b[39;00m text_test:\n\u001b[1;32m----> 6\u001b[0m     encoded_dict \u001b[38;5;241m=\u001b[39m tokenizer\u001b[38;5;241m.\u001b[39mencode_plus(\n\u001b[0;32m      7\u001b[0m                             i,\n\u001b[0;32m      8\u001b[0m                             add_special_tokens \u001b[38;5;241m=\u001b[39m \u001b[38;5;28;01mTrue\u001b[39;00m,\n\u001b[0;32m      9\u001b[0m                             max_length \u001b[38;5;241m=\u001b[39m \u001b[38;5;241m5000\u001b[39m,\n\u001b[0;32m     10\u001b[0m                             pad_to_max_length \u001b[38;5;241m=\u001b[39m \u001b[38;5;28;01mTrue\u001b[39;00m,\n\u001b[0;32m     11\u001b[0m                             return_attention_mask \u001b[38;5;241m=\u001b[39m \u001b[38;5;28;01mTrue\u001b[39;00m,\n\u001b[0;32m     12\u001b[0m                             truncation\u001b[38;5;241m=\u001b[39m\u001b[38;5;28;01mTrue\u001b[39;00m,\n\u001b[0;32m     13\u001b[0m                             return_tensors \u001b[38;5;241m=\u001b[39m \u001b[38;5;124m'\u001b[39m\u001b[38;5;124mnp\u001b[39m\u001b[38;5;124m'\u001b[39m\n\u001b[0;32m     14\u001b[0m                             )\n\u001b[0;32m     15\u001b[0m     input_text_test\u001b[38;5;241m.\u001b[39mappend(encoded_dict[\u001b[38;5;124m'\u001b[39m\u001b[38;5;124minput_ids\u001b[39m\u001b[38;5;124m'\u001b[39m])\n\u001b[0;32m     16\u001b[0m     attention_masks_test\u001b[38;5;241m.\u001b[39mappend(encoded_dict[\u001b[38;5;124m'\u001b[39m\u001b[38;5;124mattention_mask\u001b[39m\u001b[38;5;124m'\u001b[39m])\n",
      "\u001b[1;31mNameError\u001b[0m: name 'tokenizer' is not defined"
     ]
    }
   ],
   "source": [
    "input_text_test = []\n",
    "attention_masks_test = []\n",
    "input_text_test_tensor = []\n",
    "\n",
    "for i in text_test:\n",
    "    encoded_dict = tokenizer.encode_plus(\n",
    "                            i,\n",
    "                            add_special_tokens = True,\n",
    "                            max_length = 5000,\n",
    "                            pad_to_max_length = True,\n",
    "                            return_attention_mask = True,\n",
    "                            truncation=True,\n",
    "                            return_tensors = 'np'\n",
    "                            )\n",
    "    input_text_test.append(encoded_dict['input_ids'])\n",
    "    attention_masks_test.append(encoded_dict['attention_mask'])"
   ]
  },
  {
   "cell_type": "code",
   "execution_count": null,
   "id": "2076d41a",
   "metadata": {},
   "outputs": [],
   "source": [
    "output_tensor_test = []\n",
    "\n",
    "\n",
    "for i in df_test['image'].unique():   \n",
    "    img = Image.open('/kaggle/input/text-to-image/test_images/'+i).convert('RGB')\n",
    "    image_tensor = preprocess(img)\n",
    "    output_tensor_test.append(resnet(image_tensor.unsqueeze(0)).flatten().numpy())"
   ]
  },
  {
   "cell_type": "code",
   "execution_count": null,
   "id": "122a3917",
   "metadata": {},
   "outputs": [],
   "source": [
    "image_keys = df_test['image'].unique()"
   ]
  },
  {
   "cell_type": "code",
   "execution_count": null,
   "id": "7618128a",
   "metadata": {},
   "outputs": [],
   "source": [
    "len(output_tensor_test) "
   ]
  },
  {
   "cell_type": "code",
   "execution_count": null,
   "id": "b3c90a14",
   "metadata": {},
   "outputs": [],
   "source": [
    "def ten_texts(df):\n",
    "    texts = []\n",
    "    for i in range(0,10):\n",
    "        texts.append(df.iloc[rd.randint(0, 499)]['query_text'])\n",
    "    return texts"
   ]
  },
  {
   "cell_type": "code",
   "execution_count": null,
   "id": "93080cad",
   "metadata": {},
   "outputs": [],
   "source": [
    "our_texts = ten_texts(df_test)"
   ]
  },
  {
   "cell_type": "code",
   "execution_count": null,
   "id": "34928863",
   "metadata": {},
   "outputs": [],
   "source": [
    "our_texts[2]"
   ]
  },
  {
   "cell_type": "code",
   "execution_count": null,
   "id": "1f4cc788",
   "metadata": {},
   "outputs": [],
   "source": [
    "def conv_text(text):\n",
    "    corpus_one = lemma_clear(text)\n",
    "    if is_ban_word(corpus_one) == False:\n",
    "        print('This content is prohibited in some countries')\n",
    "    else:\n",
    "        encoded_dict_1 = tokenizer.encode_plus(\n",
    "                            corpus_one,\n",
    "                            add_special_tokens = True,\n",
    "                            max_length = 5000,\n",
    "                            pad_to_max_length = True,\n",
    "                            return_attention_mask = True,\n",
    "                            truncation=True,\n",
    "                            return_tensors = 'np'\n",
    "                            )\n",
    "        return np.repeat(encoded_dict_1['input_ids'], 100, axis=0)"
   ]
  },
  {
   "cell_type": "code",
   "execution_count": null,
   "id": "764cd5a4",
   "metadata": {},
   "outputs": [],
   "source": [
    "for i in range(len(our_texts)):\n",
    "    try:\n",
    "        testing_arr =  np.hstack([output_tensor_test, conv_text(our_texts[i])])\n",
    "        df_testing = pd.DataFrame(data=testing_arr)\n",
    "        preds = scaler.fit_transform(cb_grid.predict(df_testing).reshape(-1, 1))\n",
    "        df_testing['preds'] = preds\n",
    "        top_score = df_testing.sort_values(by='preds', ascending=False)['preds'].head(1)\n",
    "        img = Image.open(\"/kaggle/working/to_upload/test_images/\"+image_keys[top_score.index][0]).convert('RGB')\n",
    "        fig = plt.figure(figsize=(10,10))\n",
    "        fig.add_subplot(4, 4, i+1)\n",
    "        plt.imshow(img)\n",
    "        plt.xlabel(f'Description: {our_texts[i]}')\n",
    "        plt.xticks([])\n",
    "        plt.yticks([])\n",
    "        plt.tight_layout()\n",
    "    except:\n",
    "        print(' ')"
   ]
  },
  {
   "cell_type": "code",
   "execution_count": null,
   "id": "8d6174e1",
   "metadata": {},
   "outputs": [],
   "source": []
  },
  {
   "cell_type": "code",
   "execution_count": null,
   "id": "381851a7",
   "metadata": {},
   "outputs": [],
   "source": []
  },
  {
   "cell_type": "code",
   "execution_count": null,
   "id": "f5bc7abf",
   "metadata": {},
   "outputs": [],
   "source": []
  },
  {
   "cell_type": "code",
   "execution_count": null,
   "id": "fc4156a1",
   "metadata": {},
   "outputs": [],
   "source": []
  },
  {
   "cell_type": "code",
   "execution_count": null,
   "id": "c7e212bd",
   "metadata": {},
   "outputs": [],
   "source": []
  },
  {
   "cell_type": "code",
   "execution_count": null,
   "id": "19a0db58",
   "metadata": {},
   "outputs": [],
   "source": []
  },
  {
   "cell_type": "code",
   "execution_count": null,
   "id": "67c1812d",
   "metadata": {},
   "outputs": [],
   "source": [
    "output_tensor_test = []\n",
    "a = df_test['image'].unique()\n",
    "\n",
    "for i in a:\n",
    "    img = Image.open(os.path.join(data_folder, 'test_images', i)).convert('RGB')\n",
    "    image_tensor = preprocess(img)\n",
    "    output_tensor_test.append(resnet(image_tensor.unsqueeze(0)).flatten().numpy())"
   ]
  },
  {
   "cell_type": "code",
   "execution_count": null,
   "id": "2992252f",
   "metadata": {},
   "outputs": [],
   "source": [
    "print(f'Размер матрицы изображений: {len(output_tensor_test)} x {len(output_tensor_test[0])}')"
   ]
  },
  {
   "cell_type": "code",
   "execution_count": null,
   "id": "697b9468",
   "metadata": {},
   "outputs": [],
   "source": [
    "def ten_texts(df):\n",
    "    texts = []\n",
    "    for i in range(0,10):\n",
    "        texts.append(df.iloc[rd.randint(0, 499)]['query_text'])\n",
    "    return texts"
   ]
  },
  {
   "cell_type": "code",
   "execution_count": null,
   "id": "e6890a61",
   "metadata": {},
   "outputs": [],
   "source": [
    "our_texts = ten_texts(df_test)"
   ]
  },
  {
   "cell_type": "code",
   "execution_count": null,
   "id": "3c0f8fc4",
   "metadata": {},
   "outputs": [],
   "source": [
    "def conv_text(texts):\n",
    "    for text in texts:\n",
    "        corpus_one = lemma_clear(text)\n",
    "        image_keys = df_test['image'].unique()\n",
    "        if is_ban_word(corpus_one) == False:\n",
    "            print('This content is prohibited in some countries')\n",
    "        else:\n",
    "            vectorized_test_texts = pd.DataFrame(\n",
    "                np.concatenate(make_embed(text)))\n",
    "            dffff =  np.hstack([np.vstack(output_tensor_test), np.repeat(np.transpose(vectorized_test_texts), 100, axis=0)])\n",
    "            dff2 = pd.DataFrame(data=dffff, index=a)\n",
    "            preds = cb_grid.predict(dff2)\n",
    "            dff2['preds'] = preds\n",
    "            top_score = dff2.sort_values(by='preds', ascending=False)['preds'].head(10)\n",
    "            img = Image.open(os.path.join(data_folder, 'test_images', top_score.index[0])).convert('RGB')\n",
    "            imgplot = plt.imshow(img)\n",
    "            plt.xticks([])\n",
    "            plt.yticks([])\n",
    "            plt.xlabel(f'{text} оценка сходимости: {round(top_score[0], 3)}')\n",
    "            plt.tight_layout()\n",
    "            plt.show()"
   ]
  },
  {
   "cell_type": "code",
   "execution_count": null,
   "id": "f4ac9b2a",
   "metadata": {},
   "outputs": [],
   "source": [
    "conv_text(our_texts)"
   ]
  },
  {
   "cell_type": "code",
   "execution_count": null,
   "id": "23464668",
   "metadata": {},
   "outputs": [],
   "source": []
  },
  {
   "cell_type": "code",
   "execution_count": null,
   "id": "9593a902",
   "metadata": {},
   "outputs": [],
   "source": []
  },
  {
   "cell_type": "code",
   "execution_count": null,
   "id": "19f1fb11",
   "metadata": {},
   "outputs": [],
   "source": []
  },
  {
   "cell_type": "code",
   "execution_count": null,
   "id": "66bb98cb",
   "metadata": {},
   "outputs": [],
   "source": []
  },
  {
   "cell_type": "code",
   "execution_count": 115,
   "id": "d0424550",
   "metadata": {},
   "outputs": [],
   "source": [
    "def ten_texts():\n",
    "    texts = []\n",
    "    for i in range(0,10):\n",
    "        texts.append(test_queries.iloc[rd.randint(0, 499)]['query_text'])\n",
    "    return texts"
   ]
  },
  {
   "cell_type": "code",
   "execution_count": 116,
   "id": "b955a747",
   "metadata": {},
   "outputs": [],
   "source": [
    "\n",
    "def conv_text(text):\n",
    "    corpus_one = lemma_clear(text)\n",
    "    corpus = []\n",
    "    #print(corpus_one)\n",
    "    #print(is_ban_word(corpus_one))\n",
    "    if not is_ban_word(corpus_one):\n",
    "        return None\n",
    "    else:\n",
    "        #tf_idf_one = count_tf_idf.transform(corpus)\n",
    "        for i in range(0,100):\n",
    "            corpus.append(corpus_one)\n",
    "        tf_idf_one = count_tf_idf.transform(corpus)\n",
    "        return(np.hstack([np.vstack(test_images_vec), tf_idf_one.toarray()]))\n",
    "        #return(tf_idf_one)\n",
    "#conv_text('A young man is wearing blue goggles')"
   ]
  },
  {
   "cell_type": "code",
   "execution_count": 117,
   "id": "84260a78",
   "metadata": {},
   "outputs": [
    {
     "name": "stdout",
     "output_type": "stream",
     "text": [
      "Two women are operating a laptop connected to a camera in a parking lot with a third person standing by .\n",
      "В запросе присутствует запретное слово!\n",
      "A little blond boy and a young woman in jeans walk through a plaza .\n",
      "В запросе присутствует запретное слово!\n",
      "A little girl with her hands in the air is sitting on a man 's back while he is laying on a blanket .\n",
      "В запросе присутствует запретное слово!\n",
      "Three riders wearing black jerseys jump their BMX bikes into the air .\n",
      "В запросе присутствует запретное слово!\n",
      "A dog jumping for a tennis ball near an ocean\n",
      "В запросе присутствует запретное слово!\n",
      "A man feeding a horse wearing a blue strapped blanket .\n",
      "В запросе присутствует запретное слово!\n",
      "A group of men stands near a tree as a racing car stirs up a cloud of dust on the gravel road beside them .\n",
      "В запросе присутствует запретное слово!\n",
      "Three little boys standing next to and on a fence .\n",
      "В запросе присутствует запретное слово!\n",
      "a brown and white dog jumps on the sidewalk .\n",
      "В запросе присутствует запретное слово!\n",
      "Two people are running at the top of a mountain .\n",
      "В запросе присутствует запретное слово!\n"
     ]
    }
   ],
   "source": [
    "for item in ten_texts():\n",
    "    print(item)\n",
    "    try:\n",
    "        mass = conv_text(item)\n",
    "        res = net.forward(torch.FloatTensor(mass)).flatten().detach().numpy()\n",
    "        #print(res)\n",
    "        print(res.argmax())\n",
    "        #print(mass.shape)\n",
    "    except:\n",
    "        print('В запросе присутствует запретное слово!')"
   ]
  },
  {
   "cell_type": "code",
   "execution_count": null,
   "id": "84a28c3f",
   "metadata": {},
   "outputs": [],
   "source": []
  },
  {
   "cell_type": "code",
   "execution_count": null,
   "id": "51a64d39",
   "metadata": {},
   "outputs": [],
   "source": []
  },
  {
   "cell_type": "markdown",
   "id": "fab1345a",
   "metadata": {
    "cellId": "dnvdkzzxdpet1yc4m64cx",
    "execution_id": "3e367f6a-97e3-4ed7-9b73-39ed363fd2b7",
    "id": "fab1345a"
   },
   "source": [
    "## 8. Выводы\n",
    "\n",
    "- Jupyter Notebook открыт\n",
    "- Весь код выполняется без ошибок\n",
    "- Ячейки с кодом расположены в порядке исполнения\n",
    "- Исследовательский анализ данных выполнен\n",
    "- Проверены экспертные оценки и краудсорсинговые оценки\n",
    "- Из датасета исключены те объекты, которые выходят за рамки юридических ограничений\n",
    "- Изображения векторизованы\n",
    "- Текстовые запросы векторизованы\n",
    "- Данные корректно разбиты на тренировочную и тестовую выборки\n",
    "- Предложена метрика качества работы модели\n",
    "- Предложена модель схожести изображений и текстового запроса\n",
    "- Модель обучена\n",
    "- По итогам обучения модели сделаны выводы\n",
    "- Проведено тестирование работы модели\n",
    "- По итогам тестирования визуально сравнили качество поиска"
   ]
  }
 ],
 "metadata": {
  "celltoolbar": "Отсутствует",
  "colab": {
   "provenance": []
  },
  "kernelspec": {
   "display_name": "Python 3 (ipykernel)",
   "language": "python",
   "name": "python3"
  },
  "language_info": {
   "codemirror_mode": {
    "name": "ipython",
    "version": 3
   },
   "file_extension": ".py",
   "mimetype": "text/x-python",
   "name": "python",
   "nbconvert_exporter": "python",
   "pygments_lexer": "ipython3",
   "version": "3.11.3"
  },
  "notebookId": "e47b60f7-b2b4-44ee-beb3-b44a93eaf068",
  "notebookPath": "precode.ipynb",
  "toc": {
   "base_numbering": 1,
   "nav_menu": {},
   "number_sections": true,
   "sideBar": true,
   "skip_h1_title": true,
   "title_cell": "Table of Contents",
   "title_sidebar": "Contents",
   "toc_cell": false,
   "toc_position": {
    "height": "calc(100% - 180px)",
    "left": "10px",
    "top": "150px",
    "width": "319.444px"
   },
   "toc_section_display": true,
   "toc_window_display": true
  }
 },
 "nbformat": 4,
 "nbformat_minor": 5
}
